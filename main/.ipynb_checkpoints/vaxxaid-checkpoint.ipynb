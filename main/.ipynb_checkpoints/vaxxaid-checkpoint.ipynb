{
 "cells": [
  {
   "cell_type": "markdown",
   "metadata": {},
   "source": [
    "# vaxxAId\n",
    "\n",
    "**VaxxAId** aims to cluster and find similarities among patients who experienced COVID-19 vaccine adverse reactions or side effects based on the reports from the Vaccine Adverse Event Reporting System (VAERS). This would aid in the identification and classification of patients at risk of such effects. It will use the **K-modes clustering algorithm** to cluster the reports based on features such as patient outcomes, demographics, type of vaccine received, etc.\n",
    "\n",
    "This project is developed by:\n",
    "- Rene Lee Aquitania\n",
    "- Alyssa Beatrice Diokno\n",
    "- Derryn Joi Martirez\n",
    "- Marie Isabel Yao"
   ]
  },
  {
   "cell_type": "markdown",
   "metadata": {},
   "source": [
    "## PART 1: Data Preprocessing\n",
    "\n",
    "### PART 1.1: Importing the Libraries\n",
    "\n",
    "Before running the code below, make sure to install the following libraries using `conda install <package-name>`: \n",
    "- `pandas`\n",
    "- `numpy`\n",
    "- `matplotlib`\n",
    "- `seaborn`\n",
    "- `sklearn`\n",
    "\n",
    "Install the following libraries as well using `pip install <package-name>`:\n",
    "- `kmodes`\n",
    "- `kneed`"
   ]
  },
  {
   "cell_type": "code",
   "execution_count": 1,
   "metadata": {},
   "outputs": [],
   "source": [
    "# Importing libraries\n",
    "\n",
    "import pandas as pd\n",
    "import numpy as np\n",
    "import math\n",
    "import matplotlib.pyplot as plt\n",
    "import seaborn as sns\n",
    "import sklearn\n",
    "# import ipynb.fs.defs.utils as utils\n",
    "\n",
    "from kmodes.kmodes import KModes\n",
    "from sklearn import metrics\n",
    "from sklearn.preprocessing import LabelEncoder\n",
    "from kneed import KneeLocator"
   ]
  },
  {
   "cell_type": "markdown",
   "metadata": {},
   "source": [
    "### PART 1.2: Data Cleaning"
   ]
  },
  {
   "cell_type": "markdown",
   "metadata": {},
   "source": [
    "We start by reading the following CSV files into separate dataframes. For each year, we have patient data and vaccine data from two dataframes that can be joined on the key `VAERS_ID`."
   ]
  },
  {
   "cell_type": "code",
   "execution_count": 2,
   "metadata": {},
   "outputs": [
    {
     "name": "stderr",
     "output_type": "stream",
     "text": [
      "/var/folders/ww/xzmblx5526d50h6qrkfxgwrw0000gn/T/ipykernel_1789/2851924540.py:1: DtypeWarning: Columns (7,12,23) have mixed types. Specify dtype option on import or set low_memory=False.\n",
      "  patients2021 = pd.read_csv('../data/2021VAERSDATA.csv', encoding='latin1')\n",
      "/var/folders/ww/xzmblx5526d50h6qrkfxgwrw0000gn/T/ipykernel_1789/2851924540.py:4: DtypeWarning: Columns (7,12,23) have mixed types. Specify dtype option on import or set low_memory=False.\n",
      "  patients2022 = pd.read_csv('../data/2022VAERSDATA.csv', encoding='latin1')\n"
     ]
    }
   ],
   "source": [
    "patients2021 = pd.read_csv('../data/2021VAERSDATA.csv', encoding='latin1')\n",
    "vaccine2021 = pd.read_csv('../data/2021VAERSVAX.csv', encoding='latin1')\n",
    "\n",
    "patients2022 = pd.read_csv('../data/2022VAERSDATA.csv', encoding='latin1')\n",
    "vaccine2022 = pd.read_csv('../data/2022VAERSVAX.csv', encoding='latin1')\n",
    "\n",
    "# Joining the dataframes on VAERS_ID\n",
    "patients2021 = patients2021.join(vaccine2021.set_index('VAERS_ID'), on='VAERS_ID', how='inner')\n",
    "patients2022 = patients2022.join(vaccine2022.set_index('VAERS_ID'), on='VAERS_ID', how='inner')"
   ]
  },
  {
   "cell_type": "markdown",
   "metadata": {},
   "source": [
    "Since the datasets may contain reports on adverse effects of other FDA-approved vaccines, we only keep rows where the vaccine type is COVID-19. Finally, we concatenate the 2021 and 2022 dataframes."
   ]
  },
  {
   "cell_type": "code",
   "execution_count": 3,
   "metadata": {},
   "outputs": [
    {
     "data": {
      "text/html": [
       "<div>\n",
       "<style scoped>\n",
       "    .dataframe tbody tr th:only-of-type {\n",
       "        vertical-align: middle;\n",
       "    }\n",
       "\n",
       "    .dataframe tbody tr th {\n",
       "        vertical-align: top;\n",
       "    }\n",
       "\n",
       "    .dataframe thead th {\n",
       "        text-align: right;\n",
       "    }\n",
       "</style>\n",
       "<table border=\"1\" class=\"dataframe\">\n",
       "  <thead>\n",
       "    <tr style=\"text-align: right;\">\n",
       "      <th></th>\n",
       "      <th>VAERS_ID</th>\n",
       "      <th>AGE_YRS</th>\n",
       "      <th>SEX</th>\n",
       "      <th>DIED</th>\n",
       "      <th>L_THREAT</th>\n",
       "      <th>ER_VISIT</th>\n",
       "      <th>HOSPITAL</th>\n",
       "      <th>DISABLE</th>\n",
       "      <th>BIRTH_DEFECT</th>\n",
       "      <th>RECOVD</th>\n",
       "      <th>V_ADMINBY</th>\n",
       "      <th>VAX_MANU</th>\n",
       "      <th>VAX_SITE</th>\n",
       "      <th>VAX_ROUTE</th>\n",
       "    </tr>\n",
       "  </thead>\n",
       "  <tbody>\n",
       "    <tr>\n",
       "      <th>0</th>\n",
       "      <td>916600</td>\n",
       "      <td>33.0</td>\n",
       "      <td>F</td>\n",
       "      <td>NaN</td>\n",
       "      <td>NaN</td>\n",
       "      <td>NaN</td>\n",
       "      <td>NaN</td>\n",
       "      <td>NaN</td>\n",
       "      <td>NaN</td>\n",
       "      <td>Y</td>\n",
       "      <td>PVT</td>\n",
       "      <td>MODERNA</td>\n",
       "      <td>LA</td>\n",
       "      <td>IM</td>\n",
       "    </tr>\n",
       "    <tr>\n",
       "      <th>1</th>\n",
       "      <td>916601</td>\n",
       "      <td>73.0</td>\n",
       "      <td>F</td>\n",
       "      <td>NaN</td>\n",
       "      <td>NaN</td>\n",
       "      <td>NaN</td>\n",
       "      <td>NaN</td>\n",
       "      <td>NaN</td>\n",
       "      <td>NaN</td>\n",
       "      <td>Y</td>\n",
       "      <td>SEN</td>\n",
       "      <td>MODERNA</td>\n",
       "      <td>RA</td>\n",
       "      <td>IM</td>\n",
       "    </tr>\n",
       "    <tr>\n",
       "      <th>2</th>\n",
       "      <td>916602</td>\n",
       "      <td>23.0</td>\n",
       "      <td>F</td>\n",
       "      <td>NaN</td>\n",
       "      <td>NaN</td>\n",
       "      <td>NaN</td>\n",
       "      <td>NaN</td>\n",
       "      <td>NaN</td>\n",
       "      <td>NaN</td>\n",
       "      <td>U</td>\n",
       "      <td>SEN</td>\n",
       "      <td>PFIZER\\BIONTECH</td>\n",
       "      <td>LA</td>\n",
       "      <td>IM</td>\n",
       "    </tr>\n",
       "    <tr>\n",
       "      <th>3</th>\n",
       "      <td>916603</td>\n",
       "      <td>58.0</td>\n",
       "      <td>F</td>\n",
       "      <td>NaN</td>\n",
       "      <td>NaN</td>\n",
       "      <td>NaN</td>\n",
       "      <td>NaN</td>\n",
       "      <td>NaN</td>\n",
       "      <td>NaN</td>\n",
       "      <td>Y</td>\n",
       "      <td>WRK</td>\n",
       "      <td>MODERNA</td>\n",
       "      <td>NaN</td>\n",
       "      <td>NaN</td>\n",
       "    </tr>\n",
       "    <tr>\n",
       "      <th>4</th>\n",
       "      <td>916604</td>\n",
       "      <td>47.0</td>\n",
       "      <td>F</td>\n",
       "      <td>NaN</td>\n",
       "      <td>NaN</td>\n",
       "      <td>NaN</td>\n",
       "      <td>NaN</td>\n",
       "      <td>NaN</td>\n",
       "      <td>NaN</td>\n",
       "      <td>N</td>\n",
       "      <td>PUB</td>\n",
       "      <td>MODERNA</td>\n",
       "      <td>LA</td>\n",
       "      <td>IM</td>\n",
       "    </tr>\n",
       "    <tr>\n",
       "      <th>...</th>\n",
       "      <td>...</td>\n",
       "      <td>...</td>\n",
       "      <td>...</td>\n",
       "      <td>...</td>\n",
       "      <td>...</td>\n",
       "      <td>...</td>\n",
       "      <td>...</td>\n",
       "      <td>...</td>\n",
       "      <td>...</td>\n",
       "      <td>...</td>\n",
       "      <td>...</td>\n",
       "      <td>...</td>\n",
       "      <td>...</td>\n",
       "      <td>...</td>\n",
       "    </tr>\n",
       "    <tr>\n",
       "      <th>115774</th>\n",
       "      <td>2265774</td>\n",
       "      <td>27.0</td>\n",
       "      <td>F</td>\n",
       "      <td>NaN</td>\n",
       "      <td>NaN</td>\n",
       "      <td>NaN</td>\n",
       "      <td>NaN</td>\n",
       "      <td>NaN</td>\n",
       "      <td>NaN</td>\n",
       "      <td>NaN</td>\n",
       "      <td>UNK</td>\n",
       "      <td>PFIZER\\BIONTECH</td>\n",
       "      <td>RA</td>\n",
       "      <td>IM</td>\n",
       "    </tr>\n",
       "    <tr>\n",
       "      <th>115775</th>\n",
       "      <td>2265775</td>\n",
       "      <td>73.0</td>\n",
       "      <td>M</td>\n",
       "      <td>NaN</td>\n",
       "      <td>NaN</td>\n",
       "      <td>NaN</td>\n",
       "      <td>Y</td>\n",
       "      <td>NaN</td>\n",
       "      <td>NaN</td>\n",
       "      <td>N</td>\n",
       "      <td>PHM</td>\n",
       "      <td>MODERNA</td>\n",
       "      <td>RA</td>\n",
       "      <td>IM</td>\n",
       "    </tr>\n",
       "    <tr>\n",
       "      <th>115776</th>\n",
       "      <td>2265776</td>\n",
       "      <td>23.0</td>\n",
       "      <td>F</td>\n",
       "      <td>NaN</td>\n",
       "      <td>NaN</td>\n",
       "      <td>NaN</td>\n",
       "      <td>NaN</td>\n",
       "      <td>NaN</td>\n",
       "      <td>NaN</td>\n",
       "      <td>Y</td>\n",
       "      <td>PHM</td>\n",
       "      <td>PFIZER\\BIONTECH</td>\n",
       "      <td>LA</td>\n",
       "      <td>IM</td>\n",
       "    </tr>\n",
       "    <tr>\n",
       "      <th>115777</th>\n",
       "      <td>2265777</td>\n",
       "      <td>50.0</td>\n",
       "      <td>M</td>\n",
       "      <td>NaN</td>\n",
       "      <td>NaN</td>\n",
       "      <td>NaN</td>\n",
       "      <td>NaN</td>\n",
       "      <td>NaN</td>\n",
       "      <td>NaN</td>\n",
       "      <td>Y</td>\n",
       "      <td>PHM</td>\n",
       "      <td>PFIZER\\BIONTECH</td>\n",
       "      <td>LA</td>\n",
       "      <td>IM</td>\n",
       "    </tr>\n",
       "    <tr>\n",
       "      <th>115779</th>\n",
       "      <td>2265779</td>\n",
       "      <td>48.0</td>\n",
       "      <td>F</td>\n",
       "      <td>NaN</td>\n",
       "      <td>NaN</td>\n",
       "      <td>NaN</td>\n",
       "      <td>NaN</td>\n",
       "      <td>NaN</td>\n",
       "      <td>NaN</td>\n",
       "      <td>Y</td>\n",
       "      <td>PHM</td>\n",
       "      <td>MODERNA</td>\n",
       "      <td>LA</td>\n",
       "      <td>IM</td>\n",
       "    </tr>\n",
       "  </tbody>\n",
       "</table>\n",
       "<p>149704 rows × 14 columns</p>\n",
       "</div>"
      ],
      "text/plain": [
       "        VAERS_ID  AGE_YRS SEX DIED L_THREAT ER_VISIT HOSPITAL DISABLE  \\\n",
       "0         916600     33.0   F  NaN      NaN      NaN      NaN     NaN   \n",
       "1         916601     73.0   F  NaN      NaN      NaN      NaN     NaN   \n",
       "2         916602     23.0   F  NaN      NaN      NaN      NaN     NaN   \n",
       "3         916603     58.0   F  NaN      NaN      NaN      NaN     NaN   \n",
       "4         916604     47.0   F  NaN      NaN      NaN      NaN     NaN   \n",
       "...          ...      ...  ..  ...      ...      ...      ...     ...   \n",
       "115774   2265774     27.0   F  NaN      NaN      NaN      NaN     NaN   \n",
       "115775   2265775     73.0   M  NaN      NaN      NaN        Y     NaN   \n",
       "115776   2265776     23.0   F  NaN      NaN      NaN      NaN     NaN   \n",
       "115777   2265777     50.0   M  NaN      NaN      NaN      NaN     NaN   \n",
       "115779   2265779     48.0   F  NaN      NaN      NaN      NaN     NaN   \n",
       "\n",
       "       BIRTH_DEFECT RECOVD V_ADMINBY         VAX_MANU VAX_SITE VAX_ROUTE  \n",
       "0               NaN      Y       PVT          MODERNA       LA        IM  \n",
       "1               NaN      Y       SEN          MODERNA       RA        IM  \n",
       "2               NaN      U       SEN  PFIZER\\BIONTECH       LA        IM  \n",
       "3               NaN      Y       WRK          MODERNA      NaN       NaN  \n",
       "4               NaN      N       PUB          MODERNA       LA        IM  \n",
       "...             ...    ...       ...              ...      ...       ...  \n",
       "115774          NaN    NaN       UNK  PFIZER\\BIONTECH       RA        IM  \n",
       "115775          NaN      N       PHM          MODERNA       RA        IM  \n",
       "115776          NaN      Y       PHM  PFIZER\\BIONTECH       LA        IM  \n",
       "115777          NaN      Y       PHM  PFIZER\\BIONTECH       LA        IM  \n",
       "115779          NaN      Y       PHM          MODERNA       LA        IM  \n",
       "\n",
       "[149704 rows x 14 columns]"
      ]
     },
     "execution_count": 3,
     "metadata": {},
     "output_type": "execute_result"
    }
   ],
   "source": [
    "patients2021 = patients2021[patients2021['VAX_TYPE']=='COVID19']\n",
    "patients2022 = patients2022[patients2022['VAX_TYPE']=='COVID19']\n",
    "\n",
    "patients = pd.concat([patients2021, patients2022], axis=0)\n",
    "\n",
    "features = [\n",
    "    'VAERS_ID','AGE_YRS','SEX','DIED','L_THREAT',\n",
    "    'ER_VISIT','HOSPITAL','DISABLE','BIRTH_DEFECT','RECOVD',\n",
    "    'V_ADMINBY','VAX_TYPE','VAX_MANU','VAX_SITE','VAX_ROUTE'\n",
    "    ]\n",
    "    \n",
    "patients = patients[features]\n",
    "\n",
    "patients = patients.drop(['VAX_TYPE'],axis=1)\n",
    "\n",
    "patients.to_csv('../data/20212022DATA.csv', index=False)\n",
    "\n",
    "patients_df = pd.read_csv('../data/20212022DATA.csv', encoding='latin1')\n",
    "\n",
    "patients"
   ]
  },
  {
   "cell_type": "markdown",
   "metadata": {},
   "source": [
    "Described in the following table are the attributes for the clustering process. All of these are categorical data.\n",
    "\n",
    "| Attributes | Data Type | Description |\n",
    "| ---------- | --------- | ----------- |\n",
    "| `AGE_GRP`      | range     | Age group                                                   |\n",
    "| `SEX`          | char(1)   | Sex                                                         |\n",
    "| `DIED`         | char(1)   | Adverse effect caused death of the patient                  |\n",
    "| `L_THREAT`     | char(1)   | Life-threatening event associated with the vaccination      |\n",
    "| `ER_VISIT`     | char(1)   | Patient required ER visit after experiencing adverse effect |\n",
    "| `HOSPITAL`     | char(1)   | Patient was hospitalized after experiencing adverse effect  |\n",
    "| `DISABLE`      | char(1)   | Patient was disabled after experiencing adverse effect      |\n",
    "| `BIRTH_DEFECT` | char(1)   | Patient has birth defect                                    |\n",
    "| `RECOVD`       | char(1)   | Patient recovered from adverse effect                       |\n",
    "| `V_ADMINBY`    | char(3)   | Vaccine administered at                                     |\n",
    "| `VAX_MANU`     | char(40)  | Vaccine manufacterer                                        |\n",
    "| `VAX_SITE`     | char(6)   | Vaccination anatomic site                                   |\n",
    "| `VAX_ROUTE`    | char(6)   | Vaccine route of administration                             |"
   ]
  },
  {
   "cell_type": "markdown",
   "metadata": {},
   "source": [
    "The following function further cleans the data in the specified columns as some null values are equal to `\"N\"` (for the yes or no attributes):\n",
    "- `AGE_GRP`: maps `AGE_YRS` into an age group\n",
    "- `DIED`: replaces null values with `N`\n",
    "- `L_THREAT`: replaces null values with `N`\n",
    "- `ER_VISIT`: replaces null values with `N`\n",
    "- `HOSPITAL`: replaces null values with `N`\n",
    "- `DISABLE`: replaces null values with `N`\n",
    "- `BIRTH_DEFECT`: replaces null values with `N`\n",
    "\n",
    "After passing the dataframe into the `replace_values` function, the only null values left in the dataframe are actual null values which we can drop."
   ]
  },
  {
   "cell_type": "code",
   "execution_count": 4,
   "metadata": {},
   "outputs": [
    {
     "data": {
      "text/html": [
       "<div>\n",
       "<style scoped>\n",
       "    .dataframe tbody tr th:only-of-type {\n",
       "        vertical-align: middle;\n",
       "    }\n",
       "\n",
       "    .dataframe tbody tr th {\n",
       "        vertical-align: top;\n",
       "    }\n",
       "\n",
       "    .dataframe thead th {\n",
       "        text-align: right;\n",
       "    }\n",
       "</style>\n",
       "<table border=\"1\" class=\"dataframe\">\n",
       "  <thead>\n",
       "    <tr style=\"text-align: right;\">\n",
       "      <th></th>\n",
       "      <th>VAERS_ID</th>\n",
       "      <th>SEX</th>\n",
       "      <th>DIED</th>\n",
       "      <th>L_THREAT</th>\n",
       "      <th>ER_VISIT</th>\n",
       "      <th>HOSPITAL</th>\n",
       "      <th>DISABLE</th>\n",
       "      <th>BIRTH_DEFECT</th>\n",
       "      <th>RECOVD</th>\n",
       "      <th>V_ADMINBY</th>\n",
       "      <th>VAX_MANU</th>\n",
       "      <th>VAX_SITE</th>\n",
       "      <th>VAX_ROUTE</th>\n",
       "      <th>AGE_GRP</th>\n",
       "    </tr>\n",
       "  </thead>\n",
       "  <tbody>\n",
       "    <tr>\n",
       "      <th>0</th>\n",
       "      <td>916600</td>\n",
       "      <td>F</td>\n",
       "      <td>N</td>\n",
       "      <td>N</td>\n",
       "      <td>N</td>\n",
       "      <td>N</td>\n",
       "      <td>N</td>\n",
       "      <td>N</td>\n",
       "      <td>Y</td>\n",
       "      <td>PVT</td>\n",
       "      <td>MODERNA</td>\n",
       "      <td>LA</td>\n",
       "      <td>IM</td>\n",
       "      <td>(30, 40]</td>\n",
       "    </tr>\n",
       "    <tr>\n",
       "      <th>1</th>\n",
       "      <td>916601</td>\n",
       "      <td>F</td>\n",
       "      <td>N</td>\n",
       "      <td>N</td>\n",
       "      <td>N</td>\n",
       "      <td>N</td>\n",
       "      <td>N</td>\n",
       "      <td>N</td>\n",
       "      <td>Y</td>\n",
       "      <td>SEN</td>\n",
       "      <td>MODERNA</td>\n",
       "      <td>RA</td>\n",
       "      <td>IM</td>\n",
       "      <td>(70, 80]</td>\n",
       "    </tr>\n",
       "    <tr>\n",
       "      <th>2</th>\n",
       "      <td>916602</td>\n",
       "      <td>F</td>\n",
       "      <td>N</td>\n",
       "      <td>N</td>\n",
       "      <td>N</td>\n",
       "      <td>N</td>\n",
       "      <td>N</td>\n",
       "      <td>N</td>\n",
       "      <td>U</td>\n",
       "      <td>SEN</td>\n",
       "      <td>PFIZER\\BIONTECH</td>\n",
       "      <td>LA</td>\n",
       "      <td>IM</td>\n",
       "      <td>(20, 30]</td>\n",
       "    </tr>\n",
       "    <tr>\n",
       "      <th>3</th>\n",
       "      <td>916603</td>\n",
       "      <td>F</td>\n",
       "      <td>N</td>\n",
       "      <td>N</td>\n",
       "      <td>N</td>\n",
       "      <td>N</td>\n",
       "      <td>N</td>\n",
       "      <td>N</td>\n",
       "      <td>Y</td>\n",
       "      <td>WRK</td>\n",
       "      <td>MODERNA</td>\n",
       "      <td>NaN</td>\n",
       "      <td>NaN</td>\n",
       "      <td>(50, 60]</td>\n",
       "    </tr>\n",
       "    <tr>\n",
       "      <th>4</th>\n",
       "      <td>916604</td>\n",
       "      <td>F</td>\n",
       "      <td>N</td>\n",
       "      <td>N</td>\n",
       "      <td>N</td>\n",
       "      <td>N</td>\n",
       "      <td>N</td>\n",
       "      <td>N</td>\n",
       "      <td>N</td>\n",
       "      <td>PUB</td>\n",
       "      <td>MODERNA</td>\n",
       "      <td>LA</td>\n",
       "      <td>IM</td>\n",
       "      <td>(40, 50]</td>\n",
       "    </tr>\n",
       "    <tr>\n",
       "      <th>...</th>\n",
       "      <td>...</td>\n",
       "      <td>...</td>\n",
       "      <td>...</td>\n",
       "      <td>...</td>\n",
       "      <td>...</td>\n",
       "      <td>...</td>\n",
       "      <td>...</td>\n",
       "      <td>...</td>\n",
       "      <td>...</td>\n",
       "      <td>...</td>\n",
       "      <td>...</td>\n",
       "      <td>...</td>\n",
       "      <td>...</td>\n",
       "      <td>...</td>\n",
       "    </tr>\n",
       "    <tr>\n",
       "      <th>115774</th>\n",
       "      <td>2265774</td>\n",
       "      <td>F</td>\n",
       "      <td>N</td>\n",
       "      <td>N</td>\n",
       "      <td>N</td>\n",
       "      <td>N</td>\n",
       "      <td>N</td>\n",
       "      <td>N</td>\n",
       "      <td>NaN</td>\n",
       "      <td>UNK</td>\n",
       "      <td>PFIZER\\BIONTECH</td>\n",
       "      <td>RA</td>\n",
       "      <td>IM</td>\n",
       "      <td>(20, 30]</td>\n",
       "    </tr>\n",
       "    <tr>\n",
       "      <th>115775</th>\n",
       "      <td>2265775</td>\n",
       "      <td>M</td>\n",
       "      <td>N</td>\n",
       "      <td>N</td>\n",
       "      <td>N</td>\n",
       "      <td>Y</td>\n",
       "      <td>N</td>\n",
       "      <td>N</td>\n",
       "      <td>N</td>\n",
       "      <td>PHM</td>\n",
       "      <td>MODERNA</td>\n",
       "      <td>RA</td>\n",
       "      <td>IM</td>\n",
       "      <td>(70, 80]</td>\n",
       "    </tr>\n",
       "    <tr>\n",
       "      <th>115776</th>\n",
       "      <td>2265776</td>\n",
       "      <td>F</td>\n",
       "      <td>N</td>\n",
       "      <td>N</td>\n",
       "      <td>N</td>\n",
       "      <td>N</td>\n",
       "      <td>N</td>\n",
       "      <td>N</td>\n",
       "      <td>Y</td>\n",
       "      <td>PHM</td>\n",
       "      <td>PFIZER\\BIONTECH</td>\n",
       "      <td>LA</td>\n",
       "      <td>IM</td>\n",
       "      <td>(20, 30]</td>\n",
       "    </tr>\n",
       "    <tr>\n",
       "      <th>115777</th>\n",
       "      <td>2265777</td>\n",
       "      <td>M</td>\n",
       "      <td>N</td>\n",
       "      <td>N</td>\n",
       "      <td>N</td>\n",
       "      <td>N</td>\n",
       "      <td>N</td>\n",
       "      <td>N</td>\n",
       "      <td>Y</td>\n",
       "      <td>PHM</td>\n",
       "      <td>PFIZER\\BIONTECH</td>\n",
       "      <td>LA</td>\n",
       "      <td>IM</td>\n",
       "      <td>(40, 50]</td>\n",
       "    </tr>\n",
       "    <tr>\n",
       "      <th>115779</th>\n",
       "      <td>2265779</td>\n",
       "      <td>F</td>\n",
       "      <td>N</td>\n",
       "      <td>N</td>\n",
       "      <td>N</td>\n",
       "      <td>N</td>\n",
       "      <td>N</td>\n",
       "      <td>N</td>\n",
       "      <td>Y</td>\n",
       "      <td>PHM</td>\n",
       "      <td>MODERNA</td>\n",
       "      <td>LA</td>\n",
       "      <td>IM</td>\n",
       "      <td>(40, 50]</td>\n",
       "    </tr>\n",
       "  </tbody>\n",
       "</table>\n",
       "<p>149704 rows × 14 columns</p>\n",
       "</div>"
      ],
      "text/plain": [
       "        VAERS_ID SEX DIED L_THREAT ER_VISIT HOSPITAL DISABLE BIRTH_DEFECT  \\\n",
       "0         916600   F    N        N        N        N       N            N   \n",
       "1         916601   F    N        N        N        N       N            N   \n",
       "2         916602   F    N        N        N        N       N            N   \n",
       "3         916603   F    N        N        N        N       N            N   \n",
       "4         916604   F    N        N        N        N       N            N   \n",
       "...          ...  ..  ...      ...      ...      ...     ...          ...   \n",
       "115774   2265774   F    N        N        N        N       N            N   \n",
       "115775   2265775   M    N        N        N        Y       N            N   \n",
       "115776   2265776   F    N        N        N        N       N            N   \n",
       "115777   2265777   M    N        N        N        N       N            N   \n",
       "115779   2265779   F    N        N        N        N       N            N   \n",
       "\n",
       "       RECOVD V_ADMINBY         VAX_MANU VAX_SITE VAX_ROUTE   AGE_GRP  \n",
       "0           Y       PVT          MODERNA       LA        IM  (30, 40]  \n",
       "1           Y       SEN          MODERNA       RA        IM  (70, 80]  \n",
       "2           U       SEN  PFIZER\\BIONTECH       LA        IM  (20, 30]  \n",
       "3           Y       WRK          MODERNA      NaN       NaN  (50, 60]  \n",
       "4           N       PUB          MODERNA       LA        IM  (40, 50]  \n",
       "...       ...       ...              ...      ...       ...       ...  \n",
       "115774    NaN       UNK  PFIZER\\BIONTECH       RA        IM  (20, 30]  \n",
       "115775      N       PHM          MODERNA       RA        IM  (70, 80]  \n",
       "115776      Y       PHM  PFIZER\\BIONTECH       LA        IM  (20, 30]  \n",
       "115777      Y       PHM  PFIZER\\BIONTECH       LA        IM  (40, 50]  \n",
       "115779      Y       PHM          MODERNA       LA        IM  (40, 50]  \n",
       "\n",
       "[149704 rows x 14 columns]"
      ]
     },
     "execution_count": 4,
     "metadata": {},
     "output_type": "execute_result"
    }
   ],
   "source": [
    "def replace_values(df):\n",
    "    # Add a new column, AGE_GRP, and drop AGE_YRS\n",
    "    age_max = df['AGE_YRS'].max()\n",
    "    multiplier = 10 ** -1\n",
    "    agegrp_max = int(math.ceil(age_max * multiplier) / multiplier)\n",
    "    age_grp = [i for i in range(0,agegrp_max+1,10)]\n",
    "    df['AGE_GRP'] = pd.cut(x=df['AGE_YRS'], bins=age_grp).astype(str)\n",
    "    df = df.drop(['AGE_YRS'],axis=1)\n",
    "\n",
    "    # Fill na with the following corresponding values\n",
    "    values = {'DIED': 'N', 'L_THREAT': 'N', 'ER_VISIT': 'N', 'HOSPITAL':'N', 'DISABLE':'N', 'BIRTH_DEFECT':'N'}\n",
    "    df = df.fillna(value=values)\n",
    "    \n",
    "    return df\n",
    "\n",
    "patients = replace_values(patients)\n",
    "patients"
   ]
  },
  {
   "cell_type": "code",
   "execution_count": 5,
   "metadata": {},
   "outputs": [
    {
     "data": {
      "text/plain": [
       "VAERS_ID            0\n",
       "SEX              7178\n",
       "DIED                0\n",
       "L_THREAT            0\n",
       "ER_VISIT            0\n",
       "HOSPITAL            0\n",
       "DISABLE             0\n",
       "BIRTH_DEFECT        0\n",
       "RECOVD          62481\n",
       "V_ADMINBY       50454\n",
       "VAX_MANU          484\n",
       "VAX_SITE        56389\n",
       "VAX_ROUTE       45379\n",
       "AGE_GRP         16883\n",
       "dtype: int64"
      ]
     },
     "execution_count": 5,
     "metadata": {},
     "output_type": "execute_result"
    }
   ],
   "source": [
    "# Checking the number of null values\n",
    "\n",
    "patients.replace([\"U\",\"UN\",\"UNK\",\"UNKNOWN MANUFACTURER\",\"nan\"], np.nan, inplace=True)\n",
    "patients.isna().sum()"
   ]
  },
  {
   "cell_type": "markdown",
   "metadata": {},
   "source": [
    "In the succeeding code blocks, we drop the rows with null values. We also replace `\"U\"`, `\"UNK\"` and `\"UNKNOWN MANUFACTURER\"` values in the dataframe with `np.nan` for easy dropping."
   ]
  },
  {
   "cell_type": "code",
   "execution_count": 6,
   "metadata": {},
   "outputs": [
    {
     "data": {
      "text/plain": [
       "VAERS_ID        0\n",
       "SEX             0\n",
       "DIED            0\n",
       "L_THREAT        0\n",
       "ER_VISIT        0\n",
       "HOSPITAL        0\n",
       "DISABLE         0\n",
       "BIRTH_DEFECT    0\n",
       "RECOVD          0\n",
       "V_ADMINBY       0\n",
       "VAX_MANU        0\n",
       "VAX_SITE        0\n",
       "VAX_ROUTE       0\n",
       "AGE_GRP         0\n",
       "dtype: int64"
      ]
     },
     "execution_count": 6,
     "metadata": {},
     "output_type": "execute_result"
    }
   ],
   "source": [
    "patients.dropna(inplace=True)\n",
    "patients.isna().sum()"
   ]
  },
  {
   "cell_type": "code",
   "execution_count": 7,
   "metadata": {},
   "outputs": [
    {
     "name": "stdout",
     "output_type": "stream",
     "text": [
      "(50, 60]      9007\n",
      "(40, 50]      8708\n",
      "(30, 40]      8601\n",
      "(60, 70]      7681\n",
      "(20, 30]      5244\n",
      "(70, 80]      4326\n",
      "(10, 20]      3077\n",
      "(80, 90]      1611\n",
      "(0, 10]       1258\n",
      "(90, 100]      409\n",
      "(100, 110]      26\n",
      "Name: AGE_GRP, dtype: int64\n",
      "\n",
      "\n",
      "F    34944\n",
      "M    15004\n",
      "Name: SEX, dtype: int64\n",
      "\n",
      "\n",
      "N    26767\n",
      "Y    23181\n",
      "Name: RECOVD, dtype: int64\n"
     ]
    }
   ],
   "source": [
    "# Remove rows where AGE_GRP is unknown\n",
    "\n",
    "print(patients.AGE_GRP.value_counts())\n",
    "print(\"\\n\")\n",
    "print(patients.SEX.value_counts())\n",
    "print(\"\\n\")\n",
    "print(patients.RECOVD.value_counts())"
   ]
  },
  {
   "cell_type": "code",
   "execution_count": 8,
   "metadata": {},
   "outputs": [
    {
     "name": "stdout",
     "output_type": "stream",
     "text": [
      "PVT    18093\n",
      "PHM    14526\n",
      "OTH     6289\n",
      "PUB     5467\n",
      "WRK     2747\n",
      "SEN     1287\n",
      "MIL      866\n",
      "SCH      673\n",
      "Name: V_ADMINBY, dtype: int64\n",
      "\n",
      "\n",
      "PFIZER\\BIONTECH    24101\n",
      "MODERNA            23619\n",
      "JANSSEN             2228\n",
      "Name: VAX_MANU, dtype: int64\n"
     ]
    }
   ],
   "source": [
    "print(patients.V_ADMINBY.value_counts())\n",
    "print(\"\\n\")\n",
    "print(patients.VAX_MANU.value_counts())"
   ]
  },
  {
   "cell_type": "code",
   "execution_count": 9,
   "metadata": {},
   "outputs": [
    {
     "name": "stdout",
     "output_type": "stream",
     "text": [
      "LA    34682\n",
      "RA    13007\n",
      "AR     2033\n",
      "OT      121\n",
      "LL       53\n",
      "RL       43\n",
      "LG        6\n",
      "GM        3\n",
      "Name: VAX_SITE, dtype: int64\n",
      "\n",
      "\n",
      "IM     34142\n",
      "SYR    14015\n",
      "OT      1441\n",
      "SC       286\n",
      "ID        54\n",
      "JET       10\n",
      "Name: VAX_ROUTE, dtype: int64\n"
     ]
    }
   ],
   "source": [
    "print(patients.VAX_SITE.value_counts())\n",
    "print(\"\\n\")\n",
    "print(patients.VAX_ROUTE.value_counts())"
   ]
  },
  {
   "cell_type": "code",
   "execution_count": 10,
   "metadata": {},
   "outputs": [],
   "source": [
    "# We can select the first 30000 rows only.\n",
    "\n",
    "patients.drop('VAERS_ID', inplace=True, axis=1)"
   ]
  },
  {
   "cell_type": "markdown",
   "metadata": {},
   "source": [
    "### PART 1.3: Data Transformation"
   ]
  },
  {
   "cell_type": "markdown",
   "metadata": {},
   "source": [
    "We now map nominal features into numerical labels for "
   ]
  },
  {
   "cell_type": "code",
   "execution_count": 11,
   "metadata": {},
   "outputs": [],
   "source": [
    "categorical = ['SEX','V_ADMINBY','VAX_MANU','VAX_SITE','VAX_ROUTE']\n",
    "\n",
    "le = LabelEncoder()\n",
    "\n",
    "for i in categorical:\n",
    "    patients[i] = le.fit_transform(patients[i])\n"
   ]
  },
  {
   "cell_type": "code",
   "execution_count": 12,
   "metadata": {},
   "outputs": [],
   "source": [
    "age_groups = {\n",
    "    '(0, 10]': 0,\n",
    "    '(10, 20]': 1,\n",
    "    '(20, 30]': 2,\n",
    "    '(30, 40]': 3,\n",
    "    '(40, 50]': 4,\n",
    "    '(50, 60]': 5,\n",
    "    '(60, 70]': 6,\n",
    "    '(70, 80]': 7,\n",
    "    '(80, 90]': 8,\n",
    "    '(90, 100]': 9,\n",
    "    '(100, 110]': 10\n",
    "}\n",
    "\n",
    "patients.replace({'AGE_GRP': age_groups}, inplace=True)"
   ]
  },
  {
   "cell_type": "code",
   "execution_count": 13,
   "metadata": {},
   "outputs": [
    {
     "data": {
      "text/html": [
       "<div>\n",
       "<style scoped>\n",
       "    .dataframe tbody tr th:only-of-type {\n",
       "        vertical-align: middle;\n",
       "    }\n",
       "\n",
       "    .dataframe tbody tr th {\n",
       "        vertical-align: top;\n",
       "    }\n",
       "\n",
       "    .dataframe thead th {\n",
       "        text-align: right;\n",
       "    }\n",
       "</style>\n",
       "<table border=\"1\" class=\"dataframe\">\n",
       "  <thead>\n",
       "    <tr style=\"text-align: right;\">\n",
       "      <th></th>\n",
       "      <th>SEX</th>\n",
       "      <th>DIED</th>\n",
       "      <th>L_THREAT</th>\n",
       "      <th>ER_VISIT</th>\n",
       "      <th>HOSPITAL</th>\n",
       "      <th>DISABLE</th>\n",
       "      <th>BIRTH_DEFECT</th>\n",
       "      <th>RECOVD</th>\n",
       "      <th>V_ADMINBY</th>\n",
       "      <th>VAX_MANU</th>\n",
       "      <th>VAX_SITE</th>\n",
       "      <th>VAX_ROUTE</th>\n",
       "      <th>AGE_GRP</th>\n",
       "    </tr>\n",
       "  </thead>\n",
       "  <tbody>\n",
       "    <tr>\n",
       "      <th>0</th>\n",
       "      <td>0</td>\n",
       "      <td>0</td>\n",
       "      <td>0</td>\n",
       "      <td>0</td>\n",
       "      <td>0</td>\n",
       "      <td>0</td>\n",
       "      <td>0</td>\n",
       "      <td>1</td>\n",
       "      <td>4</td>\n",
       "      <td>1</td>\n",
       "      <td>2</td>\n",
       "      <td>1</td>\n",
       "      <td>3</td>\n",
       "    </tr>\n",
       "    <tr>\n",
       "      <th>1</th>\n",
       "      <td>0</td>\n",
       "      <td>0</td>\n",
       "      <td>0</td>\n",
       "      <td>0</td>\n",
       "      <td>0</td>\n",
       "      <td>0</td>\n",
       "      <td>0</td>\n",
       "      <td>1</td>\n",
       "      <td>6</td>\n",
       "      <td>1</td>\n",
       "      <td>6</td>\n",
       "      <td>1</td>\n",
       "      <td>7</td>\n",
       "    </tr>\n",
       "    <tr>\n",
       "      <th>4</th>\n",
       "      <td>0</td>\n",
       "      <td>0</td>\n",
       "      <td>0</td>\n",
       "      <td>0</td>\n",
       "      <td>0</td>\n",
       "      <td>0</td>\n",
       "      <td>0</td>\n",
       "      <td>0</td>\n",
       "      <td>3</td>\n",
       "      <td>1</td>\n",
       "      <td>2</td>\n",
       "      <td>1</td>\n",
       "      <td>4</td>\n",
       "    </tr>\n",
       "    <tr>\n",
       "      <th>5</th>\n",
       "      <td>0</td>\n",
       "      <td>0</td>\n",
       "      <td>0</td>\n",
       "      <td>0</td>\n",
       "      <td>0</td>\n",
       "      <td>0</td>\n",
       "      <td>0</td>\n",
       "      <td>1</td>\n",
       "      <td>4</td>\n",
       "      <td>1</td>\n",
       "      <td>2</td>\n",
       "      <td>1</td>\n",
       "      <td>4</td>\n",
       "    </tr>\n",
       "    <tr>\n",
       "      <th>6</th>\n",
       "      <td>1</td>\n",
       "      <td>0</td>\n",
       "      <td>0</td>\n",
       "      <td>0</td>\n",
       "      <td>0</td>\n",
       "      <td>0</td>\n",
       "      <td>0</td>\n",
       "      <td>1</td>\n",
       "      <td>3</td>\n",
       "      <td>1</td>\n",
       "      <td>2</td>\n",
       "      <td>1</td>\n",
       "      <td>4</td>\n",
       "    </tr>\n",
       "  </tbody>\n",
       "</table>\n",
       "</div>"
      ],
      "text/plain": [
       "   SEX  DIED  L_THREAT  ER_VISIT  HOSPITAL  DISABLE  BIRTH_DEFECT  RECOVD  \\\n",
       "0    0     0         0         0         0        0             0       1   \n",
       "1    0     0         0         0         0        0             0       1   \n",
       "4    0     0         0         0         0        0             0       0   \n",
       "5    0     0         0         0         0        0             0       1   \n",
       "6    1     0         0         0         0        0             0       1   \n",
       "\n",
       "   V_ADMINBY  VAX_MANU  VAX_SITE  VAX_ROUTE  AGE_GRP  \n",
       "0          4         1         2          1        3  \n",
       "1          6         1         6          1        7  \n",
       "4          3         1         2          1        4  \n",
       "5          4         1         2          1        4  \n",
       "6          3         1         2          1        4  "
      ]
     },
     "execution_count": 13,
     "metadata": {},
     "output_type": "execute_result"
    }
   ],
   "source": [
    "binary = ['DIED', 'L_THREAT', 'ER_VISIT', 'HOSPITAL', 'DISABLE', 'BIRTH_DEFECT', 'RECOVD']\n",
    "\n",
    "for i in binary:\n",
    "    patients[i] = patients[i].apply(lambda x: 1 if x==\"Y\" else 0)\n",
    "\n",
    "patients.head()"
   ]
  },
  {
   "cell_type": "code",
   "execution_count": 14,
   "metadata": {},
   "outputs": [
    {
     "data": {
      "text/html": [
       "<div>\n",
       "<style scoped>\n",
       "    .dataframe tbody tr th:only-of-type {\n",
       "        vertical-align: middle;\n",
       "    }\n",
       "\n",
       "    .dataframe tbody tr th {\n",
       "        vertical-align: top;\n",
       "    }\n",
       "\n",
       "    .dataframe thead th {\n",
       "        text-align: right;\n",
       "    }\n",
       "</style>\n",
       "<table border=\"1\" class=\"dataframe\">\n",
       "  <thead>\n",
       "    <tr style=\"text-align: right;\">\n",
       "      <th></th>\n",
       "      <th>SEX</th>\n",
       "      <th>DIED</th>\n",
       "      <th>L_THREAT</th>\n",
       "      <th>ER_VISIT</th>\n",
       "      <th>HOSPITAL</th>\n",
       "      <th>DISABLE</th>\n",
       "      <th>BIRTH_DEFECT</th>\n",
       "      <th>RECOVD</th>\n",
       "      <th>V_ADMINBY</th>\n",
       "      <th>VAX_MANU</th>\n",
       "      <th>VAX_SITE</th>\n",
       "      <th>VAX_ROUTE</th>\n",
       "      <th>AGE_GRP</th>\n",
       "    </tr>\n",
       "  </thead>\n",
       "  <tbody>\n",
       "    <tr>\n",
       "      <th>0</th>\n",
       "      <td>0</td>\n",
       "      <td>0</td>\n",
       "      <td>0</td>\n",
       "      <td>0</td>\n",
       "      <td>0</td>\n",
       "      <td>0</td>\n",
       "      <td>0</td>\n",
       "      <td>1</td>\n",
       "      <td>4</td>\n",
       "      <td>1</td>\n",
       "      <td>2</td>\n",
       "      <td>1</td>\n",
       "      <td>3</td>\n",
       "    </tr>\n",
       "    <tr>\n",
       "      <th>1</th>\n",
       "      <td>0</td>\n",
       "      <td>0</td>\n",
       "      <td>0</td>\n",
       "      <td>0</td>\n",
       "      <td>0</td>\n",
       "      <td>0</td>\n",
       "      <td>0</td>\n",
       "      <td>1</td>\n",
       "      <td>6</td>\n",
       "      <td>1</td>\n",
       "      <td>6</td>\n",
       "      <td>1</td>\n",
       "      <td>7</td>\n",
       "    </tr>\n",
       "    <tr>\n",
       "      <th>4</th>\n",
       "      <td>0</td>\n",
       "      <td>0</td>\n",
       "      <td>0</td>\n",
       "      <td>0</td>\n",
       "      <td>0</td>\n",
       "      <td>0</td>\n",
       "      <td>0</td>\n",
       "      <td>0</td>\n",
       "      <td>3</td>\n",
       "      <td>1</td>\n",
       "      <td>2</td>\n",
       "      <td>1</td>\n",
       "      <td>4</td>\n",
       "    </tr>\n",
       "    <tr>\n",
       "      <th>5</th>\n",
       "      <td>0</td>\n",
       "      <td>0</td>\n",
       "      <td>0</td>\n",
       "      <td>0</td>\n",
       "      <td>0</td>\n",
       "      <td>0</td>\n",
       "      <td>0</td>\n",
       "      <td>1</td>\n",
       "      <td>4</td>\n",
       "      <td>1</td>\n",
       "      <td>2</td>\n",
       "      <td>1</td>\n",
       "      <td>4</td>\n",
       "    </tr>\n",
       "    <tr>\n",
       "      <th>6</th>\n",
       "      <td>1</td>\n",
       "      <td>0</td>\n",
       "      <td>0</td>\n",
       "      <td>0</td>\n",
       "      <td>0</td>\n",
       "      <td>0</td>\n",
       "      <td>0</td>\n",
       "      <td>1</td>\n",
       "      <td>3</td>\n",
       "      <td>1</td>\n",
       "      <td>2</td>\n",
       "      <td>1</td>\n",
       "      <td>4</td>\n",
       "    </tr>\n",
       "    <tr>\n",
       "      <th>...</th>\n",
       "      <td>...</td>\n",
       "      <td>...</td>\n",
       "      <td>...</td>\n",
       "      <td>...</td>\n",
       "      <td>...</td>\n",
       "      <td>...</td>\n",
       "      <td>...</td>\n",
       "      <td>...</td>\n",
       "      <td>...</td>\n",
       "      <td>...</td>\n",
       "      <td>...</td>\n",
       "      <td>...</td>\n",
       "      <td>...</td>\n",
       "    </tr>\n",
       "    <tr>\n",
       "      <th>17405</th>\n",
       "      <td>0</td>\n",
       "      <td>0</td>\n",
       "      <td>0</td>\n",
       "      <td>0</td>\n",
       "      <td>0</td>\n",
       "      <td>0</td>\n",
       "      <td>0</td>\n",
       "      <td>1</td>\n",
       "      <td>4</td>\n",
       "      <td>1</td>\n",
       "      <td>2</td>\n",
       "      <td>1</td>\n",
       "      <td>6</td>\n",
       "    </tr>\n",
       "    <tr>\n",
       "      <th>17407</th>\n",
       "      <td>1</td>\n",
       "      <td>0</td>\n",
       "      <td>0</td>\n",
       "      <td>0</td>\n",
       "      <td>0</td>\n",
       "      <td>0</td>\n",
       "      <td>0</td>\n",
       "      <td>0</td>\n",
       "      <td>4</td>\n",
       "      <td>1</td>\n",
       "      <td>2</td>\n",
       "      <td>5</td>\n",
       "      <td>7</td>\n",
       "    </tr>\n",
       "    <tr>\n",
       "      <th>17408</th>\n",
       "      <td>0</td>\n",
       "      <td>0</td>\n",
       "      <td>0</td>\n",
       "      <td>0</td>\n",
       "      <td>0</td>\n",
       "      <td>0</td>\n",
       "      <td>0</td>\n",
       "      <td>1</td>\n",
       "      <td>6</td>\n",
       "      <td>2</td>\n",
       "      <td>2</td>\n",
       "      <td>1</td>\n",
       "      <td>9</td>\n",
       "    </tr>\n",
       "    <tr>\n",
       "      <th>17409</th>\n",
       "      <td>0</td>\n",
       "      <td>0</td>\n",
       "      <td>0</td>\n",
       "      <td>0</td>\n",
       "      <td>0</td>\n",
       "      <td>0</td>\n",
       "      <td>0</td>\n",
       "      <td>1</td>\n",
       "      <td>4</td>\n",
       "      <td>2</td>\n",
       "      <td>2</td>\n",
       "      <td>1</td>\n",
       "      <td>3</td>\n",
       "    </tr>\n",
       "    <tr>\n",
       "      <th>17410</th>\n",
       "      <td>0</td>\n",
       "      <td>0</td>\n",
       "      <td>0</td>\n",
       "      <td>0</td>\n",
       "      <td>0</td>\n",
       "      <td>0</td>\n",
       "      <td>0</td>\n",
       "      <td>1</td>\n",
       "      <td>4</td>\n",
       "      <td>2</td>\n",
       "      <td>6</td>\n",
       "      <td>1</td>\n",
       "      <td>5</td>\n",
       "    </tr>\n",
       "  </tbody>\n",
       "</table>\n",
       "<p>10000 rows × 13 columns</p>\n",
       "</div>"
      ],
      "text/plain": [
       "       SEX  DIED  L_THREAT  ER_VISIT  HOSPITAL  DISABLE  BIRTH_DEFECT  RECOVD  \\\n",
       "0        0     0         0         0         0        0             0       1   \n",
       "1        0     0         0         0         0        0             0       1   \n",
       "4        0     0         0         0         0        0             0       0   \n",
       "5        0     0         0         0         0        0             0       1   \n",
       "6        1     0         0         0         0        0             0       1   \n",
       "...    ...   ...       ...       ...       ...      ...           ...     ...   \n",
       "17405    0     0         0         0         0        0             0       1   \n",
       "17407    1     0         0         0         0        0             0       0   \n",
       "17408    0     0         0         0         0        0             0       1   \n",
       "17409    0     0         0         0         0        0             0       1   \n",
       "17410    0     0         0         0         0        0             0       1   \n",
       "\n",
       "       V_ADMINBY  VAX_MANU  VAX_SITE  VAX_ROUTE  AGE_GRP  \n",
       "0              4         1         2          1        3  \n",
       "1              6         1         6          1        7  \n",
       "4              3         1         2          1        4  \n",
       "5              4         1         2          1        4  \n",
       "6              3         1         2          1        4  \n",
       "...          ...       ...       ...        ...      ...  \n",
       "17405          4         1         2          1        6  \n",
       "17407          4         1         2          5        7  \n",
       "17408          6         2         2          1        9  \n",
       "17409          4         2         2          1        3  \n",
       "17410          4         2         6          1        5  \n",
       "\n",
       "[10000 rows x 13 columns]"
      ]
     },
     "execution_count": 14,
     "metadata": {},
     "output_type": "execute_result"
    }
   ],
   "source": [
    "columns = [\n",
    "    'SEX', 'DIED', 'L_THREAT', 'ER_VISIT', 'HOSPITAL', 'DISABLE', 'BIRTH_DEFECT',\n",
    "    'RECOVD', 'V_ADMINBY', 'VAX_MANU', 'VAX_SITE', 'VAX_ROUTE', 'AGE_GRP'\n",
    "    ]\n",
    "\n",
    "# sample = patients.groupby(columns).filter(lambda x: len(x) > 20)\n",
    "sample = patients.head(10000)\n",
    "# sample.to_csv('../data/finaldataset.csv', index=False)\n",
    "sample\n"
   ]
  },
  {
   "cell_type": "code",
   "execution_count": 15,
   "metadata": {},
   "outputs": [
    {
     "data": {
      "text/plain": [
       "SEX  DIED  L_THREAT  ER_VISIT  HOSPITAL  DISABLE  BIRTH_DEFECT  RECOVD  V_ADMINBY  VAX_MANU  VAX_SITE  VAX_ROUTE  AGE_GRP\n",
       "0    0     0         0         0         0        0             0       4          1         2         1          3          188\n",
       "                                                                1       4          2         2         1          3          180\n",
       "                                                                                   1         2         1          3          169\n",
       "                                                                                   2         2         1          4          164\n",
       "                                                                0       4          1         2         1          4          152\n",
       "                                                                                                                            ... \n",
       "                                                                1       6          1         2         1          9            1\n",
       "1    0     0         0         0         0        0             0       2          1         2         1          6            1\n",
       "                                                                                             6         1          3            1\n",
       "                                                                                                       5          1            1\n",
       "     1     0         0         0         0        0             0       7          2         0         5          5            1\n",
       "Length: 1374, dtype: int64"
      ]
     },
     "execution_count": 15,
     "metadata": {},
     "output_type": "execute_result"
    }
   ],
   "source": [
    "sample.value_counts()"
   ]
  },
  {
   "cell_type": "markdown",
   "metadata": {},
   "source": [
    "## PART 2: Exploratory Data Analysis\n",
    "\n",
    "### PART 2.1: Univariate Analysis\n",
    "\n",
    "We now create charts and visualize data for single features to further understand the dataset. The following graphs are for the **single features** found in the data set."
   ]
  },
  {
   "cell_type": "markdown",
   "metadata": {},
   "source": [
    "**SEX**"
   ]
  },
  {
   "cell_type": "code",
   "execution_count": 19,
   "metadata": {
    "scrolled": false
   },
   "outputs": [
    {
     "data": {
      "text/plain": [
       "<seaborn.axisgrid.FacetGrid at 0x7fcf90b47040>"
      ]
     },
     "execution_count": 19,
     "metadata": {},
     "output_type": "execute_result"
    },
    {
     "data": {
      "image/png": "[encoded data removed]",
      "text/plain": [
       "<Figure size 360x360 with 1 Axes>"
      ]
     },
     "metadata": {
      "needs_background": "light"
     },
     "output_type": "display_data"
    }
   ],
   "source": [
    "sex_barplot = sns.catplot(x='SEX', kind='count', palette='Set2', data=patients)\n",
    "sex_barplot.axes[0,0].set_xticks([0,1])\n",
    "sex_barplot.axes[0,0].set_xticklabels(['Female', 'Male'])\n",
    "sex_barplot.set(title='Sex of COVID-19 Patients')\n",
    "sex_barplot.set_xlabels('Sex', clear_inner=False)\n",
    "sex_barplot.set_ylabels('', clear_inner=False)"
   ]
  },
  {
   "cell_type": "markdown",
   "metadata": {},
   "source": [
    "From the graph above, we can see that there are **more female** patients in the data set than male patients and that the number of male patients in the data set is **less than half** the number of female patients"
   ]
  },
  {
   "cell_type": "markdown",
   "metadata": {},
   "source": [
    "**DEATH COUNT**"
   ]
  },
  {
   "cell_type": "code",
   "execution_count": 39,
   "metadata": {
    "scrolled": false
   },
   "outputs": [
    {
     "data": {
      "text/plain": [
       "<seaborn.axisgrid.FacetGrid at 0x7fcf93c60310>"
      ]
     },
     "execution_count": 39,
     "metadata": {},
     "output_type": "execute_result"
    },
    {
     "data": {
      "image/png": "[encoded data removed]",
      "text/plain": [
       "<Figure size 360x360 with 1 Axes>"
      ]
     },
     "metadata": {
      "needs_background": "light"
     },
     "output_type": "display_data"
    }
   ],
   "source": [
    "died_barplot = sns.catplot(x='DIED', kind='count', palette='Set2', data=patients)\n",
    "died_barplot.axes[0,0].set_xticks([0,1])\n",
    "died_barplot.axes[0,0].set_xticklabels(['Lived', 'Died'])\n",
    "died_barplot.set(title='Living Status of Patients')\n",
    "died_barplot.set_xlabels('Status', clear_inner=False)\n",
    "died_barplot.set_ylabels('', clear_inner=False)"
   ]
  },
  {
   "cell_type": "markdown",
   "metadata": {},
   "source": [
    "From the graph above, we can see that more patients in the data set **lived** than died and that the difference is more than half."
   ]
  },
  {
   "cell_type": "markdown",
   "metadata": {},
   "source": [
    "**Age Groups**"
   ]
  },
  {
   "cell_type": "code",
   "execution_count": 54,
   "metadata": {
    "scrolled": false
   },
   "outputs": [
    {
     "data": {
      "text/plain": [
       "<seaborn.axisgrid.FacetGrid at 0x7fcf93de0160>"
      ]
     },
     "execution_count": 54,
     "metadata": {},
     "output_type": "execute_result"
    },
    {
     "data": {
      "image/png": "[encoded data removed]",
      "text/plain": [
       "<Figure size 360x360 with 1 Axes>"
      ]
     },
     "metadata": {
      "needs_background": "light"
     },
     "output_type": "display_data"
    }
   ],
   "source": [
    "age_barplot = sns.catplot(x='AGE_GRP', kind='count', palette='magma', data=patients)\n",
    "age_barplot.axes[0,0].set_xticks([0,1,2,3,4,5,6,7,8,9,10])\n",
    "age_barplot.axes[0,0].set_xticklabels(['0-10', '10-20', '20-30', '30-40', '40-50', '50-60', '60-70', '70-80', '80-90', '90-100', '100-110'], rotation=45)\n",
    "age_barplot.set(title='Age Groups of Patients')\n",
    "age_barplot.set_xlabels('Age Groups', clear_inner=False)\n",
    "age_barplot.set_ylabels('', clear_inner=False)"
   ]
  },
  {
   "cell_type": "markdown",
   "metadata": {},
   "source": [
    "From the graph above, we can see that most of the patients in the data set are aged **50 to 60 years old**. In general, majority of the patients in the data set are of the middle-aged to early senior group, specifically ages 30 to 60. Both extremes, the youngest age groups and the oldest age groups, make up less of the data set compared to the age groups in the middle."
   ]
  },
  {
   "cell_type": "markdown",
   "metadata": {},
   "source": [
    "**Life Threatening Event Associated with the Vaccination**"
   ]
  },
  {
   "cell_type": "code",
   "execution_count": 58,
   "metadata": {},
   "outputs": [
    {
     "data": {
      "text/plain": [
       "<seaborn.axisgrid.FacetGrid at 0x7fcfd46320a0>"
      ]
     },
     "execution_count": 58,
     "metadata": {},
     "output_type": "execute_result"
    },
    {
     "data": {
      "image/png": "[encoded data removed]",
      "text/plain": [
       "<Figure size 360x360 with 1 Axes>"
      ]
     },
     "metadata": {
      "needs_background": "light"
     },
     "output_type": "display_data"
    }
   ],
   "source": [
    "lte_barplot = sns.catplot(x='L_THREAT', kind='count', palette='Set2', data=patients)\n",
    "lte_barplot.axes[0,0].set_xticks([0,1])\n",
    "lte_barplot.axes[0,0].set_xticklabels(['Without Event', 'With Event'])\n",
    "lte_barplot.set(title='Patients with Life Threatening Events Associated with COVID-19 Vaccination')\n",
    "lte_barplot.set_xlabels('Life Threatening Event', clear_inner=False)\n",
    "lte_barplot.set_ylabels('', clear_inner=False)"
   ]
  },
  {
   "cell_type": "markdown",
   "metadata": {},
   "source": [
    "From the graph above, we can see that more patients in the data set **had no life-threatening events associated with the vaccination** compared to patients that had life-threatening events associated with the vaccination."
   ]
  },
  {
   "cell_type": "markdown",
   "metadata": {},
   "source": [
    "**Emergency Room Visits**"
   ]
  },
  {
   "cell_type": "code",
   "execution_count": 59,
   "metadata": {},
   "outputs": [
    {
     "data": {
      "text/plain": [
       "<seaborn.axisgrid.FacetGrid at 0x7fcfc2738fd0>"
      ]
     },
     "execution_count": 59,
     "metadata": {},
     "output_type": "execute_result"
    },
    {
     "data": {
      "image/png": "[encoded data removed]",
      "text/plain": [
       "<Figure size 360x360 with 1 Axes>"
      ]
     },
     "metadata": {
      "needs_background": "light"
     },
     "output_type": "display_data"
    }
   ],
   "source": [
    "er_barplot = sns.catplot(x='ER_VISIT', kind='count', palette='Set2', data=patients)\n",
    "er_barplot.axes[0,0].set_xticks([0,1])\n",
    "er_barplot.axes[0,0].set_xticklabels(['No ER Visit', 'With ER Visit'])\n",
    "er_barplot.set(title='Patients with Emergency Room Visits Associated with the COVID-19 Vaccine')\n",
    "er_barplot.set_xlabels('Emergency Room Visits', clear_inner=False)\n",
    "er_barplot.set_ylabels('', clear_inner=False)"
   ]
  },
  {
   "cell_type": "markdown",
   "metadata": {},
   "source": [
    "From the graph above, we can see that there are **no patients in the data set** who visited the emergency room after experiencing adverse effects from the vaccine."
   ]
  },
  {
   "cell_type": "markdown",
   "metadata": {},
   "source": [
    "**Hospitalized**"
   ]
  },
  {
   "cell_type": "code",
   "execution_count": 69,
   "metadata": {},
   "outputs": [
    {
     "data": {
      "text/plain": [
       "<seaborn.axisgrid.FacetGrid at 0x7fcf954d89d0>"
      ]
     },
     "execution_count": 69,
     "metadata": {},
     "output_type": "execute_result"
    },
    {
     "data": {
      "image/png": "[encoded data removed]",
      "text/plain": [
       "<Figure size 360x360 with 1 Axes>"
      ]
     },
     "metadata": {
      "needs_background": "light"
     },
     "output_type": "display_data"
    }
   ],
   "source": [
    "hosp_barplot = sns.catplot(x='HOSPITAL', kind='count', palette='Set2', data=patients)\n",
    "hosp_barplot.axes[0,0].set_xticks([0,1])\n",
    "hosp_barplot.axes[0,0].set_xticklabels(['Not Hospitalized', 'Hospitalized'])\n",
    "hosp_barplot.set(title='Number of Hospitalized Patients Due to COVID-19 Vaccine')\n",
    "hosp_barplot.set_xlabels('Number of Patients', clear_inner=False)\n",
    "hosp_barplot.set_ylabels('', clear_inner=False)"
   ]
  },
  {
   "cell_type": "markdown",
   "metadata": {},
   "source": [
    "From the graph above, we can see that the number of patients present in the data set that were hospitalized after experiencing adverse effects is **less than half** than the number of patients not hospitalized."
   ]
  },
  {
   "cell_type": "markdown",
   "metadata": {},
   "source": [
    "**Disabled**"
   ]
  },
  {
   "cell_type": "code",
   "execution_count": 70,
   "metadata": {},
   "outputs": [
    {
     "data": {
      "text/plain": [
       "<seaborn.axisgrid.FacetGrid at 0x7fcfc2cf95e0>"
      ]
     },
     "execution_count": 70,
     "metadata": {},
     "output_type": "execute_result"
    },
    {
     "data": {
      "image/png": "[encoded data removed]",
      "text/plain": [
       "<Figure size 360x360 with 1 Axes>"
      ]
     },
     "metadata": {
      "needs_background": "light"
     },
     "output_type": "display_data"
    }
   ],
   "source": [
    "dis_barplot = sns.catplot(x='DISABLE', kind='count', palette='Set2', data=patients)\n",
    "dis_barplot.axes[0,0].set_xticks([0,1])\n",
    "dis_barplot.axes[0,0].set_xticklabels(['Not Disabled', 'Disabled'])\n",
    "dis_barplot.set(title='Number of Patients Disabled due to COVID-19 Vaccine')\n",
    "dis_barplot.set_xlabels('Number of Patients', clear_inner=False)\n",
    "dis_barplot.set_ylabels('', clear_inner=False)"
   ]
  },
  {
   "cell_type": "markdown",
   "metadata": {},
   "source": [
    "From the graph above, we can see that the number of patients in the data set disabled after experiencing adverse effects is **less than a quarter** of the number of patients not disabled."
   ]
  },
  {
   "cell_type": "markdown",
   "metadata": {},
   "source": [
    "**Birth Defect**"
   ]
  },
  {
   "cell_type": "code",
   "execution_count": 71,
   "metadata": {},
   "outputs": [
    {
     "data": {
      "text/plain": [
       "<seaborn.axisgrid.FacetGrid at 0x7fcfd52f7100>"
      ]
     },
     "execution_count": 71,
     "metadata": {},
     "output_type": "execute_result"
    },
    {
     "data": {
      "image/png": "[encoded data removed]",
      "text/plain": [
       "<Figure size 360x360 with 1 Axes>"
      ]
     },
     "metadata": {
      "needs_background": "light"
     },
     "output_type": "display_data"
    }
   ],
   "source": [
    "bd_barplot = sns.catplot(x='BIRTH_DEFECT', kind='count', palette='Set2', data=patients)\n",
    "bd_barplot.axes[0,0].set_xticks([0,1])\n",
    "bd_barplot.axes[0,0].set_xticklabels(['With No Birth Defect', 'With Birth Defect'])\n",
    "bd_barplot.set(title='Number of Patients with Birth Defect')\n",
    "bd_barplot.set_xlabels('Number of Patients', clear_inner=False)\n",
    "bd_barplot.set_ylabels('', clear_inner=False)"
   ]
  },
  {
   "cell_type": "markdown",
   "metadata": {},
   "source": [
    "From the graph above, we can see that the number of patients in the data set with a birth defect is **less than a quarter** of the number of patients without a birth defect."
   ]
  },
  {
   "cell_type": "markdown",
   "metadata": {},
   "source": [
    "**Recovered**"
   ]
  },
  {
   "cell_type": "code",
   "execution_count": 73,
   "metadata": {},
   "outputs": [
    {
     "data": {
      "text/plain": [
       "<seaborn.axisgrid.FacetGrid at 0x7fcfe06ad160>"
      ]
     },
     "execution_count": 73,
     "metadata": {},
     "output_type": "execute_result"
    },
    {
     "data": {
      "image/png": "[encoded data removed]",
      "text/plain": [
       "<Figure size 360x360 with 1 Axes>"
      ]
     },
     "metadata": {
      "needs_background": "light"
     },
     "output_type": "display_data"
    }
   ],
   "source": [
    "rec_barplot = sns.catplot(x='RECOVD', kind='count', palette='Set2', data=patients)\n",
    "rec_barplot.axes[0,0].set_xticks([0,1])\n",
    "rec_barplot.axes[0,0].set_xticklabels(['Recovered', 'Did Not Recover'])\n",
    "rec_barplot.set(title='Number of Patients that Recovered from Adverse Effects')\n",
    "rec_barplot.set_xlabels('Number of Patients', clear_inner=False)\n",
    "rec_barplot.set_ylabels('', clear_inner=False)"
   ]
  },
  {
   "cell_type": "markdown",
   "metadata": {},
   "source": [
    "From the graph above, we can see that the **number of patients who recovered from adverse effects** is greater than the number of patients who did not recover, though the difference is not great as seen in the chart."
   ]
  },
  {
   "cell_type": "markdown",
   "metadata": {},
   "source": [
    "**Vaccine Administered At**"
   ]
  },
  {
   "cell_type": "code",
   "execution_count": 76,
   "metadata": {},
   "outputs": [
    {
     "data": {
      "text/plain": [
       "<seaborn.axisgrid.FacetGrid at 0x7fcfe0866fd0>"
      ]
     },
     "execution_count": 76,
     "metadata": {},
     "output_type": "execute_result"
    },
    {
     "data": {
      "image/png": "[encoded data removed]",
      "text/plain": [
       "<Figure size 360x360 with 1 Axes>"
      ]
     },
     "metadata": {
      "needs_background": "light"
     },
     "output_type": "display_data"
    }
   ],
   "source": [
    "loc_barplot = sns.catplot(x='V_ADMINBY', kind='count', palette='Set2', data=patients)\n",
    "loc_barplot.axes[0,0].set_xticks([0,1,2,3,4,5,6,7])\n",
    "loc_barplot.axes[0,0].set_xticklabels(['Military','Other',\"Pharmacy\",'Public','Private','School','Nursing Home','Workplace Clinic'], rotation=45)\n",
    "loc_barplot.set(title='Locations where COVID-19 Vaccine was Administered')\n",
    "loc_barplot.set_xlabels('Locations', clear_inner=False)\n",
    "loc_barplot.set_ylabels('', clear_inner=False)"
   ]
  },
  {
   "cell_type": "markdown",
   "metadata": {},
   "source": [
    "From the graph above, we can see that most of the vaccines were administered in **private**. In general, majority of the vaccines were administered in private or in a pharmacy, and the places with the least amount of vaccines administered at are at school and in the military."
   ]
  },
  {
   "cell_type": "markdown",
   "metadata": {},
   "source": [
    "**Vaccine Manufacturers**"
   ]
  },
  {
   "cell_type": "code",
   "execution_count": 78,
   "metadata": {},
   "outputs": [
    {
     "data": {
      "text/plain": [
       "<seaborn.axisgrid.FacetGrid at 0x7fcff3ec22e0>"
      ]
     },
     "execution_count": 78,
     "metadata": {},
     "output_type": "execute_result"
    },
    {
     "data": {
      "image/png": "[encoded data removed]",
      "text/plain": [
       "<Figure size 360x360 with 1 Axes>"
      ]
     },
     "metadata": {
      "needs_background": "light"
     },
     "output_type": "display_data"
    }
   ],
   "source": [
    "manu_barplot = sns.catplot(x='VAX_MANU', kind='count', palette='Set2', data=patients)\n",
    "manu_barplot.axes[0,0].set_xticks([0,1,2])\n",
    "manu_barplot.axes[0,0].set_xticklabels(['JANSSEN', 'MODERNA', 'PFIZER/BIOTECH'])\n",
    "manu_barplot.set(title='COVID-19 Vaccine Manufacturers')\n",
    "manu_barplot.set_xlabels('Vaccine Manufacturers', clear_inner=False)\n",
    "manu_barplot.set_ylabels('', clear_inner=False)"
   ]
  },
  {
   "cell_type": "markdown",
   "metadata": {},
   "source": [
    "From the graph above, we can see that most patients in the data set have vaccines manufactured by **Pfizer/Biotech**. The number of patients with a Moderna vaccine is a close second, and the number of patients with a Janssen vaccine is the least."
   ]
  },
  {
   "cell_type": "markdown",
   "metadata": {},
   "source": [
    "**Vaccination Anatomic Site**"
   ]
  },
  {
   "cell_type": "code",
   "execution_count": 82,
   "metadata": {},
   "outputs": [
    {
     "data": {
      "text/plain": [
       "<seaborn.axisgrid.FacetGrid at 0x7fcf959ba280>"
      ]
     },
     "execution_count": 82,
     "metadata": {},
     "output_type": "execute_result"
    },
    {
     "data": {
      "image/png": "[encoded data removed]",
      "text/plain": [
       "<Figure size 360x360 with 1 Axes>"
      ]
     },
     "metadata": {
      "needs_background": "light"
     },
     "output_type": "display_data"
    }
   ],
   "source": [
    "ana_barplot = sns.catplot(x='VAX_SITE', kind='count', palette='Set2', data=patients)\n",
    "ana_barplot.axes[0,0].set_xticks([0,1,2,3,4,5,6,7])\n",
    "ana_barplot.axes[0,0].set_xticklabels(['AR', 'GM', 'LA', 'LG', 'LL', 'OT', 'RA', 'RL'])\n",
    "ana_barplot.set_titles('COVID-19 Vaccination Anatomic Sites')\n",
    "ana_barplot.set_xlabels('Vaccination Anatomic Sites', clear_inner=False)\n",
    "ana_barplot.set_ylabels('', clear_inner=False)"
   ]
  },
  {
   "cell_type": "markdown",
   "metadata": {},
   "source": [
    "From the graph above, we can see that the anatomic sites with the most number of patients vaccinated at are **LA, RA, and AR**."
   ]
  },
  {
   "cell_type": "markdown",
   "metadata": {},
   "source": [
    "**Route of Administration of Vaccine**"
   ]
  },
  {
   "cell_type": "code",
   "execution_count": 94,
   "metadata": {},
   "outputs": [
    {
     "data": {
      "text/plain": [
       "<seaborn.axisgrid.FacetGrid at 0x7fcf974e1e20>"
      ]
     },
     "execution_count": 94,
     "metadata": {},
     "output_type": "execute_result"
    },
    {
     "data": {
      "image/png": "[encoded data removed]",
      "text/plain": [
       "<Figure size 360x360 with 1 Axes>"
      ]
     },
     "metadata": {
      "needs_background": "light"
     },
     "output_type": "display_data"
    }
   ],
   "source": [
    "route_barplot = sns.catplot(x='VAX_ROUTE', kind='count', palette='Set2', data=patients)\n",
    "route_barplot.axes[0,0].set_xticks([0,1,2,4,5,3])\n",
    "route_barplot.axes[0,0].set_xticklabels(['Intradermal', 'Intramuscular', 'Needle Free Jet Injector', 'Subcutaneous', 'Needle and Syringe', 'Other'], rotation=90)\n",
    "route_barplot.set_titles('Route of Administration of COVID-19 Vaccines')\n",
    "route_barplot.set_xlabels('Routes of Administration of Vaccine', clear_inner=False)\n",
    "route_barplot.set_ylabels('', clear_inner=False)"
   ]
  },
  {
   "cell_type": "markdown",
   "metadata": {},
   "source": [
    "From the graph above, we can see that most patients in the data set had their vaccine administrated **intramuscularly**."
   ]
  },
  {
   "cell_type": "markdown",
   "metadata": {},
   "source": [
    "**SEX**"
   ]
  },
  {
   "cell_type": "code",
   "execution_count": 39,
   "metadata": {},
   "outputs": [
    {
     "data": {
      "text/plain": [
       "<seaborn.axisgrid.FacetGrid at 0x7fc5a2e88970>"
      ]
     },
     "execution_count": 39,
     "metadata": {},
     "output_type": "execute_result"
    },
    {
     "data": {
      "image/png": "[encoded data removed]",
      "text/plain": [
       "<Figure size 402.375x360 with 1 Axes>"
      ]
     },
     "metadata": {
      "needs_background": "light"
     },
     "output_type": "display_data"
    }
   ],
   "source": [
    "sns.catplot(x='VAX_MANU', hue='SEX', kind='count', data=patients)"
   ]
  },
  {
   "cell_type": "markdown",
   "metadata": {},
   "source": [
    "### PART 2.2: Bivariate Analysis\n",
    "\n",
    "stacked bar charts for two features"
   ]
  },
  {
   "cell_type": "code",
   "execution_count": null,
   "metadata": {},
   "outputs": [],
   "source": []
  },
  {
   "cell_type": "markdown",
   "metadata": {},
   "source": [
    "## PART 3: Model Implementation\n",
    "\n",
    "### PART 3.1: Optimization of number of clusters\n",
    "\n",
    "We used the **Elbow Method** to determine the optimal number of clusters into which the data might be clustered. We select the value of `k` at the \"elbow\" or the point after which the distortion/inertia starts decreasing in a linear fashion."
   ]
  },
  {
   "cell_type": "code",
   "execution_count": 30,
   "metadata": {},
   "outputs": [
    {
     "name": "stdout",
     "output_type": "stream",
     "text": [
      "Init: initializing centroids\n",
      "Init: initializing clusters\n",
      "Starting iterations...\n",
      "Run 1, iteration: 1/100, moves: 1475, cost: 23936.0\n",
      "Run 1, iteration: 2/100, moves: 616, cost: 23936.0\n",
      "Init: initializing centroids\n",
      "Init: initializing clusters\n",
      "Starting iterations...\n",
      "Run 1, iteration: 1/100, moves: 1926, cost: 22980.0\n",
      "Run 1, iteration: 2/100, moves: 319, cost: 22980.0\n",
      "Init: initializing centroids\n",
      "Init: initializing clusters\n",
      "Starting iterations...\n",
      "Run 1, iteration: 1/100, moves: 2116, cost: 21739.0\n",
      "Run 1, iteration: 2/100, moves: 300, cost: 21739.0\n",
      "Init: initializing centroids\n",
      "Init: initializing clusters\n",
      "Starting iterations...\n",
      "Run 1, iteration: 1/100, moves: 2512, cost: 20270.0\n",
      "Run 1, iteration: 2/100, moves: 1323, cost: 20270.0\n",
      "Init: initializing centroids\n",
      "Init: initializing clusters\n",
      "Starting iterations...\n",
      "Run 1, iteration: 1/100, moves: 2188, cost: 20142.0\n",
      "Run 1, iteration: 2/100, moves: 707, cost: 20142.0\n",
      "Init: initializing centroids\n",
      "Init: initializing clusters\n",
      "Starting iterations...\n",
      "Run 1, iteration: 1/100, moves: 2313, cost: 19765.0\n",
      "Run 1, iteration: 2/100, moves: 340, cost: 19765.0\n",
      "Init: initializing centroids\n",
      "Init: initializing clusters\n",
      "Starting iterations...\n",
      "Run 1, iteration: 1/100, moves: 2261, cost: 19476.0\n",
      "Run 1, iteration: 2/100, moves: 367, cost: 19476.0\n",
      "Init: initializing centroids\n",
      "Init: initializing clusters\n",
      "Starting iterations...\n",
      "Run 1, iteration: 1/100, moves: 2139, cost: 19442.0\n",
      "Init: initializing centroids\n",
      "Init: initializing clusters\n",
      "Starting iterations...\n",
      "Run 1, iteration: 1/100, moves: 2258, cost: 18710.0\n",
      "Run 1, iteration: 2/100, moves: 117, cost: 18710.0\n",
      "Init: initializing centroids\n",
      "Init: initializing clusters\n",
      "Starting iterations...\n",
      "Run 1, iteration: 1/100, moves: 2413, cost: 18237.0\n",
      "Run 1, iteration: 2/100, moves: 228, cost: 18237.0\n",
      "Init: initializing centroids\n",
      "Init: initializing clusters\n",
      "Starting iterations...\n",
      "Run 1, iteration: 1/100, moves: 2318, cost: 18063.0\n",
      "Run 1, iteration: 2/100, moves: 164, cost: 18063.0\n",
      "Init: initializing centroids\n",
      "Init: initializing clusters\n",
      "Starting iterations...\n",
      "Run 1, iteration: 1/100, moves: 2353, cost: 17449.0\n",
      "Run 1, iteration: 2/100, moves: 132, cost: 17449.0\n",
      "Init: initializing centroids\n",
      "Init: initializing clusters\n",
      "Starting iterations...\n",
      "Run 1, iteration: 1/100, moves: 2344, cost: 17040.0\n",
      "Run 1, iteration: 2/100, moves: 161, cost: 17040.0\n",
      "Init: initializing centroids\n",
      "Init: initializing clusters\n",
      "Starting iterations...\n",
      "Run 1, iteration: 1/100, moves: 2328, cost: 16674.0\n",
      "Run 1, iteration: 2/100, moves: 132, cost: 16674.0\n"
     ]
    },
    {
     "data": {
      "image/png": "[encoded data removed]",
      "text/plain": [
       "<Figure size 432x288 with 1 Axes>"
      ]
     },
     "metadata": {
      "needs_background": "light"
     },
     "output_type": "display_data"
    },
    {
     "data": {
      "image/png": "[encoded data removed]",
      "text/plain": [
       "<Figure size 432x288 with 1 Axes>"
      ]
     },
     "metadata": {
      "needs_background": "light"
     },
     "output_type": "display_data"
    }
   ],
   "source": [
    "cost = []\n",
    "scores = []\n",
    "K = range(2,16)\n",
    "for num_clusters in list(K):\n",
    "    kmode = KModes(n_clusters=num_clusters, init = \"Cao\", n_init = 1, verbose=1)\n",
    "    kmode.fit_predict(sample)\n",
    "    cost.append(kmode.cost_)\n",
    "\n",
    "    scores.append(metrics.silhouette_score(sample,kmode.labels_))\n",
    "    \n",
    "plt.plot(K, cost, 'bx-')\n",
    "plt.xlabel('K clusters')\n",
    "plt.ylabel('Cost')\n",
    "plt.title('Elbow Method For Optimal k')\n",
    "plt.show()\n",
    "\n",
    "plt.plot(K,scores)\n",
    "plt.xlabel('Number of clusters')\n",
    "plt.ylabel('Silhouette Coefficient')\n",
    "plt.show()"
   ]
  },
  {
   "cell_type": "markdown",
   "metadata": {},
   "source": [
    "Using the `KneeLocator` method from the `kneed` library, we identified the optimal number of clusters: $k=7$."
   ]
  },
  {
   "cell_type": "code",
   "execution_count": 31,
   "metadata": {},
   "outputs": [
    {
     "data": {
      "text/plain": [
       "5"
      ]
     },
     "execution_count": 31,
     "metadata": {},
     "output_type": "execute_result"
    }
   ],
   "source": [
    "optimal_k = KneeLocator(list(K), cost, curve='convex', direction='decreasing')\n",
    "\n",
    "k = optimal_k.knee\n",
    "\n",
    "k"
   ]
  },
  {
   "cell_type": "markdown",
   "metadata": {},
   "source": [
    "### PART 3.2: K-Modes Clustering\n",
    "\n",
    "We now proceed to fitting the model to the `patients` dataframe, setting the number of clusters to `n_clusters = 7` and using the Cao initialization for categorical data clustering. We then put the generated labels or cluster numbers in a new column `CLUSTER`."
   ]
  },
  {
   "cell_type": "code",
   "execution_count": 32,
   "metadata": {},
   "outputs": [
    {
     "name": "stdout",
     "output_type": "stream",
     "text": [
      "Init: initializing centroids\n",
      "Init: initializing clusters\n",
      "Starting iterations...\n",
      "Run 1, iteration: 1/100, moves: 2512, cost: 20270.0\n",
      "Run 1, iteration: 2/100, moves: 1323, cost: 20270.0\n"
     ]
    },
    {
     "name": "stderr",
     "output_type": "stream",
     "text": [
      "C:\\Users\\ADMIN\\AppData\\Local\\Temp\\ipykernel_10388\\3963676046.py:3: SettingWithCopyWarning: \n",
      "A value is trying to be set on a copy of a slice from a DataFrame.\n",
      "Try using .loc[row_indexer,col_indexer] = value instead\n",
      "\n",
      "See the caveats in the documentation: https://pandas.pydata.org/pandas-docs/stable/user_guide/indexing.html#returning-a-view-versus-a-copy\n",
      "  sample['CLUSTER'] = labels\n"
     ]
    },
    {
     "data": {
      "text/html": [
       "<div>\n",
       "<style scoped>\n",
       "    .dataframe tbody tr th:only-of-type {\n",
       "        vertical-align: middle;\n",
       "    }\n",
       "\n",
       "    .dataframe tbody tr th {\n",
       "        vertical-align: top;\n",
       "    }\n",
       "\n",
       "    .dataframe thead th {\n",
       "        text-align: right;\n",
       "    }\n",
       "</style>\n",
       "<table border=\"1\" class=\"dataframe\">\n",
       "  <thead>\n",
       "    <tr style=\"text-align: right;\">\n",
       "      <th></th>\n",
       "      <th>SEX</th>\n",
       "      <th>DIED</th>\n",
       "      <th>L_THREAT</th>\n",
       "      <th>ER_VISIT</th>\n",
       "      <th>HOSPITAL</th>\n",
       "      <th>DISABLE</th>\n",
       "      <th>BIRTH_DEFECT</th>\n",
       "      <th>RECOVD</th>\n",
       "      <th>V_ADMINBY</th>\n",
       "      <th>VAX_MANU</th>\n",
       "      <th>VAX_SITE</th>\n",
       "      <th>VAX_ROUTE</th>\n",
       "      <th>AGE_GRP</th>\n",
       "      <th>CLUSTER</th>\n",
       "    </tr>\n",
       "  </thead>\n",
       "  <tbody>\n",
       "    <tr>\n",
       "      <th>0</th>\n",
       "      <td>0</td>\n",
       "      <td>0</td>\n",
       "      <td>0</td>\n",
       "      <td>0</td>\n",
       "      <td>0</td>\n",
       "      <td>0</td>\n",
       "      <td>0</td>\n",
       "      <td>1</td>\n",
       "      <td>4</td>\n",
       "      <td>1</td>\n",
       "      <td>2</td>\n",
       "      <td>1</td>\n",
       "      <td>3</td>\n",
       "      <td>0</td>\n",
       "    </tr>\n",
       "    <tr>\n",
       "      <th>1</th>\n",
       "      <td>0</td>\n",
       "      <td>0</td>\n",
       "      <td>0</td>\n",
       "      <td>0</td>\n",
       "      <td>0</td>\n",
       "      <td>0</td>\n",
       "      <td>0</td>\n",
       "      <td>1</td>\n",
       "      <td>6</td>\n",
       "      <td>1</td>\n",
       "      <td>6</td>\n",
       "      <td>1</td>\n",
       "      <td>7</td>\n",
       "      <td>0</td>\n",
       "    </tr>\n",
       "    <tr>\n",
       "      <th>4</th>\n",
       "      <td>0</td>\n",
       "      <td>0</td>\n",
       "      <td>0</td>\n",
       "      <td>0</td>\n",
       "      <td>0</td>\n",
       "      <td>0</td>\n",
       "      <td>0</td>\n",
       "      <td>0</td>\n",
       "      <td>3</td>\n",
       "      <td>1</td>\n",
       "      <td>2</td>\n",
       "      <td>1</td>\n",
       "      <td>4</td>\n",
       "      <td>3</td>\n",
       "    </tr>\n",
       "    <tr>\n",
       "      <th>5</th>\n",
       "      <td>0</td>\n",
       "      <td>0</td>\n",
       "      <td>0</td>\n",
       "      <td>0</td>\n",
       "      <td>0</td>\n",
       "      <td>0</td>\n",
       "      <td>0</td>\n",
       "      <td>1</td>\n",
       "      <td>4</td>\n",
       "      <td>1</td>\n",
       "      <td>2</td>\n",
       "      <td>1</td>\n",
       "      <td>4</td>\n",
       "      <td>0</td>\n",
       "    </tr>\n",
       "    <tr>\n",
       "      <th>6</th>\n",
       "      <td>1</td>\n",
       "      <td>0</td>\n",
       "      <td>0</td>\n",
       "      <td>0</td>\n",
       "      <td>0</td>\n",
       "      <td>0</td>\n",
       "      <td>0</td>\n",
       "      <td>1</td>\n",
       "      <td>3</td>\n",
       "      <td>1</td>\n",
       "      <td>2</td>\n",
       "      <td>1</td>\n",
       "      <td>4</td>\n",
       "      <td>0</td>\n",
       "    </tr>\n",
       "    <tr>\n",
       "      <th>...</th>\n",
       "      <td>...</td>\n",
       "      <td>...</td>\n",
       "      <td>...</td>\n",
       "      <td>...</td>\n",
       "      <td>...</td>\n",
       "      <td>...</td>\n",
       "      <td>...</td>\n",
       "      <td>...</td>\n",
       "      <td>...</td>\n",
       "      <td>...</td>\n",
       "      <td>...</td>\n",
       "      <td>...</td>\n",
       "      <td>...</td>\n",
       "      <td>...</td>\n",
       "    </tr>\n",
       "    <tr>\n",
       "      <th>17405</th>\n",
       "      <td>0</td>\n",
       "      <td>0</td>\n",
       "      <td>0</td>\n",
       "      <td>0</td>\n",
       "      <td>0</td>\n",
       "      <td>0</td>\n",
       "      <td>0</td>\n",
       "      <td>1</td>\n",
       "      <td>4</td>\n",
       "      <td>1</td>\n",
       "      <td>2</td>\n",
       "      <td>1</td>\n",
       "      <td>6</td>\n",
       "      <td>0</td>\n",
       "    </tr>\n",
       "    <tr>\n",
       "      <th>17407</th>\n",
       "      <td>1</td>\n",
       "      <td>0</td>\n",
       "      <td>0</td>\n",
       "      <td>0</td>\n",
       "      <td>0</td>\n",
       "      <td>0</td>\n",
       "      <td>0</td>\n",
       "      <td>0</td>\n",
       "      <td>4</td>\n",
       "      <td>1</td>\n",
       "      <td>2</td>\n",
       "      <td>5</td>\n",
       "      <td>7</td>\n",
       "      <td>4</td>\n",
       "    </tr>\n",
       "    <tr>\n",
       "      <th>17408</th>\n",
       "      <td>0</td>\n",
       "      <td>0</td>\n",
       "      <td>0</td>\n",
       "      <td>0</td>\n",
       "      <td>0</td>\n",
       "      <td>0</td>\n",
       "      <td>0</td>\n",
       "      <td>1</td>\n",
       "      <td>6</td>\n",
       "      <td>2</td>\n",
       "      <td>2</td>\n",
       "      <td>1</td>\n",
       "      <td>9</td>\n",
       "      <td>0</td>\n",
       "    </tr>\n",
       "    <tr>\n",
       "      <th>17409</th>\n",
       "      <td>0</td>\n",
       "      <td>0</td>\n",
       "      <td>0</td>\n",
       "      <td>0</td>\n",
       "      <td>0</td>\n",
       "      <td>0</td>\n",
       "      <td>0</td>\n",
       "      <td>1</td>\n",
       "      <td>4</td>\n",
       "      <td>2</td>\n",
       "      <td>2</td>\n",
       "      <td>1</td>\n",
       "      <td>3</td>\n",
       "      <td>0</td>\n",
       "    </tr>\n",
       "    <tr>\n",
       "      <th>17410</th>\n",
       "      <td>0</td>\n",
       "      <td>0</td>\n",
       "      <td>0</td>\n",
       "      <td>0</td>\n",
       "      <td>0</td>\n",
       "      <td>0</td>\n",
       "      <td>0</td>\n",
       "      <td>1</td>\n",
       "      <td>4</td>\n",
       "      <td>2</td>\n",
       "      <td>6</td>\n",
       "      <td>1</td>\n",
       "      <td>5</td>\n",
       "      <td>0</td>\n",
       "    </tr>\n",
       "  </tbody>\n",
       "</table>\n",
       "<p>10000 rows × 14 columns</p>\n",
       "</div>"
      ],
      "text/plain": [
       "       SEX  DIED  L_THREAT  ER_VISIT  HOSPITAL  DISABLE  BIRTH_DEFECT  RECOVD  \\\n",
       "0        0     0         0         0         0        0             0       1   \n",
       "1        0     0         0         0         0        0             0       1   \n",
       "4        0     0         0         0         0        0             0       0   \n",
       "5        0     0         0         0         0        0             0       1   \n",
       "6        1     0         0         0         0        0             0       1   \n",
       "...    ...   ...       ...       ...       ...      ...           ...     ...   \n",
       "17405    0     0         0         0         0        0             0       1   \n",
       "17407    1     0         0         0         0        0             0       0   \n",
       "17408    0     0         0         0         0        0             0       1   \n",
       "17409    0     0         0         0         0        0             0       1   \n",
       "17410    0     0         0         0         0        0             0       1   \n",
       "\n",
       "       V_ADMINBY  VAX_MANU  VAX_SITE  VAX_ROUTE  AGE_GRP  CLUSTER  \n",
       "0              4         1         2          1        3        0  \n",
       "1              6         1         6          1        7        0  \n",
       "4              3         1         2          1        4        3  \n",
       "5              4         1         2          1        4        0  \n",
       "6              3         1         2          1        4        0  \n",
       "...          ...       ...       ...        ...      ...      ...  \n",
       "17405          4         1         2          1        6        0  \n",
       "17407          4         1         2          5        7        4  \n",
       "17408          6         2         2          1        9        0  \n",
       "17409          4         2         2          1        3        0  \n",
       "17410          4         2         6          1        5        0  \n",
       "\n",
       "[10000 rows x 14 columns]"
      ]
     },
     "execution_count": 32,
     "metadata": {},
     "output_type": "execute_result"
    }
   ],
   "source": [
    "kmode = KModes(n_clusters=k, init = \"Cao\", n_init = 1, verbose=1)\n",
    "labels = kmode.fit_predict(sample)\n",
    "sample['CLUSTER'] = labels\n",
    "\n",
    "sample"
   ]
  },
  {
   "cell_type": "markdown",
   "metadata": {},
   "source": [
    "## PART 4: Results and Discussion"
   ]
  },
  {
   "cell_type": "code",
   "execution_count": 33,
   "metadata": {},
   "outputs": [
    {
     "data": {
      "image/png": "[encoded data removed]",
      "text/plain": [
       "<Figure size 1080x360 with 1 Axes>"
      ]
     },
     "metadata": {
      "needs_background": "light"
     },
     "output_type": "display_data"
    },
    {
     "data": {
      "image/png": "[encoded data removed]",
      "text/plain": [
       "<Figure size 1080x360 with 1 Axes>"
      ]
     },
     "metadata": {
      "needs_background": "light"
     },
     "output_type": "display_data"
    },
    {
     "data": {
      "image/png": "[encoded data removed]",
      "text/plain": [
       "<Figure size 1080x360 with 1 Axes>"
      ]
     },
     "metadata": {
      "needs_background": "light"
     },
     "output_type": "display_data"
    },
    {
     "data": {
      "image/png": "[encoded data removed]",
      "text/plain": [
       "<Figure size 1080x360 with 1 Axes>"
      ]
     },
     "metadata": {
      "needs_background": "light"
     },
     "output_type": "display_data"
    },
    {
     "data": {
      "image/png": "[encoded data removed]",
      "text/plain": [
       "<Figure size 1080x360 with 1 Axes>"
      ]
     },
     "metadata": {
      "needs_background": "light"
     },
     "output_type": "display_data"
    },
    {
     "data": {
      "image/png": "[encoded data removed]",
      "text/plain": [
       "<Figure size 1080x360 with 1 Axes>"
      ]
     },
     "metadata": {
      "needs_background": "light"
     },
     "output_type": "display_data"
    },
    {
     "data": {
      "image/png": "[encoded data removed]",
      "text/plain": [
       "<Figure size 1080x360 with 1 Axes>"
      ]
     },
     "metadata": {
      "needs_background": "light"
     },
     "output_type": "display_data"
    },
    {
     "data": {
      "image/png": "[encoded data removed]",
      "text/plain": [
       "<Figure size 1080x360 with 1 Axes>"
      ]
     },
     "metadata": {
      "needs_background": "light"
     },
     "output_type": "display_data"
    },
    {
     "data": {
      "image/png": "[encoded data removed]",
      "text/plain": [
       "<Figure size 1080x360 with 1 Axes>"
      ]
     },
     "metadata": {
      "needs_background": "light"
     },
     "output_type": "display_data"
    },
    {
     "data": {
      "image/png": "[encoded data removed]",
      "text/plain": [
       "<Figure size 1080x360 with 1 Axes>"
      ]
     },
     "metadata": {
      "needs_background": "light"
     },
     "output_type": "display_data"
    },
    {
     "data": {
      "image/png": "[encoded data removed]",
      "text/plain": [
       "<Figure size 1080x360 with 1 Axes>"
      ]
     },
     "metadata": {
      "needs_background": "light"
     },
     "output_type": "display_data"
    },
    {
     "data": {
      "image/png": "[encoded data removed]",
      "text/plain": [
       "<Figure size 1080x360 with 1 Axes>"
      ]
     },
     "metadata": {
      "needs_background": "light"
     },
     "output_type": "display_data"
    },
    {
     "data": {
      "image/png": "[encoded data removed]",
      "text/plain": [
       "<Figure size 1080x360 with 1 Axes>"
      ]
     },
     "metadata": {
      "needs_background": "light"
     },
     "output_type": "display_data"
    }
   ],
   "source": [
    "features = [\n",
    "    'AGE_GRP','SEX','DIED','L_THREAT', 'ER_VISIT',\n",
    "    'HOSPITAL','DISABLE','BIRTH_DEFECT','RECOVD', \n",
    "    'V_ADMINBY','VAX_MANU','VAX_SITE','VAX_ROUTE'\n",
    "    ]\n",
    "\n",
    "for i in features:\n",
    "    plt.subplots(figsize = (15,5))\n",
    "    sns.countplot(x='CLUSTER',hue=i, data = sample)\n",
    "    plt.show()"
   ]
  },
  {
   "cell_type": "code",
   "execution_count": 34,
   "metadata": {},
   "outputs": [
    {
     "name": "stdout",
     "output_type": "stream",
     "text": [
      "SEX  DIED  L_THREAT  ER_VISIT  HOSPITAL  DISABLE  BIRTH_DEFECT  RECOVD  V_ADMINBY  VAX_MANU  VAX_SITE  VAX_ROUTE  AGE_GRP  CLUSTER\n",
      "0    0     0         0         0         0        0             0       4          1         2         1          3        0          188\n",
      "                                                                1       4          2         2         1          3        0          180\n",
      "                                                                                   1         2         1          3        0          169\n",
      "                                                                                   2         2         1          4        0          164\n",
      "                                                                0       4          1         2         1          4        0          152\n",
      "                                                                1       4          1         2         1          4        0          135\n",
      "                                                                                                                  5        0          127\n",
      "                                                                                   2         2         1          5        0          115\n",
      "                                                                        1          1         2         1          4        0          111\n",
      "                                                                                                                  5        0          107\n",
      "                                                                0       4          1         2         1          5        0          104\n",
      "                                                                1       1          1         2         1          3        0          100\n",
      "                                                                        4          1         2         1          2        0           89\n",
      "                                                                                   2         6         1          3        0           85\n",
      "                                                                                   1         6         1          3        0           71\n",
      "dtype: int64\n"
     ]
    }
   ],
   "source": [
    "cluster_0 = sample[sample['CLUSTER']==0].value_counts()\n",
    "cluster_0.to_csv(\"../results/cluster_0.csv\")\n",
    "\n",
    "print(cluster_0.head(15))"
   ]
  },
  {
   "cell_type": "markdown",
   "metadata": {},
   "source": [
    "We see that the patients in cluster 0 are mostly:\n",
    "- female\n",
    "- eme eme"
   ]
  },
  {
   "cell_type": "code",
   "execution_count": 35,
   "metadata": {},
   "outputs": [
    {
     "name": "stdout",
     "output_type": "stream",
     "text": [
      "SEX  DIED  L_THREAT  ER_VISIT  HOSPITAL  DISABLE  BIRTH_DEFECT  RECOVD  V_ADMINBY  VAX_MANU  VAX_SITE  VAX_ROUTE  AGE_GRP  CLUSTER\n",
      "0    0     0         0         0         0        0             1       4          2         6         1          4        1          73\n",
      "                                                                0       4          1         6         1          4        1          65\n",
      "                                                                                   2         6         1          3        1          51\n",
      "                                                                                   1         2         5          4        1          45\n",
      "                                                                                   2         6         1          4        1          39\n",
      "                                                                                             2         5          3        1          29\n",
      "                                                                                             6         1          5        1          27\n",
      "                                                                        7          1         6         1          4        1          25\n",
      "                                                                1       4          2         2         5          4        1          24\n",
      "                                                                0       4          2         2         3          4        1          23\n",
      "                                                                        3          1         6         1          4        1          21\n",
      "                                                                        4          2         2         5          4        1          19\n",
      "                                                                1       4          2         6         5          3        1          17\n",
      "                                                                        7          2         6         1          4        1          16\n",
      "                                                                0       4          1         6         5          4        1          16\n",
      "dtype: int64\n"
     ]
    }
   ],
   "source": [
    "cluster_1 = sample[sample['CLUSTER']==1].value_counts()\n",
    "cluster_1.to_csv(\"../results/cluster_1.csv\")\n",
    "\n",
    "print(cluster_1.head(15))"
   ]
  },
  {
   "cell_type": "code",
   "execution_count": 36,
   "metadata": {},
   "outputs": [
    {
     "name": "stdout",
     "output_type": "stream",
     "text": [
      "SEX  DIED  L_THREAT  ER_VISIT  HOSPITAL  DISABLE  BIRTH_DEFECT  RECOVD  V_ADMINBY  VAX_MANU  VAX_SITE  VAX_ROUTE  AGE_GRP  CLUSTER\n",
      "0    0     0         0         0         0        0             0       4          2         2         1          3        2          115\n",
      "                                                                                                                  4        2          102\n",
      "                                                                1       4          2         2         1          2        2           99\n",
      "                                                                0       4          1         2         1          2        2           99\n",
      "                                                                                   2         2         1          5        2           68\n",
      "                                                                                                                  2        2           62\n",
      "                                                                1       4          2         6         1          2        2           48\n",
      "                                                                0       4          1         6         1          2        2           36\n",
      "                                                                                             2         5          2        2           36\n",
      "                                                                        7          2         2         1          3        2           34\n",
      "                                                                                                                  5        2           30\n",
      "                                                                        4          2         2         5          2        2           29\n",
      "                                                                1       7          2         2         1          2        2           28\n",
      "1    0     0         0         0         0        0             1       4          2         2         1          2        2           28\n",
      "0    0     0         0         0         0        0             0       4          2         2         3          3        2           27\n",
      "dtype: int64\n"
     ]
    }
   ],
   "source": [
    "cluster_2 = sample[sample['CLUSTER']==2].value_counts()\n",
    "cluster_2.to_csv(\"../results/cluster_2.csv\")\n",
    "\n",
    "print(cluster_2.head(15))"
   ]
  },
  {
   "cell_type": "code",
   "execution_count": 37,
   "metadata": {},
   "outputs": [
    {
     "name": "stdout",
     "output_type": "stream",
     "text": [
      "SEX  DIED  L_THREAT  ER_VISIT  HOSPITAL  DISABLE  BIRTH_DEFECT  RECOVD  V_ADMINBY  VAX_MANU  VAX_SITE  VAX_ROUTE  AGE_GRP  CLUSTER\n",
      "0    0     0         0         0         0        0             0       1          1         2         1          4        3          75\n",
      "                                                                1       1          2         2         1          4        3          52\n",
      "                                                                0       7          1         2         1          4        3          47\n",
      "                                                                1       1          2         2         1          5        3          45\n",
      "                                                                        7          2         2         1          4        3          44\n",
      "                                                                0       7          2         2         1          4        3          40\n",
      "                                                                        3          1         2         1          4        3          38\n",
      "                                                                        1          1         2         1          6        3          33\n",
      "                                                                                   2         2         1          5        3          30\n",
      "                                                                1       1          2         6         1          4        3          26\n",
      "                                                                0       1          1         6         1          4        3          25\n",
      "                                                                                   2         2         1          4        3          24\n",
      "                                                                1       1          2         2         1          6        3          21\n",
      "1    0     0         0         0         0        0             1       1          2         2         1          4        3          19\n",
      "0    0     0         0         0         0        0             0       1          2         2         1          3        3          18\n",
      "dtype: int64\n"
     ]
    }
   ],
   "source": [
    "cluster_3 = sample[sample['CLUSTER']==3].value_counts()\n",
    "cluster_3.to_csv(\"../results/cluster_3.csv\")\n",
    "\n",
    "print(cluster_3.head(15))"
   ]
  },
  {
   "cell_type": "code",
   "execution_count": 43,
   "metadata": {},
   "outputs": [
    {
     "name": "stdout",
     "output_type": "stream",
     "text": [
      "SEX  DIED  L_THREAT  ER_VISIT  HOSPITAL  DISABLE  BIRTH_DEFECT  RECOVD  V_ADMINBY  VAX_MANU  VAX_SITE  VAX_ROUTE  AGE_GRP  CLUSTER\n",
      "0    0     0         0         0         0        0             0       1          1         2         1          5        4          57\n",
      "1    0     0         0         0         0        0             1       1          1         2         1          5        4          41\n",
      "0    0     0         0         0         0        0             0       7          1         2         1          5        4          40\n",
      "1    0     0         0         0         0        0             1       1          1         2         1          4        4          36\n",
      "0    0     0         0         0         0        0             0       3          1         2         1          5        4          30\n",
      "1    0     0         0         0         0        0             0       1          1         2         1          5        4          28\n",
      "                                                                1       1          2         2         1          5        4          24\n",
      "                                                                0       4          1         2         1          4        4          24\n",
      "0    0     0         0         0         0        0             0       1          1         6         1          5        4          24\n",
      "1    0     0         0         0         0        0             1       1          1         2         1          6        4          24\n",
      "                                                                                             6         1          5        4          19\n",
      "                                                                0       1          1         2         1          6        4          16\n",
      "                                                                1       1          1         6         1          4        4          14\n",
      "                                                                                             2         1          2        4          13\n",
      "                                                                0       4          1         2         1          5        4          13\n",
      "dtype: int64\n"
     ]
    }
   ],
   "source": [
    "cluster_4 = sample[sample['CLUSTER']==4].value_counts()\n",
    "cluster_4.to_csv(\"../results/cluster_4.csv\")\n",
    "\n",
    "print(cluster_4.head(15))"
   ]
  },
  {
   "cell_type": "code",
   "execution_count": 40,
   "metadata": {},
   "outputs": [
    {
     "ename": "KeyError",
     "evalue": "'CLUSTER'",
     "output_type": "error",
     "traceback": [
      "\u001b[1;31m---------------------------------------------------------------------------\u001b[0m",
      "\u001b[1;31mKeyError\u001b[0m                                  Traceback (most recent call last)",
      "File \u001b[1;32md:\\Apps\\anaconda3\\envs\\cs180-mp\\lib\\site-packages\\pandas\\core\\indexes\\base.py:3621\u001b[0m, in \u001b[0;36mIndex.get_loc\u001b[1;34m(self, key, method, tolerance)\u001b[0m\n\u001b[0;32m   <a href='file:///d%3A/Apps/anaconda3/envs/cs180-mp/lib/site-packages/pandas/core/indexes/base.py?line=3619'>3620</a>\u001b[0m \u001b[39mtry\u001b[39;00m:\n\u001b[1;32m-> <a href='file:///d%3A/Apps/anaconda3/envs/cs180-mp/lib/site-packages/pandas/core/indexes/base.py?line=3620'>3621</a>\u001b[0m     \u001b[39mreturn\u001b[39;00m \u001b[39mself\u001b[39;49m\u001b[39m.\u001b[39;49m_engine\u001b[39m.\u001b[39;49mget_loc(casted_key)\n\u001b[0;32m   <a href='file:///d%3A/Apps/anaconda3/envs/cs180-mp/lib/site-packages/pandas/core/indexes/base.py?line=3621'>3622</a>\u001b[0m \u001b[39mexcept\u001b[39;00m \u001b[39mKeyError\u001b[39;00m \u001b[39mas\u001b[39;00m err:\n",
      "File \u001b[1;32md:\\Apps\\anaconda3\\envs\\cs180-mp\\lib\\site-packages\\pandas\\_libs\\index.pyx:136\u001b[0m, in \u001b[0;36mpandas._libs.index.IndexEngine.get_loc\u001b[1;34m()\u001b[0m\n",
      "File \u001b[1;32md:\\Apps\\anaconda3\\envs\\cs180-mp\\lib\\site-packages\\pandas\\_libs\\index.pyx:163\u001b[0m, in \u001b[0;36mpandas._libs.index.IndexEngine.get_loc\u001b[1;34m()\u001b[0m\n",
      "File \u001b[1;32mpandas\\_libs\\hashtable_class_helper.pxi:5198\u001b[0m, in \u001b[0;36mpandas._libs.hashtable.PyObjectHashTable.get_item\u001b[1;34m()\u001b[0m\n",
      "File \u001b[1;32mpandas\\_libs\\hashtable_class_helper.pxi:5206\u001b[0m, in \u001b[0;36mpandas._libs.hashtable.PyObjectHashTable.get_item\u001b[1;34m()\u001b[0m\n",
      "\u001b[1;31mKeyError\u001b[0m: 'CLUSTER'",
      "\nThe above exception was the direct cause of the following exception:\n",
      "\u001b[1;31mKeyError\u001b[0m                                  Traceback (most recent call last)",
      "\u001b[1;32md:\\Documents\\Environments\\vaxxAId\\main\\vaxxaid.ipynb Cell 44'\u001b[0m in \u001b[0;36m<cell line: 1>\u001b[1;34m()\u001b[0m\n\u001b[1;32m----> <a href='vscode-notebook-cell:/d%3A/Documents/Environments/vaxxAId/main/vaxxaid.ipynb#ch0000042?line=0'>1</a>\u001b[0m cluster_5 \u001b[39m=\u001b[39m patients[patients[\u001b[39m'\u001b[39;49m\u001b[39mCLUSTER\u001b[39;49m\u001b[39m'\u001b[39;49m]\u001b[39m==\u001b[39m\u001b[39m5\u001b[39m]\u001b[39m.\u001b[39mvalue_counts()\n\u001b[0;32m      <a href='vscode-notebook-cell:/d%3A/Documents/Environments/vaxxAId/main/vaxxaid.ipynb#ch0000042?line=1'>2</a>\u001b[0m cluster_5\u001b[39m.\u001b[39mto_csv(\u001b[39m\"\u001b[39m\u001b[39m../results/cluster_5.csv\u001b[39m\u001b[39m\"\u001b[39m)\n\u001b[0;32m      <a href='vscode-notebook-cell:/d%3A/Documents/Environments/vaxxAId/main/vaxxaid.ipynb#ch0000042?line=3'>4</a>\u001b[0m \u001b[39mprint\u001b[39m(cluster_5\u001b[39m.\u001b[39mhead(\u001b[39m15\u001b[39m))\n",
      "File \u001b[1;32md:\\Apps\\anaconda3\\envs\\cs180-mp\\lib\\site-packages\\pandas\\core\\frame.py:3505\u001b[0m, in \u001b[0;36mDataFrame.__getitem__\u001b[1;34m(self, key)\u001b[0m\n\u001b[0;32m   <a href='file:///d%3A/Apps/anaconda3/envs/cs180-mp/lib/site-packages/pandas/core/frame.py?line=3502'>3503</a>\u001b[0m \u001b[39mif\u001b[39;00m \u001b[39mself\u001b[39m\u001b[39m.\u001b[39mcolumns\u001b[39m.\u001b[39mnlevels \u001b[39m>\u001b[39m \u001b[39m1\u001b[39m:\n\u001b[0;32m   <a href='file:///d%3A/Apps/anaconda3/envs/cs180-mp/lib/site-packages/pandas/core/frame.py?line=3503'>3504</a>\u001b[0m     \u001b[39mreturn\u001b[39;00m \u001b[39mself\u001b[39m\u001b[39m.\u001b[39m_getitem_multilevel(key)\n\u001b[1;32m-> <a href='file:///d%3A/Apps/anaconda3/envs/cs180-mp/lib/site-packages/pandas/core/frame.py?line=3504'>3505</a>\u001b[0m indexer \u001b[39m=\u001b[39m \u001b[39mself\u001b[39;49m\u001b[39m.\u001b[39;49mcolumns\u001b[39m.\u001b[39;49mget_loc(key)\n\u001b[0;32m   <a href='file:///d%3A/Apps/anaconda3/envs/cs180-mp/lib/site-packages/pandas/core/frame.py?line=3505'>3506</a>\u001b[0m \u001b[39mif\u001b[39;00m is_integer(indexer):\n\u001b[0;32m   <a href='file:///d%3A/Apps/anaconda3/envs/cs180-mp/lib/site-packages/pandas/core/frame.py?line=3506'>3507</a>\u001b[0m     indexer \u001b[39m=\u001b[39m [indexer]\n",
      "File \u001b[1;32md:\\Apps\\anaconda3\\envs\\cs180-mp\\lib\\site-packages\\pandas\\core\\indexes\\base.py:3623\u001b[0m, in \u001b[0;36mIndex.get_loc\u001b[1;34m(self, key, method, tolerance)\u001b[0m\n\u001b[0;32m   <a href='file:///d%3A/Apps/anaconda3/envs/cs180-mp/lib/site-packages/pandas/core/indexes/base.py?line=3620'>3621</a>\u001b[0m     \u001b[39mreturn\u001b[39;00m \u001b[39mself\u001b[39m\u001b[39m.\u001b[39m_engine\u001b[39m.\u001b[39mget_loc(casted_key)\n\u001b[0;32m   <a href='file:///d%3A/Apps/anaconda3/envs/cs180-mp/lib/site-packages/pandas/core/indexes/base.py?line=3621'>3622</a>\u001b[0m \u001b[39mexcept\u001b[39;00m \u001b[39mKeyError\u001b[39;00m \u001b[39mas\u001b[39;00m err:\n\u001b[1;32m-> <a href='file:///d%3A/Apps/anaconda3/envs/cs180-mp/lib/site-packages/pandas/core/indexes/base.py?line=3622'>3623</a>\u001b[0m     \u001b[39mraise\u001b[39;00m \u001b[39mKeyError\u001b[39;00m(key) \u001b[39mfrom\u001b[39;00m \u001b[39merr\u001b[39;00m\n\u001b[0;32m   <a href='file:///d%3A/Apps/anaconda3/envs/cs180-mp/lib/site-packages/pandas/core/indexes/base.py?line=3623'>3624</a>\u001b[0m \u001b[39mexcept\u001b[39;00m \u001b[39mTypeError\u001b[39;00m:\n\u001b[0;32m   <a href='file:///d%3A/Apps/anaconda3/envs/cs180-mp/lib/site-packages/pandas/core/indexes/base.py?line=3624'>3625</a>\u001b[0m     \u001b[39m# If we have a listlike key, _check_indexing_error will raise\u001b[39;00m\n\u001b[0;32m   <a href='file:///d%3A/Apps/anaconda3/envs/cs180-mp/lib/site-packages/pandas/core/indexes/base.py?line=3625'>3626</a>\u001b[0m     \u001b[39m#  InvalidIndexError. Otherwise we fall through and re-raise\u001b[39;00m\n\u001b[0;32m   <a href='file:///d%3A/Apps/anaconda3/envs/cs180-mp/lib/site-packages/pandas/core/indexes/base.py?line=3626'>3627</a>\u001b[0m     \u001b[39m#  the TypeError.\u001b[39;00m\n\u001b[0;32m   <a href='file:///d%3A/Apps/anaconda3/envs/cs180-mp/lib/site-packages/pandas/core/indexes/base.py?line=3627'>3628</a>\u001b[0m     \u001b[39mself\u001b[39m\u001b[39m.\u001b[39m_check_indexing_error(key)\n",
      "\u001b[1;31mKeyError\u001b[0m: 'CLUSTER'"
     ]
    }
   ],
   "source": [
    "cluster_5 = patients[patients['CLUSTER']==5].value_counts()\n",
    "cluster_5.to_csv(\"../results/cluster_5.csv\")\n",
    "\n",
    "print(cluster_5.head(15))"
   ]
  },
  {
   "cell_type": "code",
   "execution_count": null,
   "metadata": {},
   "outputs": [],
   "source": [
    "cluster_6 = patients[patients['CLUSTER']==6].value_counts()\n",
    "cluster_6.to_csv(\"../results/cluster_6.csv\")\n",
    "\n",
    "print(cluster_6.head(15))"
   ]
  },
  {
   "cell_type": "markdown",
   "metadata": {},
   "source": [
    "## PART 5: Conclusion"
   ]
  }
 ],
 "metadata": {
  "interpreter": {
   "hash": "a0f5e4c9d0504a47335ac3e343711637638e4eba2acc89b1cac5dc9f5f87e758"
  },
  "kernelspec": {
   "display_name": "Python 3 (ipykernel)",
   "language": "python",
   "name": "python3"
  },
  "language_info": {
   "codemirror_mode": {
    "name": "ipython",
    "version": 3
   },
   "file_extension": ".py",
   "mimetype": "text/x-python",
   "name": "python",
   "nbconvert_exporter": "python",
   "pygments_lexer": "ipython3",
   "version": "3.9.12"
  }
 },
 "nbformat": 4,
 "nbformat_minor": 2
}
