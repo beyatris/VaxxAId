{
 "cells": [
  {
   "cell_type": "code",
   "execution_count": null,
   "metadata": {},
   "outputs": [],
   "source": [
    "import pandas as pd\n",
    "import numpy as np\n",
    "import math\n",
    "import matplotlib.pyplot as plt\n",
    "import seaborn as sns\n",
    "\n",
    "def barplot(df_col, col):\n",
    "    sns.set(font_scale=1.2)\n",
    "    df_col.value_counts().plot(kind='bar', figsize=(6,6), rot=0)\n",
    "    plt.xlabel(col, labelpad=14)\n",
    "    plt.ylabel(\"Count\", labelpad=14)"
   ]
  }
 ],
 "metadata": {
  "interpreter": {
   "hash": "a0f5e4c9d0504a47335ac3e343711637638e4eba2acc89b1cac5dc9f5f87e758"
  },
  "kernelspec": {
   "display_name": "Python 3.9.12 ('cs180-mp')",
   "language": "python",
   "name": "python3"
  },
  "language_info": {
   "name": "python",
   "version": "3.9.12"
  },
  "orig_nbformat": 4
 },
 "nbformat": 4,
 "nbformat_minor": 2
}
