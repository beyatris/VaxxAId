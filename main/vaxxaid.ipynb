{
 "cells": [
  {
   "cell_type": "markdown",
   "metadata": {},
   "source": [
    "# vaxxAId\n",
    "\n",
    "**VaxxAId** aims to cluster and find similarities among patients who experienced COVID-19 vaccine adverse reactions or side effects based on the reports from the Vaccine Adverse Event Reporting System (VAERS). This would aid in the identification and classification of patients at risk of such effects. It will use the **K-modes clustering algorithm** to cluster the reports based on features such as patient outcomes, demographics, type of vaccine received, etc.\n",
    "\n",
    "This project is developed by:\n",
    "- Rene Lee Aquitania\n",
    "- Alyssa Beatrice Diokno\n",
    "- Derryn Joi Martirez\n",
    "- Marie Isabel Yao"
   ]
  },
  {
   "cell_type": "markdown",
   "metadata": {},
   "source": [
    "## PART 1: Data Preprocessing\n",
    "\n",
    "### PART 1.1: Importing the Libraries\n",
    "\n",
    "Before running the code below, make sure to install the following libraries using `conda install <package-name>`: \n",
    "- `pandas`\n",
    "- `numpy`\n",
    "- `matplotlib`\n",
    "- `seaborn`\n",
    "- `sklearn`\n",
    "\n",
    "Install the following libraries as well using `pip install <package-name>`:\n",
    "- `kmodes`\n",
    "- `kneed`"
   ]
  },
  {
   "cell_type": "code",
   "execution_count": 2,
   "metadata": {},
   "outputs": [
    {
     "ename": "ModuleNotFoundError",
     "evalue": "No module named 'kneed'",
     "output_type": "error",
     "traceback": [
      "\u001b[1;31m---------------------------------------------------------------------------\u001b[0m",
      "\u001b[1;31mModuleNotFoundError\u001b[0m                       Traceback (most recent call last)",
      "Input \u001b[1;32mIn [2]\u001b[0m, in \u001b[0;36m<cell line: 14>\u001b[1;34m()\u001b[0m\n\u001b[0;32m     12\u001b[0m \u001b[38;5;28;01mfrom\u001b[39;00m \u001b[38;5;21;01msklearn\u001b[39;00m \u001b[38;5;28;01mimport\u001b[39;00m metrics\n\u001b[0;32m     13\u001b[0m \u001b[38;5;28;01mfrom\u001b[39;00m \u001b[38;5;21;01msklearn\u001b[39;00m\u001b[38;5;21;01m.\u001b[39;00m\u001b[38;5;21;01mpreprocessing\u001b[39;00m \u001b[38;5;28;01mimport\u001b[39;00m LabelEncoder\n\u001b[1;32m---> 14\u001b[0m \u001b[38;5;28;01mfrom\u001b[39;00m \u001b[38;5;21;01mkneed\u001b[39;00m \u001b[38;5;28;01mimport\u001b[39;00m KneeLocator\n",
      "\u001b[1;31mModuleNotFoundError\u001b[0m: No module named 'kneed'"
     ]
    }
   ],
   "source": [
    "# Importing libraries\n",
    "\n",
    "import pandas as pd\n",
    "import numpy as np\n",
    "import math\n",
    "import matplotlib.pyplot as plt\n",
    "import seaborn as sns\n",
    "import sklearn\n",
    "# import ipynb.fs.defs.utils as utils\n",
    "\n",
    "from kmodes.kmodes import KModes\n",
    "from sklearn import metrics\n",
    "from sklearn.preprocessing import LabelEncoder\n",
    "from kneed import KneeLocator"
   ]
  },
  {
   "cell_type": "markdown",
   "metadata": {},
   "source": [
    "### PART 1.2: Data Cleaning"
   ]
  },
  {
   "cell_type": "markdown",
   "metadata": {},
   "source": [
    "We start by reading the following CSV files into separate dataframes. For each year, we have patient data and vaccine data from two dataframes that can be joined on the key `VAERS_ID`."
   ]
  },
  {
   "cell_type": "code",
   "execution_count": null,
   "metadata": {},
   "outputs": [],
   "source": [
    "patients2021 = pd.read_csv('../data/2021VAERSDATA.csv', encoding='latin1')\n",
    "vaccine2021 = pd.read_csv('../data/2021VAERSVAX.csv', encoding='latin1')\n",
    "\n",
    "patients2022 = pd.read_csv('../data/2022VAERSDATA.csv', encoding='latin1')\n",
    "vaccine2022 = pd.read_csv('../data/2022VAERSVAX.csv', encoding='latin1')\n",
    "\n",
    "# Joining the dataframes on VAERS_ID\n",
    "patients2021 = patients2021.join(vaccine2021.set_index('VAERS_ID'), on='VAERS_ID', how='inner')\n",
    "patients2022 = patients2022.join(vaccine2022.set_index('VAERS_ID'), on='VAERS_ID', how='inner')"
   ]
  },
  {
   "cell_type": "markdown",
   "metadata": {},
   "source": [
    "Since the datasets may contain reports on adverse effects of other FDA-approved vaccines, we only keep rows where the vaccine type is COVID-19. Finally, we concatenate the 2021 and 2022 dataframes."
   ]
  },
  {
   "cell_type": "code",
   "execution_count": null,
   "metadata": {},
   "outputs": [],
   "source": [
    "patients2021 = patients2021[patients2021['VAX_TYPE']=='COVID19']\n",
    "patients2022 = patients2022[patients2022['VAX_TYPE']=='COVID19']\n",
    "\n",
    "patients = pd.concat([patients2021, patients2022], axis=0)\n",
    "\n",
    "features = [\n",
    "    'VAERS_ID','AGE_YRS','SEX','DIED','L_THREAT',\n",
    "    'ER_VISIT','HOSPITAL','DISABLE','BIRTH_DEFECT','RECOVD',\n",
    "    'V_ADMINBY','VAX_TYPE','VAX_MANU','VAX_SITE','VAX_ROUTE'\n",
    "    ]\n",
    "    \n",
    "patients = patients[features]\n",
    "\n",
    "patients = patients.drop(['VAX_TYPE'],axis=1)\n",
    "\n",
    "patients.to_csv('../data/20212022DATA.csv', index=False)\n",
    "\n",
    "patients_df = pd.read_csv('../data/20212022DATA.csv', encoding='latin1')\n",
    "\n",
    "patients"
   ]
  },
  {
   "cell_type": "markdown",
   "metadata": {},
   "source": [
    "Described in the following table are the attributes for the clustering process. All of these are categorical data.\n",
    "\n",
    "| Attributes | Data Type | Description |\n",
    "| ---------- | --------- | ----------- |\n",
    "| `AGE_GRP`      | range     | Age group                                                   |\n",
    "| `SEX`          | char(1)   | Sex                                                         |\n",
    "| `DIED`         | char(1)   | Adverse effect caused death of the patient                  |\n",
    "| `L_THREAT`     | char(1)   | Life-threatening event associated with the vaccination      |\n",
    "| `ER_VISIT`     | char(1)   | Patient required ER visit after experiencing adverse effect |\n",
    "| `HOSPITAL`     | char(1)   | Patient was hospitalized after experiencing adverse effect  |\n",
    "| `DISABLE`      | char(1)   | Patient was disabled after experiencing adverse effect      |\n",
    "| `BIRTH_DEFECT` | char(1)   | Patient has birth defect                                    |\n",
    "| `RECOVD`       | char(1)   | Patient recovered from adverse effect                       |\n",
    "| `V_ADMINBY`    | char(3)   | Vaccine administered at                                     |\n",
    "| `VAX_MANU`     | char(40)  | Vaccine manufacterer                                        |\n",
    "| `VAX_SITE`     | char(6)   | Vaccination anatomic site                                   |\n",
    "| `VAX_ROUTE`    | char(6)   | Vaccine route of administration                             |"
   ]
  },
  {
   "cell_type": "markdown",
   "metadata": {},
   "source": [
    "The following function further cleans the data in the specified columns as some null values are equal to `\"N\"` (for the yes or no attributes):\n",
    "- `AGE_GRP`: maps `AGE_YRS` into an age group\n",
    "- `DIED`: replaces null values with `N`\n",
    "- `L_THREAT`: replaces null values with `N`\n",
    "- `ER_VISIT`: replaces null values with `N`\n",
    "- `HOSPITAL`: replaces null values with `N`\n",
    "- `DISABLE`: replaces null values with `N`\n",
    "- `BIRTH_DEFECT`: replaces null values with `N`\n",
    "\n",
    "After passing the dataframe into the `replace_values` function, the only null values left in the dataframe are actual null values which we can drop."
   ]
  },
  {
   "cell_type": "code",
   "execution_count": null,
   "metadata": {},
   "outputs": [],
   "source": [
    "def replace_values(df):\n",
    "    # Add a new column, AGE_GRP, and drop AGE_YRS\n",
    "    age_max = df['AGE_YRS'].max()\n",
    "    multiplier = 10 ** -1\n",
    "    agegrp_max = int(math.ceil(age_max * multiplier) / multiplier)\n",
    "    age_grp = [i for i in range(0,agegrp_max+1,10)]\n",
    "    df['AGE_GRP'] = pd.cut(x=df['AGE_YRS'], bins=age_grp).astype(str)\n",
    "    df = df.drop(['AGE_YRS'],axis=1)\n",
    "\n",
    "    # Fill na with the following corresponding values\n",
    "    values = {'DIED': 'N', 'L_THREAT': 'N', 'ER_VISIT': 'N', 'HOSPITAL':'N', 'DISABLE':'N', 'BIRTH_DEFECT':'N'}\n",
    "    df = df.fillna(value=values)\n",
    "    \n",
    "    return df\n",
    "\n",
    "patients = replace_values(patients)\n",
    "patients"
   ]
  },
  {
   "cell_type": "code",
   "execution_count": null,
   "metadata": {},
   "outputs": [],
   "source": [
    "# Checking the number of null values\n",
    "\n",
    "patients.replace([\"U\",\"UN\",\"UNK\",\"UNKNOWN MANUFACTURER\",\"nan\"], np.nan, inplace=True)\n",
    "patients.isna().sum()"
   ]
  },
  {
   "cell_type": "markdown",
   "metadata": {},
   "source": [
    "In the succeeding code blocks, we drop the rows with null values. We also replace `\"U\"`, `\"UNK\"` and `\"UNKNOWN MANUFACTURER\"` values in the dataframe with `np.nan` for easy dropping."
   ]
  },
  {
   "cell_type": "code",
   "execution_count": null,
   "metadata": {},
   "outputs": [],
   "source": [
    "patients.dropna(inplace=True)\n",
    "patients.isna().sum()"
   ]
  },
  {
   "cell_type": "code",
   "execution_count": null,
   "metadata": {},
   "outputs": [],
   "source": [
    "# Remove rows where AGE_GRP is unknown\n",
    "\n",
    "print(patients.AGE_GRP.value_counts())\n",
    "print(\"\\n\")\n",
    "print(patients.SEX.value_counts())\n",
    "print(\"\\n\")\n",
    "print(patients.RECOVD.value_counts())"
   ]
  },
  {
   "cell_type": "code",
   "execution_count": null,
   "metadata": {},
   "outputs": [],
   "source": [
    "print(patients.V_ADMINBY.value_counts())\n",
    "print(\"\\n\")\n",
    "print(patients.VAX_MANU.value_counts())"
   ]
  },
  {
   "cell_type": "code",
   "execution_count": null,
   "metadata": {},
   "outputs": [],
   "source": [
    "print(patients.VAX_SITE.value_counts())\n",
    "print(\"\\n\")\n",
    "print(patients.VAX_ROUTE.value_counts())"
   ]
  },
  {
   "cell_type": "code",
   "execution_count": null,
   "metadata": {},
   "outputs": [],
   "source": [
    "# We can select the first 30000 rows only.\n",
    "\n",
    "patients.drop('VAERS_ID', inplace=True, axis=1)"
   ]
  },
  {
   "cell_type": "markdown",
   "metadata": {},
   "source": [
    "### PART 1.3: Data Transformation"
   ]
  },
  {
   "cell_type": "markdown",
   "metadata": {},
   "source": [
    "We now map nominal features into numerical labels for "
   ]
  },
  {
   "cell_type": "code",
   "execution_count": null,
   "metadata": {},
   "outputs": [],
   "source": [
    "categorical = ['SEX','V_ADMINBY','VAX_MANU','VAX_SITE','VAX_ROUTE']\n",
    "\n",
    "le = LabelEncoder()\n",
    "\n",
    "for i in categorical:\n",
    "    patients[i] = le.fit_transform(patients[i])\n"
   ]
  },
  {
   "cell_type": "code",
   "execution_count": null,
   "metadata": {},
   "outputs": [],
   "source": [
    "age_groups = {\n",
    "    '(0, 10]': 0,\n",
    "    '(10, 20]': 1,\n",
    "    '(20, 30]': 2,\n",
    "    '(30, 40]': 3,\n",
    "    '(40, 50]': 4,\n",
    "    '(50, 60]': 5,\n",
    "    '(60, 70]': 6,\n",
    "    '(70, 80]': 7,\n",
    "    '(80, 90]': 8,\n",
    "    '(90, 100]': 9,\n",
    "    '(100, 110]': 10\n",
    "}\n",
    "\n",
    "patients.replace({'AGE_GRP': age_groups}, inplace=True)"
   ]
  },
  {
   "cell_type": "code",
   "execution_count": null,
   "metadata": {},
   "outputs": [],
   "source": [
    "binary = ['DIED', 'L_THREAT', 'ER_VISIT', 'HOSPITAL', 'DISABLE', 'BIRTH_DEFECT', 'RECOVD']\n",
    "\n",
    "for i in binary:\n",
    "    patients[i] = patients[i].apply(lambda x: 1 if x==\"Y\" else 0)\n",
    "\n",
    "patients.head()"
   ]
  },
  {
   "cell_type": "code",
   "execution_count": null,
   "metadata": {},
   "outputs": [],
   "source": [
    "columns = [\n",
    "    'SEX', 'DIED', 'L_THREAT', 'ER_VISIT', 'HOSPITAL', 'DISABLE', 'BIRTH_DEFECT',\n",
    "    'RECOVD', 'V_ADMINBY', 'VAX_MANU', 'VAX_SITE', 'VAX_ROUTE', 'AGE_GRP'\n",
    "    ]\n",
    "\n",
    "# sample = patients.groupby(columns).filter(lambda x: len(x) > 20)\n",
    "sample = patients.head(10000)\n",
    "# sample.to_csv('../data/finaldataset.csv', index=False)\n",
    "sample\n"
   ]
  },
  {
   "cell_type": "code",
   "execution_count": null,
   "metadata": {},
   "outputs": [],
   "source": [
    "sample.value_counts()"
   ]
  },
  {
   "cell_type": "markdown",
   "metadata": {},
   "source": [
    "## PART 2: Exploratory Data Analysis\n",
    "\n",
    "### PART 2.1: Univariate Analysis\n",
    "\n",
    "We now create charts and visualize data for single features to further understand the dataset. The following graphs are for the **single features** found in the data set."
   ]
  },
  {
   "cell_type": "markdown",
   "metadata": {},
   "source": [
    "**SEX**"
   ]
  },
  {
   "cell_type": "code",
   "execution_count": null,
   "metadata": {
    "scrolled": false
   },
   "outputs": [],
   "source": [
    "sex_barplot = sns.catplot(x='SEX', kind='count', palette='Set2', data=sample)\n",
    "sex_barplot.axes[0,0].set_xticks([0,1])\n",
    "sex_barplot.axes[0,0].set_xticklabels(['Female', 'Male'])\n",
    "sex_barplot.set(title='Sex of COVID-19 Patients')\n",
    "sex_barplot.set_xlabels('Sex', clear_inner=False)\n",
    "sex_barplot.set_ylabels('', clear_inner=False)"
   ]
  },
  {
   "cell_type": "markdown",
   "metadata": {},
   "source": [
    "From the graph above, we can see that there are **more female** patients in the data set than male patients and that the number of male patients in the data set is **less than half** the number of female patients"
   ]
  },
  {
   "cell_type": "markdown",
   "metadata": {},
   "source": [
    "**DEATH COUNT**"
   ]
  },
  {
   "cell_type": "code",
   "execution_count": null,
   "metadata": {
    "scrolled": false
   },
   "outputs": [],
   "source": [
    "died_barplot = sns.catplot(x='DIED', kind='count', palette='Set2', data=sample)\n",
    "died_barplot.axes[0,0].set_xticks([0,1])\n",
    "died_barplot.axes[0,0].set_xticklabels(['Lived', 'Died'])\n",
    "died_barplot.set(title='Living Status of Patients')\n",
    "died_barplot.set_xlabels('Status', clear_inner=False)\n",
    "died_barplot.set_ylabels('', clear_inner=False)"
   ]
  },
  {
   "cell_type": "markdown",
   "metadata": {},
   "source": [
    "From the graph above, we can see that more patients in the data set **lived** than died and that the difference is more than half."
   ]
  },
  {
   "cell_type": "markdown",
   "metadata": {},
   "source": [
    "**Age Groups**"
   ]
  },
  {
   "cell_type": "code",
   "execution_count": null,
   "metadata": {
    "scrolled": false
   },
   "outputs": [],
   "source": [
    "age_barplot = sns.catplot(x='AGE_GRP', kind='count', palette='magma', data=sample)\n",
    "age_barplot.axes[0,0].set_xticks([0,1,2,3,4,5,6,7,8,9,10])\n",
    "age_barplot.axes[0,0].set_xticklabels(['0-10', '10-20', '20-30', '30-40', '40-50', '50-60', '60-70', '70-80', '80-90', '90-100', '100-110'], rotation=45)\n",
    "age_barplot.set(title='Age Groups of Patients')\n",
    "age_barplot.set_xlabels('Age Groups', clear_inner=False)\n",
    "age_barplot.set_ylabels('', clear_inner=False)"
   ]
  },
  {
   "cell_type": "markdown",
   "metadata": {},
   "source": [
    "From the graph above, we can see that most of the patients in the data set are aged **50 to 60 years old**. In general, majority of the patients in the data set are of the middle-aged to early senior group, specifically ages 30 to 60. Both extremes, the youngest age groups and the oldest age groups, make up less of the data set compared to the age groups in the middle."
   ]
  },
  {
   "cell_type": "markdown",
   "metadata": {},
   "source": [
    "**Life Threatening Event Associated with the Vaccination**"
   ]
  },
  {
   "cell_type": "code",
   "execution_count": null,
   "metadata": {},
   "outputs": [],
   "source": [
    "lte_barplot = sns.catplot(x='L_THREAT', kind='count', palette='Set2', data=sample)\n",
    "lte_barplot.axes[0,0].set_xticks([0,1])\n",
    "lte_barplot.axes[0,0].set_xticklabels(['Without Event', 'With Event'])\n",
    "lte_barplot.set(title='Patients with Life Threatening Events Associated with COVID-19 Vaccination')\n",
    "lte_barplot.set_xlabels('Life Threatening Event', clear_inner=False)\n",
    "lte_barplot.set_ylabels('', clear_inner=False)"
   ]
  },
  {
   "cell_type": "markdown",
   "metadata": {},
   "source": [
    "From the graph above, we can see that more patients in the data set **had no life-threatening events associated with the vaccination** compared to patients that had life-threatening events associated with the vaccination."
   ]
  },
  {
   "cell_type": "markdown",
   "metadata": {},
   "source": [
    "**Emergency Room Visits**"
   ]
  },
  {
   "cell_type": "code",
   "execution_count": null,
   "metadata": {},
   "outputs": [],
   "source": [
    "er_barplot = sns.catplot(x='ER_VISIT', kind='count', palette='Set2', data=sample)\n",
    "er_barplot.axes[0,0].set_xticks([0,1])\n",
    "er_barplot.axes[0,0].set_xticklabels(['No ER Visit', 'With ER Visit'])\n",
    "er_barplot.set(title='Patients with Emergency Room Visits Associated with the COVID-19 Vaccine')\n",
    "er_barplot.set_xlabels('Emergency Room Visits', clear_inner=False)\n",
    "er_barplot.set_ylabels('', clear_inner=False)"
   ]
  },
  {
   "cell_type": "markdown",
   "metadata": {},
   "source": [
    "From the graph above, we can see that there are **no patients in the data set** who visited the emergency room after experiencing adverse effects from the vaccine."
   ]
  },
  {
   "cell_type": "markdown",
   "metadata": {},
   "source": [
    "**Hospitalized**"
   ]
  },
  {
   "cell_type": "code",
   "execution_count": null,
   "metadata": {},
   "outputs": [],
   "source": [
    "hosp_barplot = sns.catplot(x='HOSPITAL', kind='count', palette='Set2', data=sample)\n",
    "hosp_barplot.axes[0,0].set_xticks([0,1])\n",
    "hosp_barplot.axes[0,0].set_xticklabels(['Not Hospitalized', 'Hospitalized'])\n",
    "hosp_barplot.set(title='Number of Hospitalized Patients Due to COVID-19 Vaccine')\n",
    "hosp_barplot.set_xlabels('Number of Patients', clear_inner=False)\n",
    "hosp_barplot.set_ylabels('', clear_inner=False)"
   ]
  },
  {
   "cell_type": "markdown",
   "metadata": {},
   "source": [
    "From the graph above, we can see that the number of patients present in the data set that were hospitalized after experiencing adverse effects is **less than half** the number of patients not hospitalized."
   ]
  },
  {
   "cell_type": "markdown",
   "metadata": {},
   "source": [
    "**Disabled**"
   ]
  },
  {
   "cell_type": "code",
   "execution_count": null,
   "metadata": {},
   "outputs": [],
   "source": [
    "dis_barplot = sns.catplot(x='DISABLE', kind='count', palette='Set2', data=sample)\n",
    "dis_barplot.axes[0,0].set_xticks([0,1])\n",
    "dis_barplot.axes[0,0].set_xticklabels(['Not Disabled', 'Disabled'])\n",
    "dis_barplot.set(title='Number of Patients Disabled due to COVID-19 Vaccine')\n",
    "dis_barplot.set_xlabels('Number of Patients', clear_inner=False)\n",
    "dis_barplot.set_ylabels('', clear_inner=False)"
   ]
  },
  {
   "cell_type": "markdown",
   "metadata": {},
   "source": [
    "From the graph above, we can see that the number of patients in the data set disabled after experiencing adverse effects is **less than a quarter** of the number of patients not disabled."
   ]
  },
  {
   "cell_type": "markdown",
   "metadata": {},
   "source": [
    "**Birth Defect**"
   ]
  },
  {
   "cell_type": "code",
   "execution_count": null,
   "metadata": {},
   "outputs": [],
   "source": [
    "bd_barplot = sns.catplot(x='BIRTH_DEFECT', kind='count', palette='Set2', data=sample)\n",
    "bd_barplot.axes[0,0].set_xticks([0,1])\n",
    "bd_barplot.axes[0,0].set_xticklabels(['With No Birth Defect', 'With Birth Defect'])\n",
    "bd_barplot.set(title='Number of Patients with Birth Defect')\n",
    "bd_barplot.set_xlabels('Number of Patients', clear_inner=False)\n",
    "bd_barplot.set_ylabels('', clear_inner=False)"
   ]
  },
  {
   "cell_type": "markdown",
   "metadata": {},
   "source": [
    "From the graph above, we can see that the number of patients in the data set with a birth defect is **zero**."
   ]
  },
  {
   "cell_type": "markdown",
   "metadata": {},
   "source": [
    "**Recovered**"
   ]
  },
  {
   "cell_type": "code",
   "execution_count": null,
   "metadata": {},
   "outputs": [],
   "source": [
    "rec_barplot = sns.catplot(x='RECOVD', kind='count', palette='Set2', data=sample)\n",
    "rec_barplot.axes[0,0].set_xticks([0,1])\n",
    "rec_barplot.axes[0,0].set_xticklabels(['Recovered', 'Did Not Recover'])\n",
    "rec_barplot.set(title='Number of Patients that Recovered from Adverse Effects')\n",
    "rec_barplot.set_xlabels('Number of Patients', clear_inner=False)\n",
    "rec_barplot.set_ylabels('', clear_inner=False)"
   ]
  },
  {
   "cell_type": "markdown",
   "metadata": {},
   "source": [
    "From the graph above, we can see that the **number of patients in the data set who did not recover from adverse effects** is greater than the number of patients who recovered."
   ]
  },
  {
   "cell_type": "markdown",
   "metadata": {},
   "source": [
    "**Vaccine Administered At**"
   ]
  },
  {
   "cell_type": "code",
   "execution_count": null,
   "metadata": {},
   "outputs": [],
   "source": [
    "loc_barplot = sns.catplot(x='V_ADMINBY', kind='count', palette='Set2', data=sample)\n",
    "loc_barplot.axes[0,0].set_xticks([0,1,2,3,4,5,6,7])\n",
    "loc_barplot.axes[0,0].set_xticklabels(['Military','Other',\"Pharmacy\",'Public','Private','School','Nursing Home','Workplace Clinic'], rotation=45)\n",
    "loc_barplot.set(title='Locations where COVID-19 Vaccine was Administered')\n",
    "loc_barplot.set_xlabels('Locations', clear_inner=False)\n",
    "loc_barplot.set_ylabels('', clear_inner=False)"
   ]
  },
  {
   "cell_type": "markdown",
   "metadata": {},
   "source": [
    "From the graph above, we can see that most of the vaccines were administered in **private**, and the places with the least amount of vaccines administered at are at school, in a pharmacy, and in the military."
   ]
  },
  {
   "cell_type": "markdown",
   "metadata": {},
   "source": [
    "**Vaccine Manufacturers**"
   ]
  },
  {
   "cell_type": "code",
   "execution_count": null,
   "metadata": {},
   "outputs": [],
   "source": [
    "manu_barplot = sns.catplot(x='VAX_MANU', kind='count', palette='Set2', data=sample)\n",
    "manu_barplot.axes[0,0].set_xticks([0,1,2])\n",
    "manu_barplot.axes[0,0].set_xticklabels(['JANSSEN', 'MODERNA', 'PFIZER/BIOTECH'])\n",
    "manu_barplot.set(title='COVID-19 Vaccine Manufacturers')\n",
    "manu_barplot.set_xlabels('Vaccine Manufacturers', clear_inner=False)\n",
    "manu_barplot.set_ylabels('', clear_inner=False)"
   ]
  },
  {
   "cell_type": "markdown",
   "metadata": {},
   "source": [
    "From the graph above, we can see that most patients in the data set have vaccines manufactured by **Janssen**. The number of patients with a Moderna vaccine is second, and the number of patients with a Pfizer/Biotech vaccine is zero."
   ]
  },
  {
   "cell_type": "markdown",
   "metadata": {},
   "source": [
    "**Vaccination Anatomic Site**"
   ]
  },
  {
   "cell_type": "code",
   "execution_count": null,
   "metadata": {},
   "outputs": [],
   "source": [
    "ana_barplot = sns.catplot(x='VAX_SITE', kind='count', palette='Set2', data=sample)\n",
    "ana_barplot.axes[0,0].set_xticks([0,1,2,3,4,5,6,7])\n",
    "ana_barplot.axes[0,0].set_xticklabels(['AR', 'GM', 'LA', 'LG', 'LL', 'OT', 'RA', 'RL'])\n",
    "ana_barplot.set(title='COVID-19 Vaccination Anatomic Sites')\n",
    "ana_barplot.set_xlabels('Vaccination Anatomic Sites', clear_inner=False)\n",
    "ana_barplot.set_ylabels('', clear_inner=False)"
   ]
  },
  {
   "cell_type": "markdown",
   "metadata": {},
   "source": [
    "From the graph above, we can see that the anatomic sites with the most number of patients vaccinated at are **LA, RA, and AR**."
   ]
  },
  {
   "cell_type": "markdown",
   "metadata": {},
   "source": [
    "**Route of Administration of Vaccine**"
   ]
  },
  {
   "cell_type": "code",
   "execution_count": null,
   "metadata": {},
   "outputs": [],
   "source": [
    "route_barplot = sns.catplot(x='VAX_ROUTE', kind='count', palette='Set2', data=sample)\n",
    "route_barplot.axes[0,0].set_xticks([0,1,2,4,5,3])\n",
    "route_barplot.axes[0,0].set_xticklabels(['Intradermal', 'Intramuscular', 'Needle Free Jet Injector', 'Subcutaneous', 'Needle and Syringe', 'Other'], rotation=90)\n",
    "route_barplot.set(title='Route of Administration of COVID-19 Vaccines')\n",
    "route_barplot.set_xlabels('Routes of Administration of Vaccine', clear_inner=False)\n",
    "route_barplot.set_ylabels('', clear_inner=False)"
   ]
  },
  {
   "cell_type": "markdown",
   "metadata": {},
   "source": [
    "From the graph above, we can see that most patients in the data set had their vaccine administrated **intramuscularly**."
   ]
  },
  {
   "cell_type": "markdown",
   "metadata": {},
   "source": [
    "### PART 2.2: Bivariate Analysis\n",
    "\n",
    "The following graphs are for analysis of **two features** found in the data set."
   ]
  },
  {
   "cell_type": "markdown",
   "metadata": {},
   "source": [
    "**Vaccine Manufacturers**"
   ]
  },
  {
   "cell_type": "code",
   "execution_count": null,
   "metadata": {},
   "outputs": [],
   "source": [
    "manu_threat = sns.catplot(x='VAX_MANU', hue='L_THREAT', kind='count', data=sample)\n",
    "#manu_threat.axes[0,0].set_xticks([0,1,2,4,5,3])\n",
    "#manu_threat.axes[0,0].set_xticklabels(['Intradermal', 'Intramuscular', 'Needle Free Jet Injector', 'Subcutaneous', 'Needle and Syringe', 'Other'], rotation=90)\n",
    "manu_threat.set_titles('Route of Administration of COVID-19 Vaccines')\n",
    "manu_threat.set_xlabels('Routes of Administration of Vaccine', clear_inner=False)\n",
    "manu_threat.set_ylabels('', clear_inner=False)"
   ]
  },
  {
   "cell_type": "markdown",
   "metadata": {},
   "source": [
    "## PART 3: Model Implementation\n",
    "\n",
    "### PART 3.1: Optimization of number of clusters\n",
    "\n",
    "We used the **Elbow Method** to determine the optimal number of clusters into which the data might be clustered. We select the value of `k` at the \"elbow\" or the point after which the distortion/inertia starts decreasing in a linear fashion."
   ]
  },
  {
   "cell_type": "code",
   "execution_count": null,
   "metadata": {},
   "outputs": [],
   "source": [
    "cost = []\n",
    "scores = []\n",
    "K = range(2,16)\n",
    "for num_clusters in list(K):\n",
    "    kmode = KModes(n_clusters=num_clusters, init = \"Cao\", n_init = 1, verbose=1)\n",
    "    kmode.fit_predict(sample)\n",
    "    cost.append(kmode.cost_)\n",
    "\n",
    "    scores.append(metrics.silhouette_score(sample,kmode.labels_))\n",
    "    \n",
    "plt.plot(K, cost, 'bx-')\n",
    "plt.xlabel('K clusters')\n",
    "plt.ylabel('Cost')\n",
    "plt.title('Elbow Method For Optimal k')\n",
    "plt.show()\n",
    "\n",
    "plt.plot(K,scores)\n",
    "plt.xlabel('Number of clusters')\n",
    "plt.ylabel('Silhouette Coefficient')\n",
    "plt.show()"
   ]
  },
  {
   "cell_type": "markdown",
   "metadata": {},
   "source": [
    "Using the `KneeLocator` method from the `kneed` library, we identified the optimal number of clusters: $k=5$."
   ]
  },
  {
   "cell_type": "code",
   "execution_count": null,
   "metadata": {},
   "outputs": [],
   "source": [
    "optimal_k = KneeLocator(list(K), cost, curve='convex', direction='decreasing')\n",
    "\n",
    "k = optimal_k.knee\n",
    "\n",
    "k"
   ]
  },
  {
   "cell_type": "markdown",
   "metadata": {},
   "source": [
    "### PART 3.2: K-Modes Clustering\n",
    "\n",
    "We now proceed to fitting the model to the `patients` dataframe, setting the number of clusters to `n_clusters = 7` and using the Cao initialization for categorical data clustering. We then put the generated labels or cluster numbers in a new column `CLUSTER`."
   ]
  },
  {
   "cell_type": "code",
   "execution_count": null,
   "metadata": {},
   "outputs": [],
   "source": [
    "kmode = KModes(n_clusters=k, init = \"Cao\", n_init = 1, verbose=1)\n",
    "labels = kmode.fit_predict(sample)\n",
    "sample['CLUSTER'] = labels\n",
    "\n",
    "sample"
   ]
  },
  {
   "cell_type": "markdown",
   "metadata": {},
   "source": [
    "## PART 4: Results and Discussion"
   ]
  },
  {
   "cell_type": "markdown",
   "metadata": {},
   "source": [
    "lagay dito observations as a whole, e.g. cluster 0 has the most number hospitalized patients, etc."
   ]
  },
  {
   "cell_type": "code",
   "execution_count": null,
   "metadata": {},
   "outputs": [],
   "source": [
    "features = [\n",
    "    'AGE_GRP','SEX','DIED','L_THREAT', 'ER_VISIT',\n",
    "    'HOSPITAL','DISABLE','BIRTH_DEFECT','RECOVD', \n",
    "    'V_ADMINBY','VAX_MANU','VAX_SITE','VAX_ROUTE'\n",
    "    ]\n",
    "\n",
    "for i in features:\n",
    "    plt.subplots(figsize = (15,5))\n",
    "    sns.countplot(x='CLUSTER',hue=i, data = sample)\n",
    "    plt.show()"
   ]
  },
  {
   "cell_type": "markdown",
   "metadata": {},
   "source": [
    "**Identification of Each Cluster**"
   ]
  },
  {
   "cell_type": "markdown",
   "metadata": {},
   "source": [
    "Cluster 0"
   ]
  },
  {
   "cell_type": "code",
   "execution_count": 4,
   "metadata": {},
   "outputs": [
    {
     "ename": "NameError",
     "evalue": "name 'sample' is not defined",
     "output_type": "error",
     "traceback": [
      "\u001b[1;31m---------------------------------------------------------------------------\u001b[0m",
      "\u001b[1;31mNameError\u001b[0m                                 Traceback (most recent call last)",
      "Input \u001b[1;32mIn [4]\u001b[0m, in \u001b[0;36m<cell line: 1>\u001b[1;34m()\u001b[0m\n\u001b[1;32m----> 1\u001b[0m cluster_0 \u001b[38;5;241m=\u001b[39m \u001b[43msample\u001b[49m[sample[\u001b[38;5;124m'\u001b[39m\u001b[38;5;124mCLUSTER\u001b[39m\u001b[38;5;124m'\u001b[39m]\u001b[38;5;241m==\u001b[39m\u001b[38;5;241m0\u001b[39m]\u001b[38;5;241m.\u001b[39mvalue_counts()\n\u001b[0;32m      2\u001b[0m cluster_0\u001b[38;5;241m.\u001b[39mto_csv(\u001b[38;5;124m\"\u001b[39m\u001b[38;5;124m../results/cluster_0.csv\u001b[39m\u001b[38;5;124m\"\u001b[39m)\n\u001b[0;32m      4\u001b[0m \u001b[38;5;28mprint\u001b[39m(cluster_0\u001b[38;5;241m.\u001b[39mhead(\u001b[38;5;241m15\u001b[39m))\n",
      "\u001b[1;31mNameError\u001b[0m: name 'sample' is not defined"
     ]
    }
   ],
   "source": [
    "cluster_0 = sample[sample['CLUSTER']==0].value_counts()\n",
    "cluster_0.to_csv(\"../results/cluster_0.csv\")\n",
    "\n",
    "print(cluster_0.head(15))"
   ]
  },
  {
   "cell_type": "code",
   "execution_count": null,
   "metadata": {},
   "outputs": [],
   "source": [
    "features = [\n",
    "    'AGE_GRP','SEX','DIED','L_THREAT', 'ER_VISIT',\n",
    "    'HOSPITAL','DISABLE','BIRTH_DEFECT','RECOVD', \n",
    "    'V_ADMINBY','VAX_MANU','VAX_SITE','VAX_ROUTE'\n",
    "    ]\n",
    "\n",
    "xtickslabels = [\n",
    "    ['0-10', '10-20', '20-30', '30-40', '40-50', '50-60', '60-70', '70-80', '80-90', '90-100', '100-110'],\n",
    "    ['Female', 'Male'],\n",
    "    ['Lived', 'Died'],\n",
    "    ['Without Event', 'With Event'],\n",
    "    ['No ER Visit', 'With ER Visit'],\n",
    "    ['Not Hospitalized', 'Hospitalized'],\n",
    "    ['Not Disabled', 'Disabled'],\n",
    "    ['With No Birth Defect', 'With Birth Defect'],\n",
    "    ['Recovered', 'Did Not Recover'],\n",
    "    ['Military','Other',\"Pharmacy\",'Public','Private','School','Nursing Home','Workplace Clinic'],\n",
    "    ['JANSSEN', 'MODERNA', 'PFIZER/BIOTECH'],\n",
    "    ['AR', 'GM', 'LA', 'LG', 'LL', 'OT', 'RA', 'RL'],\n",
    "    ['Intradermal', 'Intramuscular', 'Needle Free Jet Injector', 'Subcutaneous', 'Needle and Syringe', 'Other']\n",
    "]"
   ]
  },
  {
   "cell_type": "code",
   "execution_count": 3,
   "metadata": {
    "scrolled": false
   },
   "outputs": [
    {
     "ename": "NameError",
     "evalue": "name 'sample' is not defined",
     "output_type": "error",
     "traceback": [
      "\u001b[1;31m---------------------------------------------------------------------------\u001b[0m",
      "\u001b[1;31mNameError\u001b[0m                                 Traceback (most recent call last)",
      "Input \u001b[1;32mIn [3]\u001b[0m, in \u001b[0;36m<cell line: 1>\u001b[1;34m()\u001b[0m\n\u001b[0;32m      1\u001b[0m \u001b[38;5;28;01mfor\u001b[39;00m i \u001b[38;5;129;01min\u001b[39;00m \u001b[38;5;28mrange\u001b[39m(\u001b[38;5;28mlen\u001b[39m(features)):\n\u001b[1;32m----> 2\u001b[0m     plot_0 \u001b[38;5;241m=\u001b[39m sns\u001b[38;5;241m.\u001b[39mcatplot(x\u001b[38;5;241m=\u001b[39mfeatures[i], kind\u001b[38;5;241m=\u001b[39m\u001b[38;5;124m'\u001b[39m\u001b[38;5;124mcount\u001b[39m\u001b[38;5;124m'\u001b[39m, palette\u001b[38;5;241m=\u001b[39m\u001b[38;5;124m'\u001b[39m\u001b[38;5;124mSet2\u001b[39m\u001b[38;5;124m'\u001b[39m, data\u001b[38;5;241m=\u001b[39m\u001b[43msample\u001b[49m\u001b[38;5;241m.\u001b[39mloc[sample[\u001b[38;5;124m'\u001b[39m\u001b[38;5;124mCLUSTER\u001b[39m\u001b[38;5;124m'\u001b[39m]\u001b[38;5;241m==\u001b[39m\u001b[38;5;241m0\u001b[39m])\n\u001b[0;32m      3\u001b[0m     plot_0\u001b[38;5;241m.\u001b[39maxes[\u001b[38;5;241m0\u001b[39m,\u001b[38;5;241m0\u001b[39m]\u001b[38;5;241m.\u001b[39mset_xticks([x \u001b[38;5;28;01mfor\u001b[39;00m x \u001b[38;5;129;01min\u001b[39;00m \u001b[38;5;28mrange\u001b[39m(\u001b[38;5;241m0\u001b[39m,\u001b[38;5;28mlen\u001b[39m(xtickslabels[i]))])\n\u001b[0;32m      4\u001b[0m     plot_0\u001b[38;5;241m.\u001b[39maxes[\u001b[38;5;241m0\u001b[39m,\u001b[38;5;241m0\u001b[39m]\u001b[38;5;241m.\u001b[39mset_xticklabels(xtickslabels[i], rotation\u001b[38;5;241m=\u001b[39m\u001b[38;5;241m90\u001b[39m)\n",
      "\u001b[1;31mNameError\u001b[0m: name 'sample' is not defined"
     ]
    }
   ],
   "source": [
    "for i in range(len(features)):\n",
    "    plot_0 = sns.catplot(x=features[i], kind='count', palette='Set2', data=sample.loc[sample['CLUSTER']==0])\n",
    "    plot_0.axes[0,0].set_xticks([x for x in range(0,len(xtickslabels[i]))])\n",
    "    plot_0.axes[0,0].set_xticklabels(xtickslabels[i], rotation=90)\n",
    "    #plot_0.set_xlabels('Routes of Administration of Vaccine', clear_inner=False)\n",
    "    #plot_0.set_ylabels('', clear_inner=False)\n",
    "    "
   ]
  },
  {
   "cell_type": "markdown",
   "metadata": {},
   "source": [
    "The following observations can be seen on patients for Cluster 0:\n",
    "- aged 30 to 40\n",
    "- female\n",
    "- living\n",
    "- without a life threatening event\n",
    "- without an emergency room visit\n",
    "- not hospitalized\n",
    "- not disabled\n",
    "- with no birth defect\n",
    "- did not recover\n",
    "- vaccinated in private\n",
    "- vaccinated with Janssen\n",
    "- vaccinated in LA site\n",
    "- vaccinated intramuscularly"
   ]
  },
  {
   "cell_type": "markdown",
   "metadata": {},
   "source": [
    "Cluster 1"
   ]
  },
  {
   "cell_type": "code",
   "execution_count": null,
   "metadata": {},
   "outputs": [],
   "source": [
    "cluster_1 = sample[sample['CLUSTER']==1].value_counts()\n",
    "cluster_1.to_csv(\"../results/cluster_1.csv\")\n",
    "\n",
    "print(cluster_1.head(15))"
   ]
  },
  {
   "cell_type": "code",
   "execution_count": null,
   "metadata": {},
   "outputs": [],
   "source": [
    "features = [\n",
    "    'AGE_GRP','SEX','DIED','L_THREAT', 'ER_VISIT',\n",
    "    'HOSPITAL','DISABLE','BIRTH_DEFECT','RECOVD', \n",
    "    'V_ADMINBY','VAX_MANU','VAX_SITE','VAX_ROUTE'\n",
    "    ]\n",
    "\n",
    "xtickslabels = [\n",
    "    ['0-10', '10-20', '20-30', '30-40', '40-50', '50-60', '60-70', '70-80', '80-90', '90-100', '100-110'],\n",
    "    ['Female', 'Male'],\n",
    "    ['Lived', 'Died'],\n",
    "    ['Without Event', 'With Event'],\n",
    "    ['No ER Visit', 'With ER Visit'],\n",
    "    ['Not Hospitalized', 'Hospitalized'],\n",
    "    ['Not Disabled', 'Disabled'],\n",
    "    ['With No Birth Defect', 'With Birth Defect'],\n",
    "    ['Recovered', 'Did Not Recover'],\n",
    "    ['Military','Other',\"Pharmacy\",'Public','Private','School','Nursing Home','Workplace Clinic'],\n",
    "    ['JANSSEN', 'MODERNA', 'PFIZER/BIOTECH'],\n",
    "    ['AR', 'GM', 'LA', 'LG', 'LL', 'OT', 'RA', 'RL'],\n",
    "    ['Intradermal', 'Intramuscular', 'Needle Free Jet Injector', 'Subcutaneous', 'Needle and Syringe', 'Other']\n",
    "]\n",
    "\n",
    "for i in range(len(features)):\n",
    "    plot_1 = sns.catplot(x=features[i], kind='count', palette='Set2', data=sample.loc[sample['CLUSTER']==1])\n",
    "    plot_1.axes[0,0].set_xticks([x for x in range(0,len(xtickslabels[i]))])\n",
    "    plot_1.axes[0,0].set_xticklabels(xtickslabels[i], rotation=90)"
   ]
  },
  {
   "cell_type": "markdown",
   "metadata": {},
   "source": [
    "The following observations can be seen on patients for Cluster 1:\n"
   ]
  },
  {
   "cell_type": "markdown",
   "metadata": {},
   "source": [
    "Cluster 2"
   ]
  },
  {
   "cell_type": "code",
   "execution_count": null,
   "metadata": {},
   "outputs": [],
   "source": [
    "cluster_2 = sample[sample['CLUSTER']==2].value_counts()\n",
    "cluster_2.to_csv(\"../results/cluster_2.csv\")\n",
    "\n",
    "print(cluster_2.head(15))"
   ]
  },
  {
   "cell_type": "code",
   "execution_count": null,
   "metadata": {},
   "outputs": [],
   "source": [
    "features = [\n",
    "    'AGE_GRP','SEX','DIED','L_THREAT', 'ER_VISIT',\n",
    "    'HOSPITAL','DISABLE','BIRTH_DEFECT','RECOVD', \n",
    "    'V_ADMINBY','VAX_MANU','VAX_SITE','VAX_ROUTE'\n",
    "    ]\n",
    "\n",
    "xtickslabels = [\n",
    "    ['0-10', '10-20', '20-30', '30-40', '40-50', '50-60', '60-70', '70-80', '80-90', '90-100', '100-110'],\n",
    "    ['Female', 'Male'],\n",
    "    ['Lived', 'Died'],\n",
    "    ['Without Event', 'With Event'],\n",
    "    ['No ER Visit', 'With ER Visit'],\n",
    "    ['Not Hospitalized', 'Hospitalized'],\n",
    "    ['Not Disabled', 'Disabled'],\n",
    "    ['With No Birth Defect', 'With Birth Defect'],\n",
    "    ['Recovered', 'Did Not Recover'],\n",
    "    ['Military','Other',\"Pharmacy\",'Public','Private','School','Nursing Home','Workplace Clinic'],\n",
    "    ['JANSSEN', 'MODERNA', 'PFIZER/BIOTECH'],\n",
    "    ['AR', 'GM', 'LA', 'LG', 'LL', 'OT', 'RA', 'RL'],\n",
    "    ['Intradermal', 'Intramuscular', 'Needle Free Jet Injector', 'Subcutaneous', 'Needle and Syringe', 'Other']\n",
    "]\n",
    "\n",
    "for i in range(len(features)):\n",
    "    plot_2 = sns.catplot(x=features[i], kind='count', palette='Set2', data=sample.loc[sample['CLUSTER']==2])\n",
    "    plot_2.axes[0,0].set_xticks([x for x in range(0,len(xtickslabels[i]))])\n",
    "    plot_2.axes[0,0].set_xticklabels(xtickslabels[i], rotation=90)"
   ]
  },
  {
   "cell_type": "markdown",
   "metadata": {},
   "source": [
    "The following observations can be seen on patients for Cluster 2:"
   ]
  },
  {
   "cell_type": "markdown",
   "metadata": {},
   "source": [
    "Cluster 3"
   ]
  },
  {
   "cell_type": "code",
   "execution_count": null,
   "metadata": {},
   "outputs": [],
   "source": [
    "cluster_3 = sample[sample['CLUSTER']==3].value_counts()\n",
    "cluster_3.to_csv(\"../results/cluster_3.csv\")\n",
    "\n",
    "print(cluster_3.head(15))"
   ]
  },
  {
   "cell_type": "code",
   "execution_count": null,
   "metadata": {},
   "outputs": [],
   "source": [
    "features = [\n",
    "    'AGE_GRP','SEX','DIED','L_THREAT', 'ER_VISIT',\n",
    "    'HOSPITAL','DISABLE','BIRTH_DEFECT','RECOVD', \n",
    "    'V_ADMINBY','VAX_MANU','VAX_SITE','VAX_ROUTE'\n",
    "    ]\n",
    "\n",
    "xtickslabels = [\n",
    "    ['0-10', '10-20', '20-30', '30-40', '40-50', '50-60', '60-70', '70-80', '80-90', '90-100', '100-110'],\n",
    "    ['Female', 'Male'],\n",
    "    ['Lived', 'Died'],\n",
    "    ['Without Event', 'With Event'],\n",
    "    ['No ER Visit', 'With ER Visit'],\n",
    "    ['Not Hospitalized', 'Hospitalized'],\n",
    "    ['Not Disabled', 'Disabled'],\n",
    "    ['With No Birth Defect', 'With Birth Defect'],\n",
    "    ['Recovered', 'Did Not Recover'],\n",
    "    ['Military','Other',\"Pharmacy\",'Public','Private','School','Nursing Home','Workplace Clinic'],\n",
    "    ['JANSSEN', 'MODERNA', 'PFIZER/BIOTECH'],\n",
    "    ['AR', 'GM', 'LA', 'LG', 'LL', 'OT', 'RA', 'RL'],\n",
    "    ['Intradermal', 'Intramuscular', 'Needle Free Jet Injector', 'Subcutaneous', 'Needle and Syringe', 'Other']\n",
    "]\n",
    "\n",
    "for i in range(len(features)):\n",
    "    plot_3 = sns.catplot(x=features[i], kind='count', palette='Set2', data=sample.loc[sample['CLUSTER']==3])\n",
    "    plot_3.axes[0,0].set_xticks([x for x in range(0,len(xtickslabels[i]))])\n",
    "    plot_3.axes[0,0].set_xticklabels(xtickslabels[i], rotation=90)"
   ]
  },
  {
   "cell_type": "markdown",
   "metadata": {},
   "source": [
    "The following observations can be seen on patients for Cluster 3:"
   ]
  },
  {
   "cell_type": "markdown",
   "metadata": {},
   "source": [
    "Cluster 4"
   ]
  },
  {
   "cell_type": "code",
   "execution_count": null,
   "metadata": {},
   "outputs": [],
   "source": [
    "cluster_4 = sample[sample['CLUSTER']==4].value_counts()\n",
    "cluster_4.to_csv(\"../results/cluster_4.csv\")\n",
    "\n",
    "print(cluster_4.head(15))"
   ]
  },
  {
   "cell_type": "code",
   "execution_count": null,
   "metadata": {},
   "outputs": [],
   "source": [
    "features = [\n",
    "    'AGE_GRP','SEX','DIED','L_THREAT', 'ER_VISIT',\n",
    "    'HOSPITAL','DISABLE','BIRTH_DEFECT','RECOVD', \n",
    "    'V_ADMINBY','VAX_MANU','VAX_SITE','VAX_ROUTE'\n",
    "    ]\n",
    "\n",
    "xtickslabels = [\n",
    "    ['0-10', '10-20', '20-30', '30-40', '40-50', '50-60', '60-70', '70-80', '80-90', '90-100', '100-110'],\n",
    "    ['Female', 'Male'],\n",
    "    ['Lived', 'Died'],\n",
    "    ['Without Event', 'With Event'],\n",
    "    ['No ER Visit', 'With ER Visit'],\n",
    "    ['Not Hospitalized', 'Hospitalized'],\n",
    "    ['Not Disabled', 'Disabled'],\n",
    "    ['With No Birth Defect', 'With Birth Defect'],\n",
    "    ['Recovered', 'Did Not Recover'],\n",
    "    ['Military','Other',\"Pharmacy\",'Public','Private','School','Nursing Home','Workplace Clinic'],\n",
    "    ['JANSSEN', 'MODERNA', 'PFIZER/BIOTECH'],\n",
    "    ['AR', 'GM', 'LA', 'LG', 'LL', 'OT', 'RA', 'RL'],\n",
    "    ['Intradermal', 'Intramuscular', 'Needle Free Jet Injector', 'Subcutaneous', 'Needle and Syringe', 'Other']\n",
    "]\n",
    "\n",
    "for i in range(len(features)):\n",
    "    plot_4 = sns.catplot(x=features[i], kind='count', palette='Set2', data=sample.loc[sample['CLUSTER']==4])\n",
    "    plot_4.axes[0,0].set_xticks([x for x in range(0,len(xtickslabels[i]))])\n",
    "    plot_4.axes[0,0].set_xticklabels(xtickslabels[i], rotation=90)"
   ]
  },
  {
   "cell_type": "markdown",
   "metadata": {},
   "source": [
    "The following observations can be seen on patients for Cluster 4:"
   ]
  },
  {
   "cell_type": "code",
   "execution_count": null,
   "metadata": {},
   "outputs": [],
   "source": [
    "cluster_5 = patients[patients['CLUSTER']==5].value_counts()\n",
    "cluster_5.to_csv(\"../results/cluster_5.csv\")\n",
    "\n",
    "print(cluster_5.head(15))"
   ]
  },
  {
   "cell_type": "code",
   "execution_count": null,
   "metadata": {},
   "outputs": [],
   "source": [
    "cluster_6 = patients[patients['CLUSTER']==6].value_counts()\n",
    "cluster_6.to_csv(\"../results/cluster_6.csv\")\n",
    "\n",
    "print(cluster_6.head(15))"
   ]
  },
  {
   "cell_type": "markdown",
   "metadata": {},
   "source": [
    "**Identification of Each Cluster**"
   ]
  },
  {
   "cell_type": "code",
   "execution_count": null,
   "metadata": {},
   "outputs": [],
   "source": [
    "cluster_0"
   ]
  },
  {
   "cell_type": "markdown",
   "metadata": {},
   "source": [
    "## PART 5: Conclusion"
   ]
  },
  {
   "cell_type": "markdown",
   "metadata": {},
   "source": [
    "**Comparison with Existing Model**"
   ]
  },
  {
   "cell_type": "markdown",
   "metadata": {},
   "source": [
    "The existing model we chose is the model used in the *Implementation of K-Modes Algorithm for Clustering of Stress Causes in University Students*. Number of clusters was optimized using the **Elbow Method** which is the same method we used."
   ]
  },
  {
   "cell_type": "code",
   "execution_count": null,
   "metadata": {},
   "outputs": [],
   "source": []
  }
 ],
 "metadata": {
  "interpreter": {
   "hash": "a0f5e4c9d0504a47335ac3e343711637638e4eba2acc89b1cac5dc9f5f87e758"
  },
  "kernelspec": {
   "display_name": "Python 3 (ipykernel)",
   "language": "python",
   "name": "python3"
  },
  "language_info": {
   "codemirror_mode": {
    "name": "ipython",
    "version": 3
   },
   "file_extension": ".py",
   "mimetype": "text/x-python",
   "name": "python",
   "nbconvert_exporter": "python",
   "pygments_lexer": "ipython3",
   "version": "3.9.12"
  }
 },
 "nbformat": 4,
 "nbformat_minor": 2
}
