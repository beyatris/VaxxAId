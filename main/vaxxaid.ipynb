{
 "cells": [
  {
   "cell_type": "markdown",
   "metadata": {},
   "source": [
    "# vaxxAId\n",
    "\n",
<<<<<<< HEAD
    "**VaxxAId** aims to cluster and find similarities among patients who experienced COVID-19 vaccine adverse reactions or side effects based on the reports from the Vaccine Adverse Event Reporting System (VAERS). This would aid in the identification and classification of patients at risk of such effects. It will use the **K-modes clustering algorithm** to cluster the reports based on features such as patient outcomes, demographics, type of vaccine received, etc."
=======
    "**VaxxAId** aims to cluster and find similarities among patients who experienced COVID-19 vaccine adverse reactions or side effects based on the reports from the Vaccine Adverse Event Reporting System (VAERS). This would aid in the identification and classification of patients at risk of such effects. It will use the **K-modes clustering algorithm** to cluster the reports based on features such as patient outcomes, adverse effects/symptoms experienced, type of vaccine received, etc."
>>>>>>> e97cf9d2e04c2b0a427bc7d32b16dcfc912f4562
   ]
  },
  {
   "cell_type": "markdown",
   "metadata": {},
   "source": [
    "## Loading the datasets"
   ]
  },
  {
   "cell_type": "code",
<<<<<<< HEAD
   "execution_count": 3,
=======
   "execution_count": 261,
>>>>>>> e97cf9d2e04c2b0a427bc7d32b16dcfc912f4562
   "metadata": {},
   "outputs": [
    {
     "name": "stderr",
     "output_type": "stream",
     "text": [
<<<<<<< HEAD
      "C:\\Users\\ADMIN\\AppData\\Local\\Temp\\ipykernel_14748\\1994910184.py:11: DtypeWarning: Columns (7,12,23) have mixed types. Specify dtype option on import or set low_memory=False.\n",
=======
      "C:\\Users\\ADMIN\\AppData\\Local\\Temp\\ipykernel_11420\\615017904.py:9: DtypeWarning: Columns (7,12,23) have mixed types. Specify dtype option on import or set low_memory=False.\n",
>>>>>>> e97cf9d2e04c2b0a427bc7d32b16dcfc912f4562
      "  patients = pd.read_csv('../data/2021VAERSDATA.csv', encoding='latin1')\n"
     ]
    },
    {
     "data": {
      "text/html": [
       "<div>\n",
       "<style scoped>\n",
       "    .dataframe tbody tr th:only-of-type {\n",
       "        vertical-align: middle;\n",
       "    }\n",
       "\n",
       "    .dataframe tbody tr th {\n",
       "        vertical-align: top;\n",
       "    }\n",
       "\n",
       "    .dataframe thead th {\n",
       "        text-align: right;\n",
       "    }\n",
       "</style>\n",
       "<table border=\"1\" class=\"dataframe\">\n",
       "  <thead>\n",
       "    <tr style=\"text-align: right;\">\n",
       "      <th></th>\n",
       "      <th>VAERS_ID</th>\n",
       "      <th>STATE</th>\n",
       "      <th>AGE_YRS</th>\n",
       "      <th>SEX</th>\n",
       "      <th>DIED</th>\n",
       "      <th>L_THREAT</th>\n",
       "      <th>ER_VISIT</th>\n",
       "      <th>HOSPITAL</th>\n",
       "      <th>DISABLE</th>\n",
       "      <th>BIRTH_DEFECT</th>\n",
       "      <th>RECOVD</th>\n",
       "      <th>V_ADMINBY</th>\n",
<<<<<<< HEAD
=======
       "      <th>VAX_TYPE</th>\n",
>>>>>>> e97cf9d2e04c2b0a427bc7d32b16dcfc912f4562
       "      <th>VAX_MANU</th>\n",
       "      <th>VAX_SITE</th>\n",
       "      <th>VAX_ROUTE</th>\n",
       "    </tr>\n",
       "  </thead>\n",
       "  <tbody>\n",
       "    <tr>\n",
       "      <th>0</th>\n",
       "      <td>916600</td>\n",
       "      <td>TX</td>\n",
       "      <td>33.0</td>\n",
       "      <td>F</td>\n",
       "      <td>NaN</td>\n",
       "      <td>NaN</td>\n",
       "      <td>NaN</td>\n",
       "      <td>NaN</td>\n",
       "      <td>NaN</td>\n",
       "      <td>NaN</td>\n",
       "      <td>Y</td>\n",
       "      <td>PVT</td>\n",
<<<<<<< HEAD
=======
       "      <td>COVID19</td>\n",
>>>>>>> e97cf9d2e04c2b0a427bc7d32b16dcfc912f4562
       "      <td>MODERNA</td>\n",
       "      <td>LA</td>\n",
       "      <td>IM</td>\n",
       "    </tr>\n",
       "    <tr>\n",
       "      <th>1</th>\n",
       "      <td>916601</td>\n",
       "      <td>CA</td>\n",
       "      <td>73.0</td>\n",
       "      <td>F</td>\n",
       "      <td>NaN</td>\n",
       "      <td>NaN</td>\n",
       "      <td>NaN</td>\n",
       "      <td>NaN</td>\n",
       "      <td>NaN</td>\n",
       "      <td>NaN</td>\n",
       "      <td>Y</td>\n",
       "      <td>SEN</td>\n",
<<<<<<< HEAD
=======
       "      <td>COVID19</td>\n",
>>>>>>> e97cf9d2e04c2b0a427bc7d32b16dcfc912f4562
       "      <td>MODERNA</td>\n",
       "      <td>RA</td>\n",
       "      <td>IM</td>\n",
       "    </tr>\n",
       "    <tr>\n",
       "      <th>2</th>\n",
       "      <td>916602</td>\n",
       "      <td>WA</td>\n",
       "      <td>23.0</td>\n",
       "      <td>F</td>\n",
       "      <td>NaN</td>\n",
       "      <td>NaN</td>\n",
       "      <td>NaN</td>\n",
       "      <td>NaN</td>\n",
       "      <td>NaN</td>\n",
       "      <td>NaN</td>\n",
       "      <td>U</td>\n",
       "      <td>SEN</td>\n",
<<<<<<< HEAD
=======
       "      <td>COVID19</td>\n",
>>>>>>> e97cf9d2e04c2b0a427bc7d32b16dcfc912f4562
       "      <td>PFIZER\\BIONTECH</td>\n",
       "      <td>LA</td>\n",
       "      <td>IM</td>\n",
       "    </tr>\n",
       "    <tr>\n",
       "      <th>3</th>\n",
       "      <td>916603</td>\n",
       "      <td>WA</td>\n",
       "      <td>58.0</td>\n",
       "      <td>F</td>\n",
       "      <td>NaN</td>\n",
       "      <td>NaN</td>\n",
       "      <td>NaN</td>\n",
       "      <td>NaN</td>\n",
       "      <td>NaN</td>\n",
       "      <td>NaN</td>\n",
       "      <td>Y</td>\n",
       "      <td>WRK</td>\n",
<<<<<<< HEAD
=======
       "      <td>COVID19</td>\n",
>>>>>>> e97cf9d2e04c2b0a427bc7d32b16dcfc912f4562
       "      <td>MODERNA</td>\n",
       "      <td>NaN</td>\n",
       "      <td>NaN</td>\n",
       "    </tr>\n",
       "    <tr>\n",
       "      <th>4</th>\n",
       "      <td>916604</td>\n",
       "      <td>TX</td>\n",
       "      <td>47.0</td>\n",
       "      <td>F</td>\n",
       "      <td>NaN</td>\n",
       "      <td>NaN</td>\n",
       "      <td>NaN</td>\n",
       "      <td>NaN</td>\n",
       "      <td>NaN</td>\n",
       "      <td>NaN</td>\n",
       "      <td>N</td>\n",
       "      <td>PUB</td>\n",
<<<<<<< HEAD
=======
       "      <td>COVID19</td>\n",
>>>>>>> e97cf9d2e04c2b0a427bc7d32b16dcfc912f4562
       "      <td>MODERNA</td>\n",
       "      <td>LA</td>\n",
       "      <td>IM</td>\n",
       "    </tr>\n",
       "    <tr>\n",
       "      <th>...</th>\n",
       "      <td>...</td>\n",
       "      <td>...</td>\n",
       "      <td>...</td>\n",
       "      <td>...</td>\n",
       "      <td>...</td>\n",
       "      <td>...</td>\n",
       "      <td>...</td>\n",
       "      <td>...</td>\n",
       "      <td>...</td>\n",
       "      <td>...</td>\n",
       "      <td>...</td>\n",
       "      <td>...</td>\n",
       "      <td>...</td>\n",
       "      <td>...</td>\n",
       "      <td>...</td>\n",
<<<<<<< HEAD
=======
       "      <td>...</td>\n",
>>>>>>> e97cf9d2e04c2b0a427bc7d32b16dcfc912f4562
       "    </tr>\n",
       "    <tr>\n",
       "      <th>34116</th>\n",
       "      <td>1113917</td>\n",
       "      <td>FL</td>\n",
       "      <td>88.0</td>\n",
       "      <td>F</td>\n",
       "      <td>NaN</td>\n",
       "      <td>NaN</td>\n",
       "      <td>NaN</td>\n",
       "      <td>Y</td>\n",
       "      <td>NaN</td>\n",
       "      <td>NaN</td>\n",
       "      <td>U</td>\n",
       "      <td>UNK</td>\n",
<<<<<<< HEAD
=======
       "      <td>COVID19</td>\n",
>>>>>>> e97cf9d2e04c2b0a427bc7d32b16dcfc912f4562
       "      <td>MODERNA</td>\n",
       "      <td>NaN</td>\n",
       "      <td>OT</td>\n",
       "    </tr>\n",
       "    <tr>\n",
       "      <th>34117</th>\n",
       "      <td>1113920</td>\n",
       "      <td>PA</td>\n",
       "      <td>83.0</td>\n",
       "      <td>F</td>\n",
       "      <td>NaN</td>\n",
       "      <td>NaN</td>\n",
       "      <td>NaN</td>\n",
       "      <td>NaN</td>\n",
       "      <td>NaN</td>\n",
       "      <td>NaN</td>\n",
       "      <td>Y</td>\n",
       "      <td>UNK</td>\n",
<<<<<<< HEAD
=======
       "      <td>COVID19</td>\n",
>>>>>>> e97cf9d2e04c2b0a427bc7d32b16dcfc912f4562
       "      <td>PFIZER\\BIONTECH</td>\n",
       "      <td>NaN</td>\n",
       "      <td>NaN</td>\n",
       "    </tr>\n",
       "    <tr>\n",
       "      <th>34118</th>\n",
       "      <td>1113963</td>\n",
       "      <td>MS</td>\n",
       "      <td>59.0</td>\n",
       "      <td>F</td>\n",
       "      <td>Y</td>\n",
       "      <td>NaN</td>\n",
       "      <td>NaN</td>\n",
       "      <td>NaN</td>\n",
       "      <td>NaN</td>\n",
       "      <td>NaN</td>\n",
       "      <td>N</td>\n",
       "      <td>PVT</td>\n",
<<<<<<< HEAD
=======
       "      <td>COVID19</td>\n",
>>>>>>> e97cf9d2e04c2b0a427bc7d32b16dcfc912f4562
       "      <td>PFIZER\\BIONTECH</td>\n",
       "      <td>NaN</td>\n",
       "      <td>NaN</td>\n",
       "    </tr>\n",
       "    <tr>\n",
       "      <th>34119</th>\n",
       "      <td>1115045</td>\n",
       "      <td>AZ</td>\n",
       "      <td>57.0</td>\n",
       "      <td>M</td>\n",
       "      <td>Y</td>\n",
       "      <td>NaN</td>\n",
       "      <td>NaN</td>\n",
       "      <td>NaN</td>\n",
       "      <td>NaN</td>\n",
       "      <td>NaN</td>\n",
       "      <td>N</td>\n",
       "      <td>UNK</td>\n",
<<<<<<< HEAD
=======
       "      <td>COVID19</td>\n",
>>>>>>> e97cf9d2e04c2b0a427bc7d32b16dcfc912f4562
       "      <td>MODERNA</td>\n",
       "      <td>NaN</td>\n",
       "      <td>OT</td>\n",
       "    </tr>\n",
       "    <tr>\n",
       "      <th>34120</th>\n",
       "      <td>1115348</td>\n",
       "      <td>NC</td>\n",
       "      <td>NaN</td>\n",
       "      <td>F</td>\n",
       "      <td>Y</td>\n",
       "      <td>NaN</td>\n",
       "      <td>NaN</td>\n",
       "      <td>NaN</td>\n",
       "      <td>NaN</td>\n",
       "      <td>NaN</td>\n",
       "      <td>N</td>\n",
       "      <td>UNK</td>\n",
<<<<<<< HEAD
=======
       "      <td>COVID19</td>\n",
>>>>>>> e97cf9d2e04c2b0a427bc7d32b16dcfc912f4562
       "      <td>MODERNA</td>\n",
       "      <td>LA</td>\n",
       "      <td>OT</td>\n",
       "    </tr>\n",
       "  </tbody>\n",
       "</table>\n",
<<<<<<< HEAD
       "<p>34174 rows × 15 columns</p>\n",
=======
       "<p>34174 rows × 16 columns</p>\n",
>>>>>>> e97cf9d2e04c2b0a427bc7d32b16dcfc912f4562
       "</div>"
      ],
      "text/plain": [
       "       VAERS_ID STATE  AGE_YRS SEX DIED L_THREAT ER_VISIT HOSPITAL DISABLE  \\\n",
       "0        916600    TX     33.0   F  NaN      NaN      NaN      NaN     NaN   \n",
       "1        916601    CA     73.0   F  NaN      NaN      NaN      NaN     NaN   \n",
       "2        916602    WA     23.0   F  NaN      NaN      NaN      NaN     NaN   \n",
       "3        916603    WA     58.0   F  NaN      NaN      NaN      NaN     NaN   \n",
       "4        916604    TX     47.0   F  NaN      NaN      NaN      NaN     NaN   \n",
       "...         ...   ...      ...  ..  ...      ...      ...      ...     ...   \n",
       "34116   1113917    FL     88.0   F  NaN      NaN      NaN        Y     NaN   \n",
       "34117   1113920    PA     83.0   F  NaN      NaN      NaN      NaN     NaN   \n",
       "34118   1113963    MS     59.0   F    Y      NaN      NaN      NaN     NaN   \n",
       "34119   1115045    AZ     57.0   M    Y      NaN      NaN      NaN     NaN   \n",
       "34120   1115348    NC      NaN   F    Y      NaN      NaN      NaN     NaN   \n",
       "\n",
<<<<<<< HEAD
       "      BIRTH_DEFECT RECOVD V_ADMINBY         VAX_MANU VAX_SITE VAX_ROUTE  \n",
       "0              NaN      Y       PVT          MODERNA       LA        IM  \n",
       "1              NaN      Y       SEN          MODERNA       RA        IM  \n",
       "2              NaN      U       SEN  PFIZER\\BIONTECH       LA        IM  \n",
       "3              NaN      Y       WRK          MODERNA      NaN       NaN  \n",
       "4              NaN      N       PUB          MODERNA       LA        IM  \n",
       "...            ...    ...       ...              ...      ...       ...  \n",
       "34116          NaN      U       UNK          MODERNA      NaN        OT  \n",
       "34117          NaN      Y       UNK  PFIZER\\BIONTECH      NaN       NaN  \n",
       "34118          NaN      N       PVT  PFIZER\\BIONTECH      NaN       NaN  \n",
       "34119          NaN      N       UNK          MODERNA      NaN        OT  \n",
       "34120          NaN      N       UNK          MODERNA       LA        OT  \n",
       "\n",
       "[34174 rows x 15 columns]"
      ]
     },
     "execution_count": 3,
=======
       "      BIRTH_DEFECT RECOVD V_ADMINBY VAX_TYPE         VAX_MANU VAX_SITE  \\\n",
       "0              NaN      Y       PVT  COVID19          MODERNA       LA   \n",
       "1              NaN      Y       SEN  COVID19          MODERNA       RA   \n",
       "2              NaN      U       SEN  COVID19  PFIZER\\BIONTECH       LA   \n",
       "3              NaN      Y       WRK  COVID19          MODERNA      NaN   \n",
       "4              NaN      N       PUB  COVID19          MODERNA       LA   \n",
       "...            ...    ...       ...      ...              ...      ...   \n",
       "34116          NaN      U       UNK  COVID19          MODERNA      NaN   \n",
       "34117          NaN      Y       UNK  COVID19  PFIZER\\BIONTECH      NaN   \n",
       "34118          NaN      N       PVT  COVID19  PFIZER\\BIONTECH      NaN   \n",
       "34119          NaN      N       UNK  COVID19          MODERNA      NaN   \n",
       "34120          NaN      N       UNK  COVID19          MODERNA       LA   \n",
       "\n",
       "      VAX_ROUTE  \n",
       "0            IM  \n",
       "1            IM  \n",
       "2            IM  \n",
       "3           NaN  \n",
       "4            IM  \n",
       "...         ...  \n",
       "34116        OT  \n",
       "34117       NaN  \n",
       "34118       NaN  \n",
       "34119        OT  \n",
       "34120        OT  \n",
       "\n",
       "[34174 rows x 16 columns]"
      ]
     },
     "execution_count": 261,
>>>>>>> e97cf9d2e04c2b0a427bc7d32b16dcfc912f4562
     "metadata": {},
     "output_type": "execute_result"
    }
   ],
   "source": [
    "# Load the datasets\n",
    "\n",
    "import pandas as pd\n",
    "import numpy as np\n",
    "import math\n",
    "import matplotlib.pyplot as plt\n",
    "import seaborn as sns\n",
<<<<<<< HEAD
    "import ipynb.fs.defs.utils as utils\n",
    "\n",
=======
>>>>>>> e97cf9d2e04c2b0a427bc7d32b16dcfc912f4562
    "\n",
    "patients = pd.read_csv('../data/2021VAERSDATA.csv', encoding='latin1')\n",
    "vaccine = pd.read_csv('../data/2021VAERSVAX.csv', encoding='latin1')\n",
    "\n",
<<<<<<< HEAD
    "# patients = pd.concat([patients2021, patients2022], axis=0)\n",
    "# vaccine = pd.concat([vaccine2021, vaccine2022], axis=0)\n",
    "\n",
=======
>>>>>>> e97cf9d2e04c2b0a427bc7d32b16dcfc912f4562
    "\n",
    "# Joining the datasets on VAERS_ID\n",
    "\n",
    "patients = patients.join(vaccine.set_index('VAERS_ID'), on='VAERS_ID', how='inner')\n",
    "\n",
    "# Keep only the following columns\n",
    "\n",
    "features = ['VAERS_ID','STATE','AGE_YRS','SEX','DIED','L_THREAT','ER_VISIT','HOSPITAL','DISABLE','BIRTH_DEFECT','RECOVD','V_ADMINBY','VAX_TYPE','VAX_MANU','VAX_SITE','VAX_ROUTE']\n",
    "patients = patients[features]\n",
    "\n",
    "# Keep only reports on COVID19 vaccine\n",
<<<<<<< HEAD
    "\n",
    "patients = patients[patients['VAX_TYPE']=='COVID19']\n",
    "\n",
    "# Drop VAX_TYPE column\n",
    "\n",
    "patients = patients.drop(['VAX_TYPE'],axis=1)\n",
    "\n",
    "patients\n"
   ]
  },
  {
   "cell_type": "markdown",
   "metadata": {},
   "source": [
    "Described in the following table are the attributes for the clustering process. All of these are categorical data.\n",
    "\n",
    "| Attributes | Data Type | Description |\n",
    "| ---------- | --------- | ----------- |\n",
    "| `STATE`        | char(2)   | Home state of the vaccinee                                  |\n",
    "| `AGE_GRP`      | range     | Age group                                                   |\n",
    "| `SEX`          | char(1)   | Sex                                                         |\n",
    "| `DIED`         | char(1)   | Adverse effect caused death of the patient                  |\n",
    "| `L_THREAT`     | char(1)   | Life-threatening event associated with the vaccination      |\n",
    "| `ER_VISIT`     | char(1)   | Patient required ER visit after experiencing adverse effect |\n",
    "| `HOSPITAL`     | char(1)   | Patient was hospitalized after experiencing adverse effect  |\n",
    "| `DISABLE`      | char(1)   | Patient was disabled after experiencing adverse effect      |\n",
    "| `BIRTH_DEFECT` | char(1)   | Patient has birth defect                                    |\n",
    "| `RECOVD`       | char(1)   | Patient recovered from adverse effect                       |\n",
    "| `V_ADMINBY`    | char(3)   | Vaccine administered at                                     |\n",
    "| `VAX_MANU`     | char(40)  | Vaccine manufacterer                                        |\n",
    "| `VAX_SITE`     | char(6)   | Vaccination anatomic site                                   |\n",
    "| `VAX_ROUTE`    | char(6)   | Vaccine route of administration                             |"
=======
    "patients = patients[patients['VAX_TYPE']=='COVID19']\n",
    "\n",
    "patients"
>>>>>>> e97cf9d2e04c2b0a427bc7d32b16dcfc912f4562
   ]
  },
  {
   "cell_type": "markdown",
   "metadata": {},
   "source": [
    "## Replacing null values"
   ]
  },
  {
   "cell_type": "code",
<<<<<<< HEAD
   "execution_count": 4,
=======
   "execution_count": 262,
>>>>>>> e97cf9d2e04c2b0a427bc7d32b16dcfc912f4562
   "metadata": {},
   "outputs": [
    {
     "data": {
      "text/html": [
       "<div>\n",
       "<style scoped>\n",
       "    .dataframe tbody tr th:only-of-type {\n",
       "        vertical-align: middle;\n",
       "    }\n",
       "\n",
       "    .dataframe tbody tr th {\n",
       "        vertical-align: top;\n",
       "    }\n",
       "\n",
       "    .dataframe thead th {\n",
       "        text-align: right;\n",
       "    }\n",
       "</style>\n",
       "<table border=\"1\" class=\"dataframe\">\n",
       "  <thead>\n",
       "    <tr style=\"text-align: right;\">\n",
       "      <th></th>\n",
       "      <th>VAERS_ID</th>\n",
       "      <th>STATE</th>\n",
       "      <th>SEX</th>\n",
       "      <th>DIED</th>\n",
       "      <th>L_THREAT</th>\n",
       "      <th>ER_VISIT</th>\n",
       "      <th>HOSPITAL</th>\n",
       "      <th>DISABLE</th>\n",
       "      <th>BIRTH_DEFECT</th>\n",
       "      <th>RECOVD</th>\n",
       "      <th>V_ADMINBY</th>\n",
<<<<<<< HEAD
=======
       "      <th>VAX_TYPE</th>\n",
>>>>>>> e97cf9d2e04c2b0a427bc7d32b16dcfc912f4562
       "      <th>VAX_MANU</th>\n",
       "      <th>VAX_SITE</th>\n",
       "      <th>VAX_ROUTE</th>\n",
       "      <th>AGE_GRP</th>\n",
       "    </tr>\n",
       "  </thead>\n",
       "  <tbody>\n",
       "    <tr>\n",
       "      <th>0</th>\n",
       "      <td>916600</td>\n",
       "      <td>TX</td>\n",
       "      <td>F</td>\n",
       "      <td>N</td>\n",
       "      <td>N</td>\n",
       "      <td>N</td>\n",
       "      <td>N</td>\n",
       "      <td>N</td>\n",
       "      <td>N</td>\n",
       "      <td>Y</td>\n",
       "      <td>PVT</td>\n",
<<<<<<< HEAD
=======
       "      <td>COVID19</td>\n",
>>>>>>> e97cf9d2e04c2b0a427bc7d32b16dcfc912f4562
       "      <td>MODERNA</td>\n",
       "      <td>LA</td>\n",
       "      <td>IM</td>\n",
       "      <td>(30, 40]</td>\n",
       "    </tr>\n",
       "    <tr>\n",
       "      <th>1</th>\n",
       "      <td>916601</td>\n",
       "      <td>CA</td>\n",
       "      <td>F</td>\n",
       "      <td>N</td>\n",
       "      <td>N</td>\n",
       "      <td>N</td>\n",
       "      <td>N</td>\n",
       "      <td>N</td>\n",
       "      <td>N</td>\n",
       "      <td>Y</td>\n",
       "      <td>SEN</td>\n",
<<<<<<< HEAD
=======
       "      <td>COVID19</td>\n",
>>>>>>> e97cf9d2e04c2b0a427bc7d32b16dcfc912f4562
       "      <td>MODERNA</td>\n",
       "      <td>RA</td>\n",
       "      <td>IM</td>\n",
       "      <td>(70, 80]</td>\n",
       "    </tr>\n",
       "    <tr>\n",
       "      <th>2</th>\n",
       "      <td>916602</td>\n",
       "      <td>WA</td>\n",
       "      <td>F</td>\n",
       "      <td>N</td>\n",
       "      <td>N</td>\n",
       "      <td>N</td>\n",
       "      <td>N</td>\n",
       "      <td>N</td>\n",
       "      <td>N</td>\n",
       "      <td>U</td>\n",
       "      <td>SEN</td>\n",
<<<<<<< HEAD
=======
       "      <td>COVID19</td>\n",
>>>>>>> e97cf9d2e04c2b0a427bc7d32b16dcfc912f4562
       "      <td>PFIZER\\BIONTECH</td>\n",
       "      <td>LA</td>\n",
       "      <td>IM</td>\n",
       "      <td>(20, 30]</td>\n",
       "    </tr>\n",
       "    <tr>\n",
       "      <th>3</th>\n",
       "      <td>916603</td>\n",
       "      <td>WA</td>\n",
       "      <td>F</td>\n",
       "      <td>N</td>\n",
       "      <td>N</td>\n",
       "      <td>N</td>\n",
       "      <td>N</td>\n",
       "      <td>N</td>\n",
       "      <td>N</td>\n",
       "      <td>Y</td>\n",
       "      <td>WRK</td>\n",
<<<<<<< HEAD
=======
       "      <td>COVID19</td>\n",
>>>>>>> e97cf9d2e04c2b0a427bc7d32b16dcfc912f4562
       "      <td>MODERNA</td>\n",
       "      <td>UN</td>\n",
       "      <td>UN</td>\n",
       "      <td>(50, 60]</td>\n",
       "    </tr>\n",
       "    <tr>\n",
       "      <th>4</th>\n",
       "      <td>916604</td>\n",
       "      <td>TX</td>\n",
       "      <td>F</td>\n",
       "      <td>N</td>\n",
       "      <td>N</td>\n",
       "      <td>N</td>\n",
       "      <td>N</td>\n",
       "      <td>N</td>\n",
       "      <td>N</td>\n",
       "      <td>N</td>\n",
       "      <td>PUB</td>\n",
<<<<<<< HEAD
=======
       "      <td>COVID19</td>\n",
>>>>>>> e97cf9d2e04c2b0a427bc7d32b16dcfc912f4562
       "      <td>MODERNA</td>\n",
       "      <td>LA</td>\n",
       "      <td>IM</td>\n",
       "      <td>(40, 50]</td>\n",
       "    </tr>\n",
       "  </tbody>\n",
       "</table>\n",
       "</div>"
      ],
      "text/plain": [
       "   VAERS_ID STATE SEX DIED L_THREAT ER_VISIT HOSPITAL DISABLE BIRTH_DEFECT  \\\n",
       "0    916600    TX   F    N        N        N        N       N            N   \n",
       "1    916601    CA   F    N        N        N        N       N            N   \n",
       "2    916602    WA   F    N        N        N        N       N            N   \n",
       "3    916603    WA   F    N        N        N        N       N            N   \n",
       "4    916604    TX   F    N        N        N        N       N            N   \n",
       "\n",
<<<<<<< HEAD
       "  RECOVD V_ADMINBY         VAX_MANU VAX_SITE VAX_ROUTE   AGE_GRP  \n",
       "0      Y       PVT          MODERNA       LA        IM  (30, 40]  \n",
       "1      Y       SEN          MODERNA       RA        IM  (70, 80]  \n",
       "2      U       SEN  PFIZER\\BIONTECH       LA        IM  (20, 30]  \n",
       "3      Y       WRK          MODERNA       UN        UN  (50, 60]  \n",
       "4      N       PUB          MODERNA       LA        IM  (40, 50]  "
      ]
     },
     "execution_count": 4,
=======
       "  RECOVD V_ADMINBY VAX_TYPE         VAX_MANU VAX_SITE VAX_ROUTE   AGE_GRP  \n",
       "0      Y       PVT  COVID19          MODERNA       LA        IM  (30, 40]  \n",
       "1      Y       SEN  COVID19          MODERNA       RA        IM  (70, 80]  \n",
       "2      U       SEN  COVID19  PFIZER\\BIONTECH       LA        IM  (20, 30]  \n",
       "3      Y       WRK  COVID19          MODERNA       UN        UN  (50, 60]  \n",
       "4      N       PUB  COVID19          MODERNA       LA        IM  (40, 50]  "
      ]
     },
     "execution_count": 262,
>>>>>>> e97cf9d2e04c2b0a427bc7d32b16dcfc912f4562
     "metadata": {},
     "output_type": "execute_result"
    }
   ],
   "source": [
    "def replace_values(df):\n",
    "    df['STATE'] = df['STATE'].str.upper()\n",
    "\n",
    "    # Add a new column, AGE_GRP, and drop AGE_YRS\n",
    "    age_max = df['AGE_YRS'].max()\n",
    "    multiplier = 10 ** -1\n",
    "    age_max= int(math.ceil(age_max * multiplier) / multiplier)\n",
    "    age_grp = [i for i in range(0,age_max+1,10)]\n",
<<<<<<< HEAD
    "    df['AGE_GRP'] = pd.cut(x=df['AGE_YRS'], bins=age_grp).astype(str)\n",
    "    df = df.drop(['AGE_YRS'],axis=1)\n",
    "\n",
    "    # Fill na with the following corresponding unknown values\n",
    "    values = {'STATE': 'NA', 'RECOVD': 'U', 'DIED': 'N', 'L_THREAT': 'N', 'ER_VISIT': 'N', 'HOSPITAL':'N', 'DISABLE':'N', 'BIRTH_DEFECT':'N', 'VAX_ROUTE':'UN', 'VAX_SITE':'UN'}\n",
=======
    "    df['AGE_GRP'] = pd.cut(x=df['AGE_YRS'], bins=age_grp)\n",
    "    df = df.drop(['AGE_YRS'],axis=1)\n",
    "\n",
    "    # Fill na with the following corresponding unknown values\n",
    "    values = {'RECOVD': 'U', 'DIED': 'N', 'L_THREAT': 'N', 'ER_VISIT': 'N', 'HOSPITAL':'N', 'DISABLE':'N', 'BIRTH_DEFECT':'N', 'VAX_ROUTE':'UN', 'VAX_SITE':'UN'}\n",
>>>>>>> e97cf9d2e04c2b0a427bc7d32b16dcfc912f4562
    "    df = df.fillna(value=values)\n",
    "    \n",
    "    return df\n",
    "\n",
    "patients = replace_values(patients)\n",
    "patients.head()"
   ]
  },
  {
   "cell_type": "code",
<<<<<<< HEAD
   "execution_count": 5,
=======
   "execution_count": 263,
>>>>>>> e97cf9d2e04c2b0a427bc7d32b16dcfc912f4562
   "metadata": {},
   "outputs": [
    {
     "data": {
      "text/plain": [
<<<<<<< HEAD
       "NA    5528\n",
       "CA    2584\n",
       "TX    1806\n",
       "NY    1788\n",
       "FL    1662\n",
       "IN    1150\n",
       "IL    1149\n",
       "OH    1066\n",
       "PA    1000\n",
       "MI     920\n",
       "MA     849\n",
       "NJ     837\n",
       "NC     751\n",
       "VA     734\n",
       "MD     703\n",
       "AZ     651\n",
       "WI     649\n",
       "WA     635\n",
       "GA     633\n",
       "CO     620\n",
       "MN     611\n",
       "MO     557\n",
       "TN     528\n",
       "CT     527\n",
       "KY     457\n",
       "OR     364\n",
       "IA     337\n",
       "OK     331\n",
       "LA     319\n",
       "KS     296\n",
       "AL     291\n",
       "SC     283\n",
       "AR     268\n",
       "NE     264\n",
       "MT     263\n",
       "ME     239\n",
       "NM     230\n",
       "UT     229\n",
       "WV     219\n",
       "NH     205\n",
       "PR     198\n",
       "NV     198\n",
       "AK     169\n",
       "ID     159\n",
       "MS     149\n",
       "HI     136\n",
       "SD     118\n",
       "RI     114\n",
       "VT     104\n",
       "ND     102\n",
       "DE      66\n",
       "DC      55\n",
       "WY      52\n",
       "GU       7\n",
       "VI       4\n",
       "AS       4\n",
       "MP       3\n",
       "XB       1\n",
       "MH       1\n",
       "FM       1\n",
       "Name: STATE, dtype: int64"
      ]
     },
     "execution_count": 5,
=======
       "VAERS_ID           0\n",
       "STATE           5528\n",
       "SEX                0\n",
       "DIED               0\n",
       "L_THREAT           0\n",
       "ER_VISIT           0\n",
       "HOSPITAL           0\n",
       "DISABLE            0\n",
       "BIRTH_DEFECT       0\n",
       "RECOVD             0\n",
       "V_ADMINBY          0\n",
       "VAX_TYPE           0\n",
       "VAX_MANU           0\n",
       "VAX_SITE           0\n",
       "VAX_ROUTE          0\n",
       "AGE_GRP         3036\n",
       "dtype: int64"
      ]
     },
     "execution_count": 263,
>>>>>>> e97cf9d2e04c2b0a427bc7d32b16dcfc912f4562
     "metadata": {},
     "output_type": "execute_result"
    }
   ],
   "source": [
<<<<<<< HEAD
    "patients.isna().sum()\n",
    "\n",
    "patients.STATE.value_counts()"
=======
    "patients.isna().sum()"
>>>>>>> e97cf9d2e04c2b0a427bc7d32b16dcfc912f4562
   ]
  },
  {
   "cell_type": "code",
<<<<<<< HEAD
   "execution_count": 6,
=======
   "execution_count": 264,
>>>>>>> e97cf9d2e04c2b0a427bc7d32b16dcfc912f4562
   "metadata": {},
   "outputs": [
    {
     "data": {
      "image/png": "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",
      "text/plain": [
       "<Figure size 432x432 with 1 Axes>"
      ]
     },
     "metadata": {},
     "output_type": "display_data"
    }
   ],
   "source": [
<<<<<<< HEAD
    "utils.barplot(patients['SEX'], \"Sex\")"
   ]
  },
  {
   "cell_type": "markdown",
   "metadata": {},
   "source": [
    "## K-modes Clustering Model Implementation"
=======
    "def barplot(df_col, col):\n",
    "    sns.set(font_scale=1.2)\n",
    "    df_col.value_counts().plot(kind='bar', figsize=(6,6), rot=0)\n",
    "    plt.xlabel(col, labelpad=14)\n",
    "    plt.ylabel(\"Count\", labelpad=14)\n",
    "\n",
    "barplot(patients['SEX'], \"Sex\")"
>>>>>>> e97cf9d2e04c2b0a427bc7d32b16dcfc912f4562
   ]
  },
  {
   "cell_type": "code",
<<<<<<< HEAD
   "execution_count": null,
   "metadata": {},
   "outputs": [],
   "source": []
=======
   "execution_count": 265,
   "metadata": {},
   "outputs": [
    {
     "data": {
      "image/png": "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",
      "text/plain": [
       "<Figure size 432x432 with 1 Axes>"
      ]
     },
     "metadata": {},
     "output_type": "display_data"
    }
   ],
   "source": [
    "barplot(patients['DIED'], \"Died?\")"
   ]
  },
  {
   "cell_type": "code",
   "execution_count": 266,
   "metadata": {},
   "outputs": [
    {
     "data": {
      "image/png": "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",
      "text/plain": [
       "<Figure size 432x432 with 1 Axes>"
      ]
     },
     "metadata": {},
     "output_type": "display_data"
    }
   ],
   "source": [
    "barplot(patients['RECOVD'], \"Recovered?\")"
   ]
>>>>>>> e97cf9d2e04c2b0a427bc7d32b16dcfc912f4562
  }
 ],
 "metadata": {
  "interpreter": {
   "hash": "a0f5e4c9d0504a47335ac3e343711637638e4eba2acc89b1cac5dc9f5f87e758"
  },
  "kernelspec": {
   "display_name": "Python 3.9.12 ('cs180-mp')",
   "language": "python",
   "name": "python3"
  },
  "language_info": {
   "codemirror_mode": {
    "name": "ipython",
    "version": 3
   },
   "file_extension": ".py",
   "mimetype": "text/x-python",
   "name": "python",
   "nbconvert_exporter": "python",
   "pygments_lexer": "ipython3",
   "version": "3.9.12"
  },
  "orig_nbformat": 4
 },
 "nbformat": 4,
 "nbformat_minor": 2
}
